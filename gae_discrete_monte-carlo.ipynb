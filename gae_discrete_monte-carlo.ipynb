{
 "cells": [
  {
   "attachments": {},
   "cell_type": "markdown",
   "metadata": {},
   "source": [
    "# Generalized Advantage Estimate (GAE) Monte-Carlo\n",
    "\n",
    "This is the GAE algorithm with a discrete action space (only works on environments with discrete actions) and Monte-Carlo parameter updates. Generalized Advantage Estimate (GAE) is a policy gradient method, but it can also be implemented using the actor-critic method. This implementation is closer to a pure policy gradient approach, since bootstrapping is only used in the odd case that the environment doesn't enter a terminal state before the steps limit. We will implement GAE by adapting A2C, which means we will synchronously run multiple environments in parallel. The advantage function in A2C will be swapped for the GAE advantage function. \n",
    "\n",
    "The advantage function, $A^{\\pi}$, following policy $\\pi$ is defined by:\n",
    "$$A^{\\pi} = Q^{\\pi}(s_t, a_t) - V^{\\pi}(s_t),$$\n",
    "where $Q^{\\pi}(s_t, a_t)$ is the action-value function following policy $\\pi$ and $V^{\\pi}(s_t)$ is the state-value function following policy $\\pi$. The advantage function essentially measures the advantage gained (or lost) by taking the action $a_t$ in state $s_t$ over the average return of all immediate actions, and then following policy $\\pi$ after. We don't know the absolute value of the advantage, $A^{\\pi}$, hence we need to find an advantage estimate, $\\hat{A}$, as a substitute.\n",
    "\n",
    "GAE is a good alternative to the advantage function in A2C, because it has lower bias at the cost of a minor increase in variance. GAE is defined by:\n",
    "$$\\hat{A}_{t}^{GAE} = \\sum_{l=0}^{T}(\\gamma \\lambda)^{l}\\delta_{t+l},$$ \n",
    "where $\\delta_{t+l}$ is the TD error, $\\gamma$ is the discount rate, $\\lambda$ is the decay rate and $T$ is the final timestep. The bias-variance trade-off can be finetuned by altering the discount rate $\\gamma$ and/or the decay rate $\\lambda$. Larger discount/decay rates lead to higher variance and lower bias and lower discount/decay rates lead to lower variance and higher bias. \n",
    "The state-value function parameter update is given by:\n",
    "$$w \\leftarrow w + \\alpha^{w}\\nabla{(\\hat{A}_{t}^{GAE})}^2,$$\n",
    "where $\\alpha$ is the step-size/learning rate.\n",
    "\n",
    "The policy function update is given by:\n",
    "$$\\theta \\leftarrow \\theta + \\alpha^{\\theta} \\nabla_\\theta \\log(\\pi_\\theta(a_t | s_t))\\hat{A}_{t}^{GAE}.$$\n",
    "\n",
    "\n",
    "For more information on the Generalized Advantage Estimate algorithm, see the original paper [1] [High-Dimensional Continuous Control Using Generalized Advantage Estimation](https://arxiv.org/abs/1506.02438), the blog post [2] [Generalized Advantage Estimate: Maths and Code](https://towardsdatascience.com/generalized-advantage-estimate-maths-and-code-b5d5bd3ce737), and the notebook [3] [RL Adventure2 GAE](https://github.com/higgsfield/RL-Adventure-2/blob/master/2.gae.ipynb).\n"
   ]
  },
  {
   "cell_type": "code",
   "execution_count": 1,
   "metadata": {},
   "outputs": [],
   "source": [
    "import os\n",
    "import random\n",
    "import numpy as np\n",
    "from functools import partial\n",
    "import gymnasium as gym\n",
    "from gymnasium.wrappers import RecordVideo\n",
    "from IPython.display import Video\n",
    "import jax\n",
    "import flax.linen as nn\n",
    "from jax import grad, value_and_grad\n",
    "import jax.numpy as jnp\n",
    "import optax\n",
    "import matplotlib.pyplot as plt\n",
    "\n",
    "from vec_env.subproc_vec_env import SubprocVecEnv\n",
    "# Print numpy array floats with 2 decimal places\n",
    "np.set_printoptions(precision=2, suppress=True)"
   ]
  },
  {
   "cell_type": "code",
   "execution_count": 2,
   "metadata": {},
   "outputs": [],
   "source": [
    "# Type of environment, options include:\n",
    "# CartPole-v1, MountainCar-v0, LunarLander-v2\n",
    "ENV_TYPE = \"CartPole-v1\"\n",
    "# Choose number of parallel environments, \n",
    "# don't exceed the number of computer threads\n",
    "num_envs = 10\n",
    "\n",
    "# Save videos from training\n",
    "SAVE_VIDEOS = False\n",
    "VIDEOS_ROOT_DIR = './videos/gae_discrete_monte-carlo/'"
   ]
  },
  {
   "cell_type": "code",
   "execution_count": 3,
   "metadata": {},
   "outputs": [],
   "source": [
    "def make_env(env_id):\n",
    "    \"\"\"\n",
    "    Returns a single environment object, \n",
    "    which will be used for parallel execution.\n",
    "    \"\"\"\n",
    "    def _init():\n",
    "        env = gym.make(env_id)\n",
    "        return env\n",
    "    return _init"
   ]
  },
  {
   "cell_type": "code",
   "execution_count": 4,
   "metadata": {},
   "outputs": [],
   "source": [
    "# Create multiple envs for parallel execution\n",
    "envs = SubprocVecEnv([make_env(ENV_TYPE) for _ in range(num_envs)])\n",
    "\n",
    "num_actions = envs.action_space.n\n",
    "obs_dims = envs.observation_space.shape\n",
    "obs_upper_bounds = envs.observation_space.high\n",
    "obs_lower_bounds = envs.observation_space.low"
   ]
  },
  {
   "attachments": {},
   "cell_type": "markdown",
   "metadata": {},
   "source": [
    "## Create The Policy "
   ]
  },
  {
   "cell_type": "code",
   "execution_count": 5,
   "metadata": {},
   "outputs": [
    {
     "name": "stderr",
     "output_type": "stream",
     "text": [
      "/home/ubuntu20/anaconda3/envs/flax/lib/python3.9/site-packages/numpy/core/shape_base.py:420: VisibleDeprecationWarning: Creating an ndarray from ragged nested sequences (which is a list-or-tuple of lists-or-tuples-or ndarrays with different lengths or shapes) is deprecated. If you meant to do this, you must specify 'dtype=object' when creating the ndarray.\n",
      "  arrays = [asanyarray(arr) for arr in arrays]\n"
     ]
    },
    {
     "name": "stdout",
     "output_type": "stream",
     "text": [
      "\n",
      "\u001b[3m                               _policy_fn Summary                               \u001b[0m\n",
      "┏━━━━━━━━━┳━━━━━━━━━━━━┳━━━━━━━━━━━━━━━━━┳━━━━━━━━━━━━━━━━━┳━━━━━━━━━━━━━━━━━━━┓\n",
      "┃\u001b[1m \u001b[0m\u001b[1mpath   \u001b[0m\u001b[1m \u001b[0m┃\u001b[1m \u001b[0m\u001b[1mmodule    \u001b[0m\u001b[1m \u001b[0m┃\u001b[1m \u001b[0m\u001b[1minputs         \u001b[0m\u001b[1m \u001b[0m┃\u001b[1m \u001b[0m\u001b[1moutputs        \u001b[0m\u001b[1m \u001b[0m┃\u001b[1m \u001b[0m\u001b[1mparams           \u001b[0m\u001b[1m \u001b[0m┃\n",
      "┡━━━━━━━━━╇━━━━━━━━━━━━╇━━━━━━━━━━━━━━━━━╇━━━━━━━━━━━━━━━━━╇━━━━━━━━━━━━━━━━━━━┩\n",
      "│         │ _policy_fn │ \u001b[2mfloat32\u001b[0m[10,4]   │ \u001b[2mfloat32\u001b[0m[10,2]   │                   │\n",
      "├─────────┼────────────┼─────────────────┼─────────────────┼───────────────────┤\n",
      "│ Dense_0 │ Dense      │ \u001b[2mfloat32\u001b[0m[10,4]   │ \u001b[2mfloat32\u001b[0m[10,256] │ bias:             │\n",
      "│         │            │                 │                 │ \u001b[2mfloat32\u001b[0m[256]      │\n",
      "│         │            │                 │                 │ kernel:           │\n",
      "│         │            │                 │                 │ \u001b[2mfloat32\u001b[0m[4,256]    │\n",
      "│         │            │                 │                 │                   │\n",
      "│         │            │                 │                 │ \u001b[1m1,280 \u001b[0m\u001b[1;2m(5.1 KB)\u001b[0m    │\n",
      "├─────────┼────────────┼─────────────────┼─────────────────┼───────────────────┤\n",
      "│ Dense_1 │ Dense      │ \u001b[2mfloat32\u001b[0m[10,256] │ \u001b[2mfloat32\u001b[0m[10,2]   │ bias: \u001b[2mfloat32\u001b[0m[2]  │\n",
      "│         │            │                 │                 │ kernel:           │\n",
      "│         │            │                 │                 │ \u001b[2mfloat32\u001b[0m[256,2]    │\n",
      "│         │            │                 │                 │                   │\n",
      "│         │            │                 │                 │ \u001b[1m514 \u001b[0m\u001b[1;2m(2.1 KB)\u001b[0m      │\n",
      "├─────────┼────────────┼─────────────────┼─────────────────┼───────────────────┤\n",
      "│\u001b[1m \u001b[0m\u001b[1m       \u001b[0m\u001b[1m \u001b[0m│\u001b[1m \u001b[0m\u001b[1m          \u001b[0m\u001b[1m \u001b[0m│\u001b[1m \u001b[0m\u001b[1m               \u001b[0m\u001b[1m \u001b[0m│\u001b[1m \u001b[0m\u001b[1m          Total\u001b[0m\u001b[1m \u001b[0m│\u001b[1m \u001b[0m\u001b[1m1,794 \u001b[0m\u001b[1;2m(7.2 KB)\u001b[0m\u001b[1m   \u001b[0m\u001b[1m \u001b[0m│\n",
      "└─────────┴────────────┴─────────────────┴─────────────────┴───────────────────┘\n",
      "\u001b[1m                                                                                \u001b[0m\n",
      "\u001b[1m                        Total Parameters: 1,794 \u001b[0m\u001b[1;2m(7.2 KB)\u001b[0m\u001b[1m                        \u001b[0m\n",
      "\n",
      "\n"
     ]
    }
   ],
   "source": [
    "class _policy_fn(nn.Module):\n",
    "    \"\"\"\n",
    "    Policy function is an MLP used to choose the \n",
    "    best possible discrete action given the observations from the state.\n",
    "    Each discrete action is given a probability from 0-1.\n",
    "    The probability distribution can then be used \n",
    "    to stocastically choose the next action.  \n",
    "    \"\"\"\n",
    "    @nn.compact\n",
    "    def __call__(self, x):\n",
    "        x = nn.Dense(256)(x)\n",
    "        x = jax.nn.relu(x)\n",
    "        x = nn.Dense(num_actions)(x)\n",
    "        return jax.nn.softmax(x)\n",
    "\n",
    "# Create the model object\n",
    "policy_fn = _policy_fn()\n",
    "# Display the model details\n",
    "dummy_x = envs.reset()\n",
    "dummy_x = jnp.array(list(dummy_x[:, 0]))\n",
    "rng_key = jax.random.PRNGKey(64)\n",
    "print(policy_fn.tabulate(rng_key, dummy_x))"
   ]
  },
  {
   "cell_type": "code",
   "execution_count": 6,
   "metadata": {},
   "outputs": [
    {
     "name": "stdout",
     "output_type": "stream",
     "text": [
      "\n",
      "\u001b[3m                               _value_fn Summary                                \u001b[0m\n",
      "┏━━━━━━━━━┳━━━━━━━━━━━┳━━━━━━━━━━━━━━━━━┳━━━━━━━━━━━━━━━━━┳━━━━━━━━━━━━━━━━━━━━┓\n",
      "┃\u001b[1m \u001b[0m\u001b[1mpath   \u001b[0m\u001b[1m \u001b[0m┃\u001b[1m \u001b[0m\u001b[1mmodule   \u001b[0m\u001b[1m \u001b[0m┃\u001b[1m \u001b[0m\u001b[1minputs         \u001b[0m\u001b[1m \u001b[0m┃\u001b[1m \u001b[0m\u001b[1moutputs        \u001b[0m\u001b[1m \u001b[0m┃\u001b[1m \u001b[0m\u001b[1mparams            \u001b[0m\u001b[1m \u001b[0m┃\n",
      "┡━━━━━━━━━╇━━━━━━━━━━━╇━━━━━━━━━━━━━━━━━╇━━━━━━━━━━━━━━━━━╇━━━━━━━━━━━━━━━━━━━━┩\n",
      "│         │ _value_fn │ \u001b[2mfloat32\u001b[0m[10,4]   │ \u001b[2mfloat32\u001b[0m[10,1]   │                    │\n",
      "├─────────┼───────────┼─────────────────┼─────────────────┼────────────────────┤\n",
      "│ Dense_0 │ Dense     │ \u001b[2mfloat32\u001b[0m[10,4]   │ \u001b[2mfloat32\u001b[0m[10,256] │ bias: \u001b[2mfloat32\u001b[0m[256] │\n",
      "│         │           │                 │                 │ kernel:            │\n",
      "│         │           │                 │                 │ \u001b[2mfloat32\u001b[0m[4,256]     │\n",
      "│         │           │                 │                 │                    │\n",
      "│         │           │                 │                 │ \u001b[1m1,280 \u001b[0m\u001b[1;2m(5.1 KB)\u001b[0m     │\n",
      "├─────────┼───────────┼─────────────────┼─────────────────┼────────────────────┤\n",
      "│ Dense_1 │ Dense     │ \u001b[2mfloat32\u001b[0m[10,256] │ \u001b[2mfloat32\u001b[0m[10,1]   │ bias: \u001b[2mfloat32\u001b[0m[1]   │\n",
      "│         │           │                 │                 │ kernel:            │\n",
      "│         │           │                 │                 │ \u001b[2mfloat32\u001b[0m[256,1]     │\n",
      "│         │           │                 │                 │                    │\n",
      "│         │           │                 │                 │ \u001b[1m257 \u001b[0m\u001b[1;2m(1.0 KB)\u001b[0m       │\n",
      "├─────────┼───────────┼─────────────────┼─────────────────┼────────────────────┤\n",
      "│\u001b[1m \u001b[0m\u001b[1m       \u001b[0m\u001b[1m \u001b[0m│\u001b[1m \u001b[0m\u001b[1m         \u001b[0m\u001b[1m \u001b[0m│\u001b[1m \u001b[0m\u001b[1m               \u001b[0m\u001b[1m \u001b[0m│\u001b[1m \u001b[0m\u001b[1m          Total\u001b[0m\u001b[1m \u001b[0m│\u001b[1m \u001b[0m\u001b[1m1,537 \u001b[0m\u001b[1;2m(6.1 KB)\u001b[0m\u001b[1m    \u001b[0m\u001b[1m \u001b[0m│\n",
      "└─────────┴───────────┴─────────────────┴─────────────────┴────────────────────┘\n",
      "\u001b[1m                                                                                \u001b[0m\n",
      "\u001b[1m                        Total Parameters: 1,537 \u001b[0m\u001b[1;2m(6.1 KB)\u001b[0m\u001b[1m                        \u001b[0m\n",
      "\n",
      "\n"
     ]
    }
   ],
   "source": [
    "class _value_fn(nn.Module):\n",
    "    \"\"\"\n",
    "    Value function is an MLP used to predict the expected return (value) \n",
    "    given the observations from the state.\n",
    "    The value can then be used for bootstrapping, and/or \n",
    "    calculating the advantage from action chosen in the state. \n",
    "    \"\"\"\n",
    "    @nn.compact\n",
    "    def __call__(self, x):\n",
    "        x = nn.Dense(256)(x)\n",
    "        x = jax.nn.relu(x)\n",
    "        x = nn.Dense(1)(x)\n",
    "        return x\n",
    "\n",
    "# Create the model object\n",
    "value_fn = _value_fn()\n",
    "# Display the model details\n",
    "print(value_fn.tabulate(rng_key, dummy_x))"
   ]
  },
  {
   "cell_type": "code",
   "execution_count": 7,
   "metadata": {},
   "outputs": [],
   "source": [
    "def test_model(policy_variables, env, rng_key):\n",
    "    \"\"\"\n",
    "    Runs a single episode following the policy function, \n",
    "    then returns the episodes rewards and steps.\n",
    "    Args:\n",
    "        policy_variables: Policy functions model parameters.\n",
    "        env: Environment used to interact with.\n",
    "        rng_key: Random number generator key.\n",
    "    Returns:\n",
    "        steps: Number of environment steps.\n",
    "        episode_rewards: List of rewards from the episode.\n",
    "    \"\"\"\n",
    "\n",
    "    terminated, truncated = False, False\n",
    "    episode_rewards = []\n",
    "    steps = 0\n",
    "\n",
    "    state, _ = env.reset()\n",
    "    while not (terminated or truncated):\n",
    "        steps += 1\n",
    "        # Select the action following the parametrized policy\n",
    "        action_dist = policy_fn.apply(policy_variables, state)\n",
    "        action_dist = jnp.array(action_dist).astype(jnp.float32)\n",
    "        # Divide by the total to ensure the values sum to one\n",
    "        action_dist /= action_dist.sum()\n",
    "        rng_key, subkey = jax.random.split(rng_key)\n",
    "        action = jax.random.choice(subkey, jnp.arange(num_actions), p=action_dist)\n",
    "        action = np.array(action)\n",
    "        next_state, reward, terminated, truncated, info = env.step(action)\n",
    "\n",
    "        episode_rewards.append(reward)\n",
    "\n",
    "        state = next_state\n",
    "    episode_rewards = np.array(episode_rewards)\n",
    "    return steps, episode_rewards\n",
    "\n",
    "    "
   ]
  },
  {
   "cell_type": "code",
   "execution_count": 8,
   "metadata": {},
   "outputs": [],
   "source": [
    "def get_gae(\n",
    "    gamma, lamda, values, next_value, rewards, done\n",
    "):\n",
    "    \"\"\"\n",
    "    Get generalized advantage estimate's from rewards for each environment.\n",
    "    Args:\n",
    "        gamma: Trajectory discount (scalar).\n",
    "        lamda: Trace decay rate.\n",
    "        values: Value functions expected returns at each step.\n",
    "        next_value: Value functions bootstrapped return for next state.\n",
    "        rewards: Agent rewards of taking actions in the environment.\n",
    "        done: Flag list for end of episode, \n",
    "            False indicates terminated, and True not terminated.\n",
    "    Returns:\n",
    "        Array of gae's for each environment at each step.\n",
    "    \"\"\"\n",
    "    batch_size = len(done)\n",
    "    values = jnp.array(values + [next_value])\n",
    "    rewards = jnp.array(rewards)\n",
    "    done = jnp.array(done)\n",
    "    advantage = 0\n",
    "    advantages = []\n",
    "\n",
    "    for t in reversed(range(batch_size)):\n",
    "        delta = rewards[t] + (gamma * values[t + 1] * done[t]) - values[t]\n",
    "        advantage = delta + (gamma * lamda * advantage * done[t])\n",
    "        advantages.append(advantage)\n",
    "\n",
    "    return jnp.array(list(reversed(advantages)))"
   ]
  },
  {
   "cell_type": "code",
   "execution_count": 9,
   "metadata": {},
   "outputs": [],
   "source": [
    "def loss_fn(value_variables, policy_variables, rng_key, gamma, trace_decay_rate, max_steps, env_returns, env_steps):\n",
    "    \"\"\"\n",
    "    Runs a single episode in a Monte-Carlo way, \n",
    "    then calculates the actor and critic losses, \n",
    "    which are then combined and returned.\n",
    "    The gradients on this loss function are then used \n",
    "    to update the policy and actor functions.\n",
    "    Args:\n",
    "        value_variables: Value functions model parameters.\n",
    "        policy_variables: Policy functions model parameters.\n",
    "        rng_key: Random number generator key.\n",
    "        gamma: Discount rate for discounting returns.\n",
    "        trace_decay_rate: Trace decay rate for the lambda-returns.\n",
    "        max_steps: Limit on the number of steps in an episode.\n",
    "        env_returns: List containing the returns from all environments each episode.\n",
    "        env_steps: List containing the steps from all environments each episode.\n",
    "    Returns:\n",
    "        Combined loss of the value and actor functions.\n",
    "    \"\"\"\n",
    "    terminated, truncated, term_or_trunc = jnp.repeat(False, num_envs), jnp.repeat(False, num_envs), jnp.repeat(False, num_envs)\n",
    "    episode_log_probs = []\n",
    "    episode_values = []\n",
    "    episode_rewards = []\n",
    "    done_flag = []\n",
    "    steps = 0\n",
    "\n",
    "    states = envs.reset()\n",
    "    states = np.array(list(states[:, 0]))\n",
    "    # Generate an episode following the policy\n",
    "    while not term_or_trunc.all() and steps < max_steps:\n",
    "        steps += 1\n",
    "        # Select the action following the parametrized policy\n",
    "        action_dists = policy_fn.apply(policy_variables, states)\n",
    "        action_dists = jnp.array(action_dists).astype(jnp.float32)\n",
    "        # Divide by the total to ensure the values sum to one\n",
    "        action_dists /= action_dists.sum(axis=1)[..., None]\n",
    "        # Stocastically choose the next action based on the probability distribution\n",
    "        actions = []\n",
    "        for dist in action_dists:\n",
    "            rng_key, subkey = jax.random.split(rng_key)\n",
    "            action = jax.random.choice(subkey, jnp.arange(num_actions), p=dist)\n",
    "            actions.append(action)\n",
    "        actions = np.array(actions)\n",
    "        \n",
    "        next_states, rewards, terminated, truncated, info = envs.step(actions)\n",
    "        # Check if env was terminated or truncated in this episode or one of the previous episodes \n",
    "        # We only want one episode per environment\n",
    "        term_or_trunc = jnp.array([term or trunc or t_or_t for term, trunc, t_or_t in zip(terminated, truncated, term_or_trunc)])\n",
    "        done_flag.append(jnp.invert(term_or_trunc))\n",
    "        # If the episode previously ended, then set the reward to 0, \n",
    "        # we're ignoring rewards after the environment terminated\n",
    "        rewards = jnp.array([reward if not t_or_t else 0 for reward, t_or_t in zip(rewards, term_or_trunc)])\n",
    "        episode_rewards.append(rewards)\n",
    "        # Log probabilities are needed for the actor loss\n",
    "        log_probs = jnp.array([jnp.log(dist[action_index]) for dist, action_index in zip(action_dists, actions)])\n",
    "        episode_log_probs.append(log_probs)\n",
    "        # Entropy is used in the loss function to prevent the model from becoming too deterministic\n",
    "        entropy = jnp.array([-jnp.sum(dist * jnp.log(dist)) for dist in action_dists])\n",
    "        # Estimate the values given the states, then set all terminated states value to 0\n",
    "        values = value_fn.apply(value_variables, states)\n",
    "        values = jnp.squeeze(values)\n",
    "        # We're ignoring values after the environment terminated\n",
    "        values = [value if not t_or_t else 0.0 for value, t_or_t in zip(jnp.array(values), term_or_trunc)]\n",
    "        values = jnp.array(values, dtype=jnp.float32)\n",
    "        episode_values.append(values)\n",
    "\n",
    "        states = next_states\n",
    "\n",
    "    env_returns.append(list(np.array(episode_rewards).sum(axis=0)))\n",
    "    env_steps.append(list(np.array(done_flag).sum(axis=0)))\n",
    "\n",
    "    # Calculate the advantages\n",
    "    next_values = value_fn.apply(value_variables, next_states)\n",
    "    next_values = jnp.squeeze(next_values)\n",
    "    advantages = get_gae(gamma, trace_decay_rate, episode_values, next_values, episode_rewards, done_flag)\n",
    "    # Calculate actor and critic losses, then add entropy \n",
    "    episode_log_probs = jnp.array(episode_log_probs)\n",
    "    actor_loss = -(advantages * episode_log_probs).mean(axis=0)\n",
    "    critic_loss = (advantages**2).mean(axis=0)\n",
    "    loss = (actor_loss + 0.5 * critic_loss - 0.001 * entropy).mean()\n",
    "\n",
    "    return loss"
   ]
  },
  {
   "cell_type": "markdown",
   "metadata": {},
   "source": [
    "## Learn The Optimal Action-Value Function"
   ]
  },
  {
   "cell_type": "code",
   "execution_count": 10,
   "metadata": {},
   "outputs": [
    {
     "name": "stderr",
     "output_type": "stream",
     "text": [
      "/home/ubuntu20/anaconda3/envs/flax/lib/python3.9/site-packages/gymnasium/wrappers/record_video.py:79: UserWarning: \u001b[33mWARN: Overwriting existing videos at /home/ubuntu20/code/rl-tabular-algorithms/videos/gae_discrete_monte-carlo folder (try specifying a different `video_folder` for the `RecordVideo` wrapper if this is not desired)\u001b[0m\n",
      "  logger.warn(\n"
     ]
    },
    {
     "name": "stdout",
     "output_type": "stream",
     "text": [
      "Episode: 0\n"
     ]
    },
    {
     "name": "stderr",
     "output_type": "stream",
     "text": [
      "/tmp/ipykernel_11573/3697472790.py:23: UserWarning: Explicitly requested dtype <class 'jax.numpy.float64'> requested in astype is not available, and will be truncated to dtype float32. To enable more dtypes, set the jax_enable_x64 configuration option or the JAX_ENABLE_X64 shell environment variable. See https://github.com/google/jax#current-gotchas for more.\n",
      "  action_dist = jnp.array(action_dist).astype(jnp.float64)\n"
     ]
    },
    {
     "name": "stdout",
     "output_type": "stream",
     "text": [
      "Moviepy - Building video /home/ubuntu20/code/rl-tabular-algorithms/videos/gae_discrete_monte-carlo/CartPole-v1-episode-0.mp4.\n",
      "Moviepy - Writing video /home/ubuntu20/code/rl-tabular-algorithms/videos/gae_discrete_monte-carlo/CartPole-v1-episode-0.mp4\n",
      "\n"
     ]
    },
    {
     "name": "stderr",
     "output_type": "stream",
     "text": [
      "                                                   "
     ]
    },
    {
     "name": "stdout",
     "output_type": "stream",
     "text": [
      "Moviepy - Done !\n",
      "Moviepy - video ready /home/ubuntu20/code/rl-tabular-algorithms/videos/gae_discrete_monte-carlo/CartPole-v1-episode-0.mp4\n",
      "\tTest Episode 0 Return: 23.00\n"
     ]
    },
    {
     "name": "stderr",
     "output_type": "stream",
     "text": [
      "/home/ubuntu20/anaconda3/envs/flax/lib/python3.9/site-packages/numpy/core/shape_base.py:420: VisibleDeprecationWarning: Creating an ndarray from ragged nested sequences (which is a list-or-tuple of lists-or-tuples-or ndarrays with different lengths or shapes) is deprecated. If you meant to do this, you must specify 'dtype=object' when creating the ndarray.\n",
      "  arrays = [asanyarray(arr) for arr in arrays]\n"
     ]
    },
    {
     "name": "stdout",
     "output_type": "stream",
     "text": [
      "\tReturns: [12. 19. 40. 12. 31. 10. 27. 29. 12.  8.]\n",
      "\tAverage Return: 20.00\n",
      "\tLoss: 23.14\n",
      "Episode: 1\n"
     ]
    },
    {
     "name": "stderr",
     "output_type": "stream",
     "text": [
      "/home/ubuntu20/anaconda3/envs/flax/lib/python3.9/site-packages/numpy/core/shape_base.py:420: VisibleDeprecationWarning: Creating an ndarray from ragged nested sequences (which is a list-or-tuple of lists-or-tuples-or ndarrays with different lengths or shapes) is deprecated. If you meant to do this, you must specify 'dtype=object' when creating the ndarray.\n",
      "  arrays = [asanyarray(arr) for arr in arrays]\n"
     ]
    },
    {
     "name": "stdout",
     "output_type": "stream",
     "text": [
      "\tReturns: [17. 35. 54. 18. 58. 10. 79. 75. 33. 13.]\n",
      "\tAverage Return: 39.20\n",
      "\tLoss: 40.09\n",
      "Episode: 2\n",
      "\tReturns: [33. 47. 94. 22. 85. 33. 67. 46. 34. 30.]\n",
      "\tAverage Return: 49.10\n",
      "\tLoss: 44.19\n",
      "Episode: 3\n"
     ]
    },
    {
     "name": "stderr",
     "output_type": "stream",
     "text": [
      "/tmp/ipykernel_11573/3697472790.py:23: UserWarning: Explicitly requested dtype <class 'jax.numpy.float64'> requested in astype is not available, and will be truncated to dtype float32. To enable more dtypes, set the jax_enable_x64 configuration option or the JAX_ENABLE_X64 shell environment variable. See https://github.com/google/jax#current-gotchas for more.\n",
      "  action_dist = jnp.array(action_dist).astype(jnp.float64)\n"
     ]
    },
    {
     "name": "stdout",
     "output_type": "stream",
     "text": [
      "Moviepy - Building video /home/ubuntu20/code/rl-tabular-algorithms/videos/gae_discrete_monte-carlo/CartPole-v1-episode-1.mp4.\n",
      "Moviepy - Writing video /home/ubuntu20/code/rl-tabular-algorithms/videos/gae_discrete_monte-carlo/CartPole-v1-episode-1.mp4\n",
      "\n"
     ]
    },
    {
     "name": "stderr",
     "output_type": "stream",
     "text": [
      "                                                   "
     ]
    },
    {
     "name": "stdout",
     "output_type": "stream",
     "text": [
      "Moviepy - Done !\n",
      "Moviepy - video ready /home/ubuntu20/code/rl-tabular-algorithms/videos/gae_discrete_monte-carlo/CartPole-v1-episode-1.mp4\n",
      "\tTest Episode 1 Return: 29.00\n"
     ]
    },
    {
     "name": "stderr",
     "output_type": "stream",
     "text": [
      "\r"
     ]
    },
    {
     "name": "stdout",
     "output_type": "stream",
     "text": [
      "\tReturns: [95. 47. 66. 44. 60. 31. 51. 79. 38. 33.]\n",
      "\tAverage Return: 54.40\n",
      "\tLoss: 49.79\n",
      "Episode: 4\n",
      "\tReturns: [ 62.  52.  64.  42.  54.  91. 125.  53.  56.  49.]\n",
      "\tAverage Return: 64.80\n",
      "\tLoss: 48.62\n",
      "Episode: 5\n",
      "\tReturns: [ 33.  65.  47.  40. 133. 101.  80.  47.  43. 129.]\n",
      "\tAverage Return: 71.80\n",
      "\tLoss: 53.29\n",
      "Episode: 6\n",
      "Moviepy - Building video /home/ubuntu20/code/rl-tabular-algorithms/videos/gae_discrete_monte-carlo/CartPole-v1-episode-2.mp4.\n",
      "Moviepy - Writing video /home/ubuntu20/code/rl-tabular-algorithms/videos/gae_discrete_monte-carlo/CartPole-v1-episode-2.mp4\n",
      "\n"
     ]
    },
    {
     "name": "stderr",
     "output_type": "stream",
     "text": [
      "                                                             "
     ]
    },
    {
     "name": "stdout",
     "output_type": "stream",
     "text": [
      "Moviepy - Done !\n",
      "Moviepy - video ready /home/ubuntu20/code/rl-tabular-algorithms/videos/gae_discrete_monte-carlo/CartPole-v1-episode-2.mp4\n",
      "\tTest Episode 2 Return: 70.00\n"
     ]
    },
    {
     "name": "stderr",
     "output_type": "stream",
     "text": [
      "\r"
     ]
    },
    {
     "name": "stdout",
     "output_type": "stream",
     "text": [
      "\tReturns: [ 32.  77.  57. 116. 130. 112.  70.  59.  58.  65.]\n",
      "\tAverage Return: 77.60\n",
      "\tLoss: 60.02\n",
      "Episode: 7\n",
      "\tReturns: [ 51.  54.  79. 134. 102.  48.  87.  55.  71. 116.]\n",
      "\tAverage Return: 79.70\n",
      "\tLoss: 59.58\n",
      "Episode: 8\n",
      "\tReturns: [ 38. 133. 106.  90.  89.  40. 111. 175. 172. 200.]\n",
      "\tAverage Return: 115.40\n",
      "\tLoss: 66.46\n",
      "Episode: 9\n",
      "Moviepy - Building video /home/ubuntu20/code/rl-tabular-algorithms/videos/gae_discrete_monte-carlo/CartPole-v1-episode-3.mp4.\n",
      "Moviepy - Writing video /home/ubuntu20/code/rl-tabular-algorithms/videos/gae_discrete_monte-carlo/CartPole-v1-episode-3.mp4\n",
      "\n"
     ]
    },
    {
     "name": "stderr",
     "output_type": "stream",
     "text": [
      "                                                               \r"
     ]
    },
    {
     "name": "stdout",
     "output_type": "stream",
     "text": [
      "Moviepy - Done !\n",
      "Moviepy - video ready /home/ubuntu20/code/rl-tabular-algorithms/videos/gae_discrete_monte-carlo/CartPole-v1-episode-3.mp4\n",
      "\tTest Episode 3 Return: 130.00\n",
      "\tReturns: [113. 164. 156. 200. 200. 122. 200. 200. 200. 183.]\n",
      "\tAverage Return: 173.80\n",
      "\tLoss: 108.24\n",
      "Episode: 10\n",
      "\tReturns: [103. 188. 200.  71. 200. 191. 200. 108. 200. 200.]\n",
      "\tAverage Return: 166.10\n",
      "\tLoss: 102.57\n",
      "Episode: 11\n",
      "\tReturns: [ 90. 198. 105. 200. 200. 158. 200. 168. 164. 200.]\n",
      "\tAverage Return: 168.30\n",
      "\tLoss: 102.69\n",
      "Episode: 12\n",
      "Moviepy - Building video /home/ubuntu20/code/rl-tabular-algorithms/videos/gae_discrete_monte-carlo/CartPole-v1-episode-4.mp4.\n",
      "Moviepy - Writing video /home/ubuntu20/code/rl-tabular-algorithms/videos/gae_discrete_monte-carlo/CartPole-v1-episode-4.mp4\n",
      "\n"
     ]
    },
    {
     "name": "stderr",
     "output_type": "stream",
     "text": [
      "                                                               \r"
     ]
    },
    {
     "name": "stdout",
     "output_type": "stream",
     "text": [
      "Moviepy - Done !\n",
      "Moviepy - video ready /home/ubuntu20/code/rl-tabular-algorithms/videos/gae_discrete_monte-carlo/CartPole-v1-episode-4.mp4\n",
      "\tTest Episode 4 Return: 187.00\n",
      "\tReturns: [200. 197. 200. 194. 200. 200. 200.  88. 200. 200.]\n",
      "\tAverage Return: 187.90\n",
      "\tLoss: 116.84\n",
      "Episode: 13\n",
      "\tReturns: [200. 169. 200.  60. 200. 200. 200. 100. 200. 200.]\n",
      "\tAverage Return: 172.90\n",
      "\tLoss: 104.09\n",
      "Episode: 14\n",
      "\tReturns: [200. 200. 154.  49. 200.  92. 200. 200. 127. 200.]\n",
      "\tAverage Return: 162.20\n",
      "\tLoss: 96.10\n",
      "Episode: 15\n",
      "Moviepy - Building video /home/ubuntu20/code/rl-tabular-algorithms/videos/gae_discrete_monte-carlo/CartPole-v1-episode-5.mp4.\n",
      "Moviepy - Writing video /home/ubuntu20/code/rl-tabular-algorithms/videos/gae_discrete_monte-carlo/CartPole-v1-episode-5.mp4\n",
      "\n"
     ]
    },
    {
     "name": "stderr",
     "output_type": "stream",
     "text": [
      "                                                             \r"
     ]
    },
    {
     "name": "stdout",
     "output_type": "stream",
     "text": [
      "Moviepy - Done !\n",
      "Moviepy - video ready /home/ubuntu20/code/rl-tabular-algorithms/videos/gae_discrete_monte-carlo/CartPole-v1-episode-5.mp4\n",
      "\tTest Episode 5 Return: 96.00\n",
      "\tReturns: [200. 200. 200.  45. 200. 200. 200. 200. 115. 200.]\n",
      "\tAverage Return: 176.00\n",
      "\tLoss: 104.65\n"
     ]
    }
   ],
   "source": [
    "# Number of episodes to train on\n",
    "episodes = 16\n",
    "# Sliding window for episode evaluation (needs to be less than episodes)\n",
    "episode_window = 3\n",
    "# Episode will terminate before max_steps\n",
    "max_steps = 200\n",
    "# Discount ratio\n",
    "gamma = 0.99\n",
    "trace_decay_rate = 0.95\n",
    "# Step size\n",
    "policy_alpha = 0.01\n",
    "value_alpha = 0.01\n",
    "\n",
    "policy_variables = policy_fn.init(rng_key, dummy_x)\n",
    "policy_optimizer = optax.adam(learning_rate=policy_alpha)\n",
    "policy_opt_state = policy_optimizer.init(policy_variables)\n",
    "\n",
    "value_variables = value_fn.init(rng_key, dummy_x)\n",
    "value_optimizer = optax.adam(learning_rate=value_alpha)\n",
    "value_opt_state = value_optimizer.init(value_variables)\n",
    "\n",
    "# Create multiple envs for parallel execution\n",
    "envs = SubprocVecEnv([make_env(ENV_TYPE) for _ in range(num_envs)])\n",
    "if SAVE_VIDEOS:\n",
    "    # Create a single environment for testing\n",
    "    os.makedirs(VIDEOS_ROOT_DIR, exist_ok=True)\n",
    "    test_returns = []\n",
    "    test_steps = []\n",
    "    env = gym.make(ENV_TYPE, render_mode=\"rgb_array\")\n",
    "    env = gym.wrappers.RecordVideo(\n",
    "        env=env, \n",
    "        video_folder=VIDEOS_ROOT_DIR,\n",
    "        episode_trigger=lambda episode: episode % 1 == 0,\n",
    "        video_length=0,\n",
    "        name_prefix=f\"{ENV_TYPE}\"\n",
    "        ) \n",
    "env_returns = []\n",
    "env_steps = []\n",
    "losses = []\n",
    "\n",
    "for episode in range(episodes):\n",
    "    print(f\"Episode: {episode}\")\n",
    "    # Perform 6 tests and record them at even intervals\n",
    "    if SAVE_VIDEOS and episode % (episodes // 5) == 0:\n",
    "        test_step, test_rewards = test_model(policy_variables, env, rng_key)\n",
    "        test_returns.append(np.sum(test_rewards))\n",
    "        test_steps.append(test_step)\n",
    "        test_episode = episode // (episodes // 5)\n",
    "        print(f\"\\tTest Episode {test_episode} Return: {test_returns[test_episode] :.2f} Steps: {test_steps[test_episode] :.2f}\")\n",
    "\n",
    "    # Run a forward pass on the parallel envs (will last an entire episode) and \n",
    "    # calculate the gradients for value and policy functions \n",
    "    loss, (value_grads, policy_grads) = value_and_grad(loss_fn, argnums=(0, 1))(\n",
    "        value_variables, \n",
    "        policy_variables, \n",
    "        rng_key, \n",
    "        gamma, \n",
    "        trace_decay_rate,\n",
    "        max_steps,\n",
    "        env_returns,\n",
    "        env_steps\n",
    "    )\n",
    "    # Update value function weights\n",
    "    value_updates, value_opt_state = value_optimizer.update(value_grads, value_opt_state, value_variables)\n",
    "    value_variables = optax.apply_updates(value_variables, value_updates)        \n",
    "    # Update policy function weights\n",
    "    policy_updates, policy_opt_state = policy_optimizer.update(policy_grads, policy_opt_state, policy_variables)\n",
    "    policy_variables = optax.apply_updates(policy_variables, policy_updates)\n",
    "\n",
    "\n",
    "    losses.append(loss)\n",
    "    print(f'\\tReturns: {np.array(env_returns[-1])}')\n",
    "    print(f\"\\tAverage Return: {np.array(env_returns[-1]).mean() :.2f}\")\n",
    "    print(f\"\\tLoss: {loss :.2f}\")"
   ]
  },
  {
   "attachments": {},
   "cell_type": "markdown",
   "metadata": {},
   "source": [
    "## Plot The Results\n"
   ]
  },
  {
   "cell_type": "code",
   "execution_count": 11,
   "metadata": {},
   "outputs": [
    {
     "data": {
      "image/png": "[encoded data removed]",
      "text/plain": [
       "<Figure size 600x500 with 1 Axes>"
      ]
     },
     "metadata": {},
     "output_type": "display_data"
    }
   ],
   "source": [
    "fig, axs = plt.subplots(ncols=1, figsize=(6, 5))\n",
    "axs.set_title(\"Loss\")\n",
    "loss_moving_average = (\n",
    "    np.convolve(\n",
    "        losses, np.ones(episode_window), mode=\"valid\"\n",
    "    )\n",
    "    / episode_window\n",
    ")\n",
    "axs.plot(range(len(loss_moving_average)), loss_moving_average)\n",
    "plt.tight_layout()\n",
    "plt.show()"
   ]
  },
  {
   "attachments": {},
   "cell_type": "markdown",
   "metadata": {},
   "source": [
    "For cartpole rewards are assigned for the time spent in a non-terminal state. The episode length and rewards will be identical in this case."
   ]
  },
  {
   "cell_type": "code",
   "execution_count": 12,
   "metadata": {},
   "outputs": [
    {
     "data": {
      "image/png": "[encoded data removed]",
      "text/plain": [
       "<Figure size 1200x500 with 2 Axes>"
      ]
     },
     "metadata": {},
     "output_type": "display_data"
    }
   ],
   "source": [
    "# Code used from: https://gymnasium.farama.org/tutorials/blackjack_tutorial/#visualizing-the-training\n",
    "fig, axs = plt.subplots(ncols=2, figsize=(12, 5))\n",
    "axs[0].set_title(\"Episode rewards\")\n",
    "reward_moving_average = (\n",
    "    np.convolve(\n",
    "        np.array(env_returns).mean(axis=1), np.ones(episode_window), mode=\"valid\"\n",
    "    )\n",
    "    / episode_window\n",
    ")\n",
    "axs[0].plot(range(len(reward_moving_average)), reward_moving_average)\n",
    "axs[1].set_title(\"Episode lengths\")\n",
    "length_moving_average = (\n",
    "    np.convolve(\n",
    "        np.array(env_steps).mean(axis=1), np.ones(episode_window), mode=\"valid\"\n",
    "    )\n",
    "    / episode_window\n",
    ")\n",
    "axs[1].plot(range(len(length_moving_average)), length_moving_average)\n",
    "plt.tight_layout()\n",
    "plt.show()"
   ]
  },
  {
   "cell_type": "code",
   "execution_count": 13,
   "metadata": {},
   "outputs": [
    {
     "data": {
      "image/png": "[encoded data removed]",
      "text/plain": [
       "<Figure size 1200x500 with 2 Axes>"
      ]
     },
     "metadata": {},
     "output_type": "display_data"
    }
   ],
   "source": [
    "fig, axs = plt.subplots(ncols=2, figsize=(12, 5))\n",
    "axs[0].set_title(\"Test Returns\")\n",
    "axs[0].plot(range(len(test_returns)), test_returns)\n",
    "axs[1].set_title(\"Test Lengths\")\n",
    "axs[1].plot(range(len(test_steps)), test_steps)\n",
    "plt.tight_layout()\n",
    "plt.show()"
   ]
  },
  {
   "attachments": {},
   "cell_type": "markdown",
   "metadata": {},
   "source": [
    "## Testing Videos"
   ]
  },
  {
   "attachments": {},
   "cell_type": "markdown",
   "metadata": {},
   "source": [
    "### Test Episode 0"
   ]
  },
  {
   "cell_type": "code",
   "execution_count": 14,
   "metadata": {},
   "outputs": [
    {
     "name": "stdout",
     "output_type": "stream",
     "text": [
      "Test Episode 0 Return: 23.0\n"
     ]
    }
   ],
   "source": [
    "test_episode = 0\n",
    "print(f\"Test Episode {test_episode} Return: {test_returns[test_episode]}\")"
   ]
  },
  {
   "cell_type": "code",
   "execution_count": 15,
   "metadata": {},
   "outputs": [
    {
     "data": {
      "text/html": [
       "<video src=\"./videos/gae_discrete_monte-carlo//CartPole-v1-episode-0.mp4\" controls  >\n",
       "      Your browser does not support the <code>video</code> element.\n",
       "    </video>"
      ],
      "text/plain": [
       "<IPython.core.display.Video object>"
      ]
     },
     "execution_count": 15,
     "metadata": {},
     "output_type": "execute_result"
    }
   ],
   "source": [
    "Video(f\"{VIDEOS_ROOT_DIR}/{ENV_TYPE}-episode-{test_episode}.mp4\")"
   ]
  },
  {
   "attachments": {},
   "cell_type": "markdown",
   "metadata": {},
   "source": [
    "### Test Episode 1"
   ]
  },
  {
   "cell_type": "code",
   "execution_count": 16,
   "metadata": {},
   "outputs": [
    {
     "name": "stdout",
     "output_type": "stream",
     "text": [
      "Test Episode 1 Return: 29.0\n"
     ]
    }
   ],
   "source": [
    "test_episode = 1\n",
    "print(f\"Test Episode {test_episode} Return: {test_returns[test_episode]}\")"
   ]
  },
  {
   "cell_type": "code",
   "execution_count": 17,
   "metadata": {},
   "outputs": [
    {
     "data": {
      "text/html": [
       "<video src=\"./videos/gae_discrete_monte-carlo//CartPole-v1-episode-1.mp4\" controls  >\n",
       "      Your browser does not support the <code>video</code> element.\n",
       "    </video>"
      ],
      "text/plain": [
       "<IPython.core.display.Video object>"
      ]
     },
     "execution_count": 17,
     "metadata": {},
     "output_type": "execute_result"
    }
   ],
   "source": [
    "Video(f\"{VIDEOS_ROOT_DIR}/{ENV_TYPE}-episode-{test_episode}.mp4\")"
   ]
  },
  {
   "attachments": {},
   "cell_type": "markdown",
   "metadata": {},
   "source": [
    "### Test Episode 2"
   ]
  },
  {
   "cell_type": "code",
   "execution_count": 18,
   "metadata": {},
   "outputs": [
    {
     "name": "stdout",
     "output_type": "stream",
     "text": [
      "Test Episode 2 Return: 70.0\n"
     ]
    }
   ],
   "source": [
    "test_episode = 2\n",
    "print(f\"Test Episode {test_episode} Return: {test_returns[test_episode]}\")"
   ]
  },
  {
   "cell_type": "code",
   "execution_count": 19,
   "metadata": {},
   "outputs": [
    {
     "data": {
      "text/html": [
       "<video src=\"./videos/gae_discrete_monte-carlo//CartPole-v1-episode-2.mp4\" controls  >\n",
       "      Your browser does not support the <code>video</code> element.\n",
       "    </video>"
      ],
      "text/plain": [
       "<IPython.core.display.Video object>"
      ]
     },
     "execution_count": 19,
     "metadata": {},
     "output_type": "execute_result"
    }
   ],
   "source": [
    "Video(f\"{VIDEOS_ROOT_DIR}/{ENV_TYPE}-episode-{test_episode}.mp4\")"
   ]
  },
  {
   "attachments": {},
   "cell_type": "markdown",
   "metadata": {},
   "source": [
    "### Test Episode 3"
   ]
  },
  {
   "cell_type": "code",
   "execution_count": 20,
   "metadata": {},
   "outputs": [
    {
     "name": "stdout",
     "output_type": "stream",
     "text": [
      "Test Episode 3 Return: 130.0\n"
     ]
    }
   ],
   "source": [
    "test_episode = 3\n",
    "print(f\"Test Episode {test_episode} Return: {test_returns[test_episode]}\")"
   ]
  },
  {
   "cell_type": "code",
   "execution_count": 21,
   "metadata": {},
   "outputs": [
    {
     "data": {
      "text/html": [
       "<video src=\"./videos/gae_discrete_monte-carlo//CartPole-v1-episode-3.mp4\" controls  >\n",
       "      Your browser does not support the <code>video</code> element.\n",
       "    </video>"
      ],
      "text/plain": [
       "<IPython.core.display.Video object>"
      ]
     },
     "execution_count": 21,
     "metadata": {},
     "output_type": "execute_result"
    }
   ],
   "source": [
    "Video(f\"{VIDEOS_ROOT_DIR}/{ENV_TYPE}-episode-{test_episode}.mp4\")"
   ]
  },
  {
   "attachments": {},
   "cell_type": "markdown",
   "metadata": {},
   "source": [
    "### Test Episode 4"
   ]
  },
  {
   "cell_type": "code",
   "execution_count": 22,
   "metadata": {},
   "outputs": [
    {
     "name": "stdout",
     "output_type": "stream",
     "text": [
      "Test Episode 4 Return: 187.0\n"
     ]
    }
   ],
   "source": [
    "test_episode = 4\n",
    "print(f\"Test Episode {test_episode} Return: {test_returns[test_episode]}\")"
   ]
  },
  {
   "cell_type": "code",
   "execution_count": 23,
   "metadata": {},
   "outputs": [
    {
     "data": {
      "text/html": [
       "<video src=\"./videos/gae_discrete_monte-carlo//CartPole-v1-episode-4.mp4\" controls  >\n",
       "      Your browser does not support the <code>video</code> element.\n",
       "    </video>"
      ],
      "text/plain": [
       "<IPython.core.display.Video object>"
      ]
     },
     "execution_count": 23,
     "metadata": {},
     "output_type": "execute_result"
    }
   ],
   "source": [
    "Video(f\"{VIDEOS_ROOT_DIR}/{ENV_TYPE}-episode-{test_episode}.mp4\")"
   ]
  },
  {
   "attachments": {},
   "cell_type": "markdown",
   "metadata": {},
   "source": [
    "### Test Episode 5"
   ]
  },
  {
   "cell_type": "code",
   "execution_count": 24,
   "metadata": {},
   "outputs": [
    {
     "name": "stdout",
     "output_type": "stream",
     "text": [
      "Test Episode 5 Return: 96.0\n"
     ]
    }
   ],
   "source": [
    "test_episode = 5\n",
    "print(f\"Test Episode {test_episode} Return: {test_returns[test_episode]}\")"
   ]
  },
  {
   "cell_type": "code",
   "execution_count": 25,
   "metadata": {},
   "outputs": [
    {
     "data": {
      "text/html": [
       "<video src=\"./videos/gae_discrete_monte-carlo//CartPole-v1-episode-5.mp4\" controls  >\n",
       "      Your browser does not support the <code>video</code> element.\n",
       "    </video>"
      ],
      "text/plain": [
       "<IPython.core.display.Video object>"
      ]
     },
     "execution_count": 25,
     "metadata": {},
     "output_type": "execute_result"
    }
   ],
   "source": [
    "Video(f\"{VIDEOS_ROOT_DIR}/{ENV_TYPE}-episode-{test_episode}.mp4\")"
   ]
  }
 ],
 "metadata": {
  "kernelspec": {
   "display_name": "flax",
   "language": "python",
   "name": "python3"
  },
  "language_info": {
   "codemirror_mode": {
    "name": "ipython",
    "version": 3
   },
   "file_extension": ".py",
   "mimetype": "text/x-python",
   "name": "python",
   "nbconvert_exporter": "python",
   "pygments_lexer": "ipython3",
   "version": "3.9.13 (main, Oct 13 2022, 21:15:33) \n[GCC 11.2.0]"
  },
  "orig_nbformat": 4,
  "vscode": {
   "interpreter": {
    "hash": "0a8d1f2580cdfde5c5829808ec6fccc81a351d243fb8b1925f7928e44ccf575b"
   }
  }
 },
 "nbformat": 4,
 "nbformat_minor": 2
}
