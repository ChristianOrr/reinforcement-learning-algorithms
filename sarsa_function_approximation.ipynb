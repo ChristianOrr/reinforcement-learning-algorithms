{
 "cells": [
  {
   "cell_type": "markdown",
   "metadata": {},
   "source": [
    "# SARSA with Kernel Function Approximation\n",
    "\n",
    "This notebook shows the function approximation reinforcement learning algorithm, SARSA applied to the MountainCar problem (it also works on Acrobat and CartPole) from Open AI's gym. This algorithm is designed to work on state spaces larger than the tabular SARSA algorithm. It achieves this by representing the states by feature vectors, $x(s) = (x_{1}(s), x_{2}(s), ..., x_{n}(s))^T$, which is a vector with smaller size than the set of all states. \n",
    "Now the action value function can be estimated with function approximation, given by:\n",
    "$$\\hat{q}(s, a, \\bold{w}) \\approx q_{\\pi}(s, a)$$\n",
    ", where $\\bold{w}$ is the parameter vector.\n",
    "\n",
    "The parameter vector can then be updated using gradient descent:\n",
    "$$\\bold{w}_{t+1} = \\bold{w}_{t} + \\alpha [R_{t+1} + \\gamma \\hat{q}(S_{t + 1}, A_{t + 1}, \\bold{w}_{t}) - \\hat{q}(S_{t}, A_{t}, \\bold{w}_{t})] \\nabla \\hat{q}(S_{t}, A_{t}, \\bold{w}_{t})$$\n",
    ", where $\\bold{w}$ is the parameter vector, $\\alpha$ is the step size, $\\gamma$ is the discount rate, $R$ is the reward, $\\nabla$ is the gradient operator, $S$ is the state, $A$ is the action and $\\hat{q}$ is the approximate action-value function.\n",
    "\n",
    "For more information on function approximation see section 10 of [Reinforcement Learning: An Introduction](http://incompleteideas.net/book/RLbook2018.pdf). For alternative implementations of SARSA function approximation see: [Q-Learning Value Function Approximation Example by Denny Britz](https://github.com/dennybritz/reinforcement-learning/blob/master/FA/Q-Learning%20with%20Value%20Function%20Approximation%20Solution.ipynb)."
   ]
  },
  {
   "cell_type": "code",
   "execution_count": 1,
   "metadata": {},
   "outputs": [],
   "source": [
    "import gym\n",
    "import numpy as np\n",
    "import sklearn\n",
    "import sklearn.pipeline\n",
    "from sklearn.linear_model import SGDRegressor\n",
    "from sklearn.kernel_approximation import RBFSampler"
   ]
  },
  {
   "cell_type": "code",
   "execution_count": 2,
   "metadata": {},
   "outputs": [],
   "source": [
    "# Type of environment, options include:\n",
    "# MountainCar-v0, Acrobot-v1, CartPole-v1\n",
    "env_type = \"MountainCar-v0\"\n",
    "# Create the environment\n",
    "env = gym.make(env_type, render_mode=None)\n",
    "\n",
    "# Number of possible actions\n",
    "num_actions = env.action_space.n"
   ]
  },
  {
   "cell_type": "markdown",
   "metadata": {},
   "source": [
    "## Create Features Using Radial Basis Functions"
   ]
  },
  {
   "cell_type": "code",
   "execution_count": 3,
   "metadata": {},
   "outputs": [
    {
     "data": {
      "text/html": [
       "<style>#sk-container-id-1 {color: black;background-color: white;}#sk-container-id-1 pre{padding: 0;}#sk-container-id-1 div.sk-toggleable {background-color: white;}#sk-container-id-1 label.sk-toggleable__label {cursor: pointer;display: block;width: 100%;margin-bottom: 0;padding: 0.3em;box-sizing: border-box;text-align: center;}#sk-container-id-1 label.sk-toggleable__label-arrow:before {content: \"▸\";float: left;margin-right: 0.25em;color: #696969;}#sk-container-id-1 label.sk-toggleable__label-arrow:hover:before {color: black;}#sk-container-id-1 div.sk-estimator:hover label.sk-toggleable__label-arrow:before {color: black;}#sk-container-id-1 div.sk-toggleable__content {max-height: 0;max-width: 0;overflow: hidden;text-align: left;background-color: #f0f8ff;}#sk-container-id-1 div.sk-toggleable__content pre {margin: 0.2em;color: black;border-radius: 0.25em;background-color: #f0f8ff;}#sk-container-id-1 input.sk-toggleable__control:checked~div.sk-toggleable__content {max-height: 200px;max-width: 100%;overflow: auto;}#sk-container-id-1 input.sk-toggleable__control:checked~label.sk-toggleable__label-arrow:before {content: \"▾\";}#sk-container-id-1 div.sk-estimator input.sk-toggleable__control:checked~label.sk-toggleable__label {background-color: #d4ebff;}#sk-container-id-1 div.sk-label input.sk-toggleable__control:checked~label.sk-toggleable__label {background-color: #d4ebff;}#sk-container-id-1 input.sk-hidden--visually {border: 0;clip: rect(1px 1px 1px 1px);clip: rect(1px, 1px, 1px, 1px);height: 1px;margin: -1px;overflow: hidden;padding: 0;position: absolute;width: 1px;}#sk-container-id-1 div.sk-estimator {font-family: monospace;background-color: #f0f8ff;border: 1px dotted black;border-radius: 0.25em;box-sizing: border-box;margin-bottom: 0.5em;}#sk-container-id-1 div.sk-estimator:hover {background-color: #d4ebff;}#sk-container-id-1 div.sk-parallel-item::after {content: \"\";width: 100%;border-bottom: 1px solid gray;flex-grow: 1;}#sk-container-id-1 div.sk-label:hover label.sk-toggleable__label {background-color: #d4ebff;}#sk-container-id-1 div.sk-serial::before {content: \"\";position: absolute;border-left: 1px solid gray;box-sizing: border-box;top: 0;bottom: 0;left: 50%;z-index: 0;}#sk-container-id-1 div.sk-serial {display: flex;flex-direction: column;align-items: center;background-color: white;padding-right: 0.2em;padding-left: 0.2em;position: relative;}#sk-container-id-1 div.sk-item {position: relative;z-index: 1;}#sk-container-id-1 div.sk-parallel {display: flex;align-items: stretch;justify-content: center;background-color: white;position: relative;}#sk-container-id-1 div.sk-item::before, #sk-container-id-1 div.sk-parallel-item::before {content: \"\";position: absolute;border-left: 1px solid gray;box-sizing: border-box;top: 0;bottom: 0;left: 50%;z-index: -1;}#sk-container-id-1 div.sk-parallel-item {display: flex;flex-direction: column;z-index: 1;position: relative;background-color: white;}#sk-container-id-1 div.sk-parallel-item:first-child::after {align-self: flex-end;width: 50%;}#sk-container-id-1 div.sk-parallel-item:last-child::after {align-self: flex-start;width: 50%;}#sk-container-id-1 div.sk-parallel-item:only-child::after {width: 0;}#sk-container-id-1 div.sk-dashed-wrapped {border: 1px dashed gray;margin: 0 0.4em 0.5em 0.4em;box-sizing: border-box;padding-bottom: 0.4em;background-color: white;}#sk-container-id-1 div.sk-label label {font-family: monospace;font-weight: bold;display: inline-block;line-height: 1.2em;}#sk-container-id-1 div.sk-label-container {text-align: center;}#sk-container-id-1 div.sk-container {/* jupyter's `normalize.less` sets `[hidden] { display: none; }` but bootstrap.min.css set `[hidden] { display: none !important; }` so we also need the `!important` here to be able to override the default hidden behavior on the sphinx rendered scikit-learn.org. See: https://github.com/scikit-learn/scikit-learn/issues/21755 */display: inline-block !important;position: relative;}#sk-container-id-1 div.sk-text-repr-fallback {display: none;}</style><div id=\"sk-container-id-1\" class=\"sk-top-container\"><div class=\"sk-text-repr-fallback\"><pre>FeatureUnion(transformer_list=[(&#x27;rbf1&#x27;, RBFSampler(gamma=5.0)),\n",
       "                               (&#x27;rbf2&#x27;, RBFSampler(gamma=2.0)),\n",
       "                               (&#x27;rbf3&#x27;, RBFSampler()),\n",
       "                               (&#x27;rbf4&#x27;, RBFSampler(gamma=0.5))])</pre><b>In a Jupyter environment, please rerun this cell to show the HTML representation or trust the notebook. <br />On GitHub, the HTML representation is unable to render, please try loading this page with nbviewer.org.</b></div><div class=\"sk-container\" hidden><div class=\"sk-item sk-dashed-wrapped\"><div class=\"sk-label-container\"><div class=\"sk-label sk-toggleable\"><input class=\"sk-toggleable__control sk-hidden--visually\" id=\"sk-estimator-id-1\" type=\"checkbox\" ><label for=\"sk-estimator-id-1\" class=\"sk-toggleable__label sk-toggleable__label-arrow\">FeatureUnion</label><div class=\"sk-toggleable__content\"><pre>FeatureUnion(transformer_list=[(&#x27;rbf1&#x27;, RBFSampler(gamma=5.0)),\n",
       "                               (&#x27;rbf2&#x27;, RBFSampler(gamma=2.0)),\n",
       "                               (&#x27;rbf3&#x27;, RBFSampler()),\n",
       "                               (&#x27;rbf4&#x27;, RBFSampler(gamma=0.5))])</pre></div></div></div><div class=\"sk-parallel\"><div class=\"sk-parallel-item\"><div class=\"sk-item\"><div class=\"sk-label-container\"><div class=\"sk-label sk-toggleable\"><label>rbf1</label></div></div><div class=\"sk-serial\"><div class=\"sk-item\"><div class=\"sk-estimator sk-toggleable\"><input class=\"sk-toggleable__control sk-hidden--visually\" id=\"sk-estimator-id-2\" type=\"checkbox\" ><label for=\"sk-estimator-id-2\" class=\"sk-toggleable__label sk-toggleable__label-arrow\">RBFSampler</label><div class=\"sk-toggleable__content\"><pre>RBFSampler(gamma=5.0)</pre></div></div></div></div></div></div><div class=\"sk-parallel-item\"><div class=\"sk-item\"><div class=\"sk-label-container\"><div class=\"sk-label sk-toggleable\"><label>rbf2</label></div></div><div class=\"sk-serial\"><div class=\"sk-item\"><div class=\"sk-estimator sk-toggleable\"><input class=\"sk-toggleable__control sk-hidden--visually\" id=\"sk-estimator-id-3\" type=\"checkbox\" ><label for=\"sk-estimator-id-3\" class=\"sk-toggleable__label sk-toggleable__label-arrow\">RBFSampler</label><div class=\"sk-toggleable__content\"><pre>RBFSampler(gamma=2.0)</pre></div></div></div></div></div></div><div class=\"sk-parallel-item\"><div class=\"sk-item\"><div class=\"sk-label-container\"><div class=\"sk-label sk-toggleable\"><label>rbf3</label></div></div><div class=\"sk-serial\"><div class=\"sk-item\"><div class=\"sk-estimator sk-toggleable\"><input class=\"sk-toggleable__control sk-hidden--visually\" id=\"sk-estimator-id-4\" type=\"checkbox\" ><label for=\"sk-estimator-id-4\" class=\"sk-toggleable__label sk-toggleable__label-arrow\">RBFSampler</label><div class=\"sk-toggleable__content\"><pre>RBFSampler()</pre></div></div></div></div></div></div><div class=\"sk-parallel-item\"><div class=\"sk-item\"><div class=\"sk-label-container\"><div class=\"sk-label sk-toggleable\"><label>rbf4</label></div></div><div class=\"sk-serial\"><div class=\"sk-item\"><div class=\"sk-estimator sk-toggleable\"><input class=\"sk-toggleable__control sk-hidden--visually\" id=\"sk-estimator-id-5\" type=\"checkbox\" ><label for=\"sk-estimator-id-5\" class=\"sk-toggleable__label sk-toggleable__label-arrow\">RBFSampler</label><div class=\"sk-toggleable__content\"><pre>RBFSampler(gamma=0.5)</pre></div></div></div></div></div></div></div></div></div></div>"
      ],
      "text/plain": [
       "FeatureUnion(transformer_list=[('rbf1', RBFSampler(gamma=5.0)),\n",
       "                               ('rbf2', RBFSampler(gamma=2.0)),\n",
       "                               ('rbf3', RBFSampler()),\n",
       "                               ('rbf4', RBFSampler(gamma=0.5))])"
      ]
     },
     "execution_count": 3,
     "metadata": {},
     "output_type": "execute_result"
    }
   ],
   "source": [
    "# Feature Preprocessing: Normalize to zero mean and unit variance\n",
    "# We use a few samples from the observation space to do this\n",
    "observation_examples = np.array([np.float64(env.observation_space.sample()) for x in range(10000)])\n",
    "scaler = sklearn.preprocessing.StandardScaler()\n",
    "scaler.fit(observation_examples)\n",
    "\n",
    "# Used to convert a state to a featurizes represenation.\n",
    "# We use RBF kernels with different variances to cover different parts of the space\n",
    "featurizer = sklearn.pipeline.FeatureUnion([\n",
    "        (\"rbf1\", RBFSampler(gamma=5.0, n_components=100)),\n",
    "        (\"rbf2\", RBFSampler(gamma=2.0, n_components=100)),\n",
    "        (\"rbf3\", RBFSampler(gamma=1.0, n_components=100)),\n",
    "        (\"rbf4\", RBFSampler(gamma=0.5, n_components=100))\n",
    "        ])\n",
    "featurizer.fit(scaler.transform(observation_examples))"
   ]
  },
  {
   "cell_type": "markdown",
   "metadata": {},
   "source": [
    "## Create Action-Value Function Approximator"
   ]
  },
  {
   "cell_type": "code",
   "execution_count": 4,
   "metadata": {},
   "outputs": [],
   "source": [
    "def convert_to_features(state, scaler):\n",
    "    \"\"\"\n",
    "    Converts the state to a feature representation.\n",
    "    \"\"\"\n",
    "    scaled = scaler.transform([state])\n",
    "    featurized = featurizer.transform(scaled)\n",
    "    return featurized[0]    \n"
   ]
  },
  {
   "cell_type": "code",
   "execution_count": 5,
   "metadata": {},
   "outputs": [],
   "source": [
    "# List of linear action-value fuction approximators (one for each action)\n",
    "Q = []\n",
    "\n",
    "for _ in range(num_actions):\n",
    "    linear_model = SGDRegressor(learning_rate=\"constant\")\n",
    "    # We need to call partial_fit once to initialize the model\n",
    "    # or we get a NotFittedError when trying to make a prediction\n",
    "    # This is quite hacky.\n",
    "    state, info = env.reset()\n",
    "    linear_model.partial_fit([convert_to_features(state, scaler)], [0])\n",
    "    Q.append(linear_model)    \n",
    "\n"
   ]
  },
  {
   "cell_type": "code",
   "execution_count": 6,
   "metadata": {},
   "outputs": [],
   "source": [
    "def predict_returns(state, Q):\n",
    "    features = convert_to_features(state, scaler)\n",
    "    estimated_returns = []\n",
    "    for linear_model in Q:\n",
    "        estimated_returns.append(linear_model.predict([features])[0])\n",
    "\n",
    "    return np.array(estimated_returns)"
   ]
  },
  {
   "cell_type": "markdown",
   "metadata": {},
   "source": [
    "## Create An $\\epsilon$-Greedy Policy "
   ]
  },
  {
   "cell_type": "code",
   "execution_count": 7,
   "metadata": {},
   "outputs": [],
   "source": [
    "def policy_fn(state, Q, epsilon, num_actions):\n",
    "    # Create a distribution of actions and divide the epsilon probability between all actions\n",
    "    action_dist = np.ones(num_actions, dtype=float) * epsilon / num_actions\n",
    "    # Use function approximation to get the estimated returns for the actions in the current state\n",
    "    estimated_returns = predict_returns(state, Q)\n",
    "    # Find the best action\n",
    "    best_action = np.argmax(estimated_returns)\n",
    "    # Set probability for the best action to (1 - epsilon)\n",
    "    action_dist[best_action] += (1.0 - epsilon)\n",
    "    return action_dist"
   ]
  },
  {
   "cell_type": "markdown",
   "metadata": {},
   "source": [
    "## Learn The Optimal Action-Value Function"
   ]
  },
  {
   "cell_type": "code",
   "execution_count": 8,
   "metadata": {},
   "outputs": [
    {
     "name": "stdout",
     "output_type": "stream",
     "text": [
      "Episode: 10 Return: -302.0\n",
      "Episode: 20 Return: -280.0\n",
      "Episode: 30 Return: -158.0\n",
      "Episode: 40 Return: -163.0\n",
      "Episode: 50 Return: -149.0\n",
      "Episode: 60 Return: -89.0\n",
      "Episode: 70 Return: -234.0\n",
      "Episode: 80 Return: -155.0\n",
      "Episode: 90 Return: -148.0\n",
      "Episode: 100 Return: -113.0\n",
      "Episode: 110 Return: -177.0\n",
      "Episode: 120 Return: -190.0\n",
      "Episode: 130 Return: -114.0\n",
      "Episode: 140 Return: -115.0\n",
      "Episode: 150 Return: -114.0\n",
      "Episode: 160 Return: -122.0\n",
      "Episode: 170 Return: -152.0\n",
      "Episode: 180 Return: -97.0\n",
      "Episode: 190 Return: -145.0\n",
      "Episode: 200 Return: -114.0\n"
     ]
    }
   ],
   "source": [
    "# Number of episodes to train on\n",
    "episodes = 200\n",
    "# Return (accumulation of all rewards over an episode)\n",
    "G = 0\n",
    "returns = []\n",
    "# Discount ratio\n",
    "gamma = 0.99\n",
    "# Probability of taking a non-greedy action\n",
    "epsilon = 0.1\n",
    "\n",
    "for episode in range(1, episodes+1):\n",
    "    terminated, truncated = False, False\n",
    "    G, reward = 0, 0\n",
    "    state, info = env.reset()\n",
    "    action_dist = policy_fn(state, Q, epsilon, num_actions)\n",
    "    action = np.random.choice(np.arange(num_actions), p=action_dist)\n",
    "\n",
    "    while not terminated:\n",
    "        # Take the action and observe reward and next state\n",
    "        next_state, reward, terminated, truncated, info = env.step(action)\n",
    "        # Select the action following the epsilon-greedy policy\n",
    "        next_action_dist = policy_fn(next_state, Q, epsilon, num_actions)\n",
    "        next_action = np.random.choice(np.arange(num_actions), p=next_action_dist)\n",
    "\n",
    "        # Update the expected return for the action-value function\n",
    "        next_estimated_returns = predict_returns(next_state, Q)\n",
    "        td_target = reward + gamma * next_estimated_returns[next_action]\n",
    "        Q[action].partial_fit([convert_to_features(state, scaler)], [td_target])\n",
    " \n",
    "        G += reward\n",
    "        state = next_state\n",
    "        action = next_action\n",
    "\n",
    "    returns.append(G)\n",
    "\n",
    "    if episode % 10 == 0:\n",
    "        print(f'Episode: {episode} Return: {G}')"
   ]
  },
  {
   "cell_type": "markdown",
   "metadata": {},
   "source": [
    "## Plot The Results"
   ]
  },
  {
   "cell_type": "code",
   "execution_count": 9,
   "metadata": {},
   "outputs": [
    {
     "data": {
      "image/png": "[encoded data removed]",
      "text/plain": [
       "<Figure size 640x480 with 1 Axes>"
      ]
     },
     "metadata": {},
     "output_type": "display_data"
    }
   ],
   "source": [
    "import matplotlib.pyplot as plt\n",
    "\n",
    "plt.plot(np.arange(episodes), returns)\n",
    "plt.title(\"Returns Over Episodes\")\n",
    "plt.xlabel(\"Episodes\")\n",
    "plt.ylabel(\"Returns\")\n",
    "plt.show()"
   ]
  },
  {
   "cell_type": "markdown",
   "metadata": {},
   "source": [
    "## Run Greedily On An Example"
   ]
  },
  {
   "cell_type": "code",
   "execution_count": 10,
   "metadata": {},
   "outputs": [
    {
     "name": "stdout",
     "output_type": "stream",
     "text": [
      "Total Reward: -119.0, Steps Taken: 119\n"
     ]
    }
   ],
   "source": [
    "# Run the algorithm in inferencing mode and \n",
    "# observe its performance\n",
    "env = gym.make(env_type, render_mode=\"human\")\n",
    "state, info = env.reset(seed=64)\n",
    "G = 0\n",
    "num_steps = 0\n",
    "terminated = False\n",
    "\n",
    "while not terminated:\n",
    "    estimated_returns = predict_returns(state, Q)\n",
    "    action = np.argmax(estimated_returns) \n",
    "    state, reward, terminated, truncated, info = env.step(action)\n",
    "    G += reward\n",
    "    num_steps += 1\n",
    "\n",
    "print(f'Total Reward: {G}, Steps Taken: {num_steps}')\n",
    "\n",
    "env.close()"
   ]
  }
 ],
 "metadata": {
  "kernelspec": {
   "display_name": "Python 3.10.4 ('jax0.3')",
   "language": "python",
   "name": "python3"
  },
  "language_info": {
   "codemirror_mode": {
    "name": "ipython",
    "version": 3
   },
   "file_extension": ".py",
   "mimetype": "text/x-python",
   "name": "python",
   "nbconvert_exporter": "python",
   "pygments_lexer": "ipython3",
   "version": "3.10.4"
  },
  "orig_nbformat": 4,
  "vscode": {
   "interpreter": {
    "hash": "9cc3e2285d016734416124682a618282b04f438db98398baa547b8d92dfbc772"
   }
  }
 },
 "nbformat": 4,
 "nbformat_minor": 2
}
