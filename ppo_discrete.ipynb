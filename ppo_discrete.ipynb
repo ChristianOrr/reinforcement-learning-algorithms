{
 "cells": [
  {
   "attachments": {},
   "cell_type": "markdown",
   "metadata": {},
   "source": [
    "# Proximal Policy Optimization (PPO)\n",
    "\n",
    "This notebook demonstrates the implementation of the PPO algorithm with clipped surrogate objective. The aim of PPO is to mimic the behaviour of TRPO, but only use first-order derivatives in the policy optimization, resulting in a simpler algorithm. PPO and TRPO differ from other policy gradient algorithms with their approach to policy parameter updates. They both restrict the objective function (loss function) when the objective improves too much in a single step. This has the desired effect of preventing the policy updates from getting so large that the policy function can become worse. This implementation utilises the synchronous parallel environments technique from A2C and the generalized advantage estimator function as the advantage estimator from GAE.\n",
    "\n",
    "The advantage function, $A^{\\pi}$, following policy $\\pi$ is defined by:\n",
    "$$A^{\\pi} = Q^{\\pi}(s_t, a_t) - V^{\\pi}(s_t),$$\n",
    "where $Q^{\\pi}(s_t, a_t)$ is the action-value function following policy $\\pi$ and $V^{\\pi}(s_t)$ is the state-value function following policy $\\pi$. The advantage function essentially measures the advantage gained (or lost) by taking the action $a_t$ in state $s_t$ over the average return of all immediate actions, and then following policy $\\pi$ after. We don't know the absolute value of the advantage, $A^{\\pi}$, hence we need to find an advantage estimate, $\\hat{A}$, as a substitute.\n",
    "\n",
    "The GAE advantage estimator is defined by:\n",
    "$$\\hat{A}_{t}^{GAE} = \\sum_{l=0}^{T}(\\gamma \\lambda)^{l}\\delta_{t+l},$$ \n",
    "where $\\delta_{t+l}$ is the TD error, $\\gamma$ is the discount rate, $\\lambda$ is the decay rate and $T$ is the final timestep.\n",
    "\n",
    "We will be using autograd to perform gradient descent on the policy and value functions. We only need to construct the objective functions (loss functions) and their derivatives will be calculated automatically. We will be using the Adam optimizer for both policy and value gradient updates. The loss functions will be combined into a single loss function. Autograd traces the paths of all the parameters for the gradient calculation, so combining the losses won't impact the gradient calculations. \n",
    "\n",
    "The policy objective function is given by:\n",
    "$$L_{t}^{CLIP} = -\\hat{E_t}[min(r_{t}(\\theta)\\hat{A_t}, clip(r_{t}(\\theta), 1 - \\epsilon, 1 + \\epsilon)\\hat{A_t})],$$\n",
    "where $\\epsilon$ is the clipping hyperparameter, and $r_{t}(\\theta)$ is the probability ratio, given by: \n",
    "$$r_{t}(\\theta) = \\frac{\\pi_{\\theta}(a_t|s_t)}{\\pi_{\\theta_{old}}(a_t|s_t)}.$$\n",
    "\n",
    "The value objective function is given by:\n",
    "$$L_{t}^{VF} = \\hat{E_t}[\\hat{A}_{t}^2].$$\n",
    "\n",
    "The final objective function is given by:\n",
    "$$L_{t} = \\hat{E_t}[L_{t}^{CLIP} + c_{1}L_{t}^{VF} - c_{2}S_{\\pi_{\\theta}}(s_t)],$$\n",
    "where $S_{\\pi_{\\theta}}(s_t)$ is the entropy of the policy function, and $c_{1}$, $c_{2}$ are the objective coefficients. Increasing $c_{1}$ will increase the update size on the value function (the same effect as increasing the learning rate) and increasing $c_{2}$ will make the policy function less deterministic. Decreasing the coefficients will have the opposite effect. \n",
    "\n",
    "\n",
    "For more information on PPO, see the original paper [1] [Proximal Policy Optimization Algorithms](https://arxiv.org/abs/1707.06347), and the notebook [3] [RL Adventure2 PPO](https://github.com/higgsfield/RL-Adventure-2/blob/master/3.ppo.ipynb).\n"
   ]
  },
  {
   "cell_type": "code",
   "execution_count": 1,
   "metadata": {},
   "outputs": [],
   "source": [
    "import os\n",
    "import numpy as np\n",
    "import gymnasium as gym\n",
    "from IPython.display import Video\n",
    "import jax\n",
    "import flax.linen as nn\n",
    "from jax import value_and_grad\n",
    "import jax.numpy as jnp\n",
    "import optax\n",
    "import matplotlib.pyplot as plt\n",
    "\n",
    "from vec_env.subproc_vec_env import SubprocVecEnv\n",
    "# Print numpy array floats with 2 decimal places\n",
    "np.set_printoptions(precision=2, suppress=True)"
   ]
  },
  {
   "cell_type": "code",
   "execution_count": 2,
   "metadata": {},
   "outputs": [],
   "source": [
    "# Type of environment, options include:\n",
    "# CartPole-v1, MountainCar-v0, LunarLander-v2, Acrobot-v1\n",
    "ENV_TYPE = \"LunarLander-v2\"\n",
    "# Choose number of parallel environments, \n",
    "# don't exceed the number of computer threads\n",
    "num_envs = 10\n",
    "\n",
    "# Save videos from training\n",
    "SAVE_VIDEOS = True\n",
    "VIDEOS_ROOT_DIR = './videos/ppo_discrete/'"
   ]
  },
  {
   "cell_type": "code",
   "execution_count": 3,
   "metadata": {},
   "outputs": [],
   "source": [
    "def make_env(env_id):\n",
    "    \"\"\"\n",
    "    Returns a single environment object, \n",
    "    which will be used for parallel execution.\n",
    "    \"\"\"\n",
    "    def _init():\n",
    "        env = gym.make(env_id)\n",
    "        return env\n",
    "    return _init"
   ]
  },
  {
   "cell_type": "code",
   "execution_count": 4,
   "metadata": {},
   "outputs": [],
   "source": [
    "# Create multiple envs for parallel execution\n",
    "envs = SubprocVecEnv([make_env(ENV_TYPE) for _ in range(num_envs)])\n",
    "\n",
    "num_actions = envs.action_space.n\n",
    "obs_dims = envs.observation_space.shape\n",
    "obs_upper_bounds = envs.observation_space.high\n",
    "obs_lower_bounds = envs.observation_space.low"
   ]
  },
  {
   "attachments": {},
   "cell_type": "markdown",
   "metadata": {},
   "source": [
    "## Create The Policy "
   ]
  },
  {
   "cell_type": "code",
   "execution_count": 5,
   "metadata": {},
   "outputs": [
    {
     "name": "stdout",
     "output_type": "stream",
     "text": [
      "\n",
      "\u001b[3m                               _policy_fn Summary                               \u001b[0m\n",
      "┏━━━━━━━━━┳━━━━━━━━━━━━┳━━━━━━━━━━━━━━━━━┳━━━━━━━━━━━━━━━━━┳━━━━━━━━━━━━━━━━━━━┓\n",
      "┃\u001b[1m \u001b[0m\u001b[1mpath   \u001b[0m\u001b[1m \u001b[0m┃\u001b[1m \u001b[0m\u001b[1mmodule    \u001b[0m\u001b[1m \u001b[0m┃\u001b[1m \u001b[0m\u001b[1minputs         \u001b[0m\u001b[1m \u001b[0m┃\u001b[1m \u001b[0m\u001b[1moutputs        \u001b[0m\u001b[1m \u001b[0m┃\u001b[1m \u001b[0m\u001b[1mparams           \u001b[0m\u001b[1m \u001b[0m┃\n",
      "┡━━━━━━━━━╇━━━━━━━━━━━━╇━━━━━━━━━━━━━━━━━╇━━━━━━━━━━━━━━━━━╇━━━━━━━━━━━━━━━━━━━┩\n",
      "│         │ _policy_fn │ \u001b[2mfloat32\u001b[0m[10,8]   │ \u001b[2mfloat32\u001b[0m[10,4]   │                   │\n",
      "├─────────┼────────────┼─────────────────┼─────────────────┼───────────────────┤\n",
      "│ Dense_0 │ Dense      │ \u001b[2mfloat32\u001b[0m[10,8]   │ \u001b[2mfloat32\u001b[0m[10,256] │ bias:             │\n",
      "│         │            │                 │                 │ \u001b[2mfloat32\u001b[0m[256]      │\n",
      "│         │            │                 │                 │ kernel:           │\n",
      "│         │            │                 │                 │ \u001b[2mfloat32\u001b[0m[8,256]    │\n",
      "│         │            │                 │                 │                   │\n",
      "│         │            │                 │                 │ \u001b[1m2,304 \u001b[0m\u001b[1;2m(9.2 KB)\u001b[0m    │\n",
      "├─────────┼────────────┼─────────────────┼─────────────────┼───────────────────┤\n",
      "│ Dense_1 │ Dense      │ \u001b[2mfloat32\u001b[0m[10,256] │ \u001b[2mfloat32\u001b[0m[10,4]   │ bias: \u001b[2mfloat32\u001b[0m[4]  │\n",
      "│         │            │                 │                 │ kernel:           │\n",
      "│         │            │                 │                 │ \u001b[2mfloat32\u001b[0m[256,4]    │\n",
      "│         │            │                 │                 │                   │\n",
      "│         │            │                 │                 │ \u001b[1m1,028 \u001b[0m\u001b[1;2m(4.1 KB)\u001b[0m    │\n",
      "├─────────┼────────────┼─────────────────┼─────────────────┼───────────────────┤\n",
      "│\u001b[1m \u001b[0m\u001b[1m       \u001b[0m\u001b[1m \u001b[0m│\u001b[1m \u001b[0m\u001b[1m          \u001b[0m\u001b[1m \u001b[0m│\u001b[1m \u001b[0m\u001b[1m               \u001b[0m\u001b[1m \u001b[0m│\u001b[1m \u001b[0m\u001b[1m          Total\u001b[0m\u001b[1m \u001b[0m│\u001b[1m \u001b[0m\u001b[1m3,332 \u001b[0m\u001b[1;2m(13.3 KB)\u001b[0m\u001b[1m  \u001b[0m\u001b[1m \u001b[0m│\n",
      "└─────────┴────────────┴─────────────────┴─────────────────┴───────────────────┘\n",
      "\u001b[1m                                                                                \u001b[0m\n",
      "\u001b[1m                       Total Parameters: 3,332 \u001b[0m\u001b[1;2m(13.3 KB)\u001b[0m\u001b[1m                        \u001b[0m\n",
      "\n",
      "\n"
     ]
    }
   ],
   "source": [
    "class _policy_fn(nn.Module):\n",
    "    \"\"\"\n",
    "    Policy function is an MLP used to choose the \n",
    "    best possible discrete action given the observations from the state.\n",
    "    Each discrete action is given a probability from 0-1.\n",
    "    The probability distribution can then be used \n",
    "    to stocastically choose the next action.  \n",
    "    \"\"\"\n",
    "    @nn.compact\n",
    "    def __call__(self, x):\n",
    "        x = nn.Dense(256)(x)\n",
    "        x = jax.nn.relu(x)\n",
    "        x = nn.Dense(num_actions)(x)\n",
    "        return jax.nn.softmax(x)\n",
    "\n",
    "# Create the model object\n",
    "policy_fn = _policy_fn()\n",
    "# Display the model details\n",
    "dummy_x = envs.reset()\n",
    "dummy_x = jnp.array(dummy_x)\n",
    "rng_key = jax.random.PRNGKey(64)\n",
    "print(policy_fn.tabulate(rng_key, dummy_x))"
   ]
  },
  {
   "cell_type": "code",
   "execution_count": 6,
   "metadata": {},
   "outputs": [
    {
     "name": "stdout",
     "output_type": "stream",
     "text": [
      "\n",
      "\u001b[3m                               _value_fn Summary                                \u001b[0m\n",
      "┏━━━━━━━━━┳━━━━━━━━━━━┳━━━━━━━━━━━━━━━━━┳━━━━━━━━━━━━━━━━━┳━━━━━━━━━━━━━━━━━━━━┓\n",
      "┃\u001b[1m \u001b[0m\u001b[1mpath   \u001b[0m\u001b[1m \u001b[0m┃\u001b[1m \u001b[0m\u001b[1mmodule   \u001b[0m\u001b[1m \u001b[0m┃\u001b[1m \u001b[0m\u001b[1minputs         \u001b[0m\u001b[1m \u001b[0m┃\u001b[1m \u001b[0m\u001b[1moutputs        \u001b[0m\u001b[1m \u001b[0m┃\u001b[1m \u001b[0m\u001b[1mparams            \u001b[0m\u001b[1m \u001b[0m┃\n",
      "┡━━━━━━━━━╇━━━━━━━━━━━╇━━━━━━━━━━━━━━━━━╇━━━━━━━━━━━━━━━━━╇━━━━━━━━━━━━━━━━━━━━┩\n",
      "│         │ _value_fn │ \u001b[2mfloat32\u001b[0m[10,8]   │ \u001b[2mfloat32\u001b[0m[10,1]   │                    │\n",
      "├─────────┼───────────┼─────────────────┼─────────────────┼────────────────────┤\n",
      "│ Dense_0 │ Dense     │ \u001b[2mfloat32\u001b[0m[10,8]   │ \u001b[2mfloat32\u001b[0m[10,256] │ bias: \u001b[2mfloat32\u001b[0m[256] │\n",
      "│         │           │                 │                 │ kernel:            │\n",
      "│         │           │                 │                 │ \u001b[2mfloat32\u001b[0m[8,256]     │\n",
      "│         │           │                 │                 │                    │\n",
      "│         │           │                 │                 │ \u001b[1m2,304 \u001b[0m\u001b[1;2m(9.2 KB)\u001b[0m     │\n",
      "├─────────┼───────────┼─────────────────┼─────────────────┼────────────────────┤\n",
      "│ Dense_1 │ Dense     │ \u001b[2mfloat32\u001b[0m[10,256] │ \u001b[2mfloat32\u001b[0m[10,1]   │ bias: \u001b[2mfloat32\u001b[0m[1]   │\n",
      "│         │           │                 │                 │ kernel:            │\n",
      "│         │           │                 │                 │ \u001b[2mfloat32\u001b[0m[256,1]     │\n",
      "│         │           │                 │                 │                    │\n",
      "│         │           │                 │                 │ \u001b[1m257 \u001b[0m\u001b[1;2m(1.0 KB)\u001b[0m       │\n",
      "├─────────┼───────────┼─────────────────┼─────────────────┼────────────────────┤\n",
      "│\u001b[1m \u001b[0m\u001b[1m       \u001b[0m\u001b[1m \u001b[0m│\u001b[1m \u001b[0m\u001b[1m         \u001b[0m\u001b[1m \u001b[0m│\u001b[1m \u001b[0m\u001b[1m               \u001b[0m\u001b[1m \u001b[0m│\u001b[1m \u001b[0m\u001b[1m          Total\u001b[0m\u001b[1m \u001b[0m│\u001b[1m \u001b[0m\u001b[1m2,561 \u001b[0m\u001b[1;2m(10.2 KB)\u001b[0m\u001b[1m   \u001b[0m\u001b[1m \u001b[0m│\n",
      "└─────────┴───────────┴─────────────────┴─────────────────┴────────────────────┘\n",
      "\u001b[1m                                                                                \u001b[0m\n",
      "\u001b[1m                       Total Parameters: 2,561 \u001b[0m\u001b[1;2m(10.2 KB)\u001b[0m\u001b[1m                        \u001b[0m\n",
      "\n",
      "\n"
     ]
    }
   ],
   "source": [
    "class _value_fn(nn.Module):\n",
    "    \"\"\"\n",
    "    Value function is an MLP used to predict the expected return (value) \n",
    "    given the observations from the state.\n",
    "    The value can then be used for bootstrapping, and/or \n",
    "    calculating the advantage from action chosen in the state. \n",
    "    \"\"\"\n",
    "    @nn.compact\n",
    "    def __call__(self, x):\n",
    "        x = nn.Dense(256)(x)\n",
    "        x = jax.nn.relu(x)\n",
    "        x = nn.Dense(1)(x)\n",
    "        return x\n",
    "\n",
    "# Create the model object\n",
    "value_fn = _value_fn()\n",
    "# Display the model details\n",
    "print(value_fn.tabulate(rng_key, dummy_x))"
   ]
  },
  {
   "cell_type": "code",
   "execution_count": 7,
   "metadata": {},
   "outputs": [],
   "source": [
    "def test_model(policy_variables, env, rng_key):\n",
    "    \"\"\"\n",
    "    Runs a single episode following the policy function, \n",
    "    then returns the episodes rewards and steps.\n",
    "    Args:\n",
    "        policy_variables: Policy functions model parameters.\n",
    "        env: Environment used to interact with.\n",
    "        rng_key: Random number generator key.\n",
    "    Returns:\n",
    "        steps: Number of environment steps.\n",
    "        episode_rewards: List of rewards from the episode.\n",
    "    \"\"\"\n",
    "\n",
    "    terminated, truncated = False, False\n",
    "    episode_rewards = []\n",
    "    steps = 0\n",
    "\n",
    "    state, _ = env.reset()\n",
    "    while not (terminated or truncated):\n",
    "        steps += 1\n",
    "        # Select the action following the parametrized policy\n",
    "        action_dist = policy_fn.apply(policy_variables, state)\n",
    "        rng_key, subkey = jax.random.split(rng_key)\n",
    "        action = jax.random.choice(subkey, jnp.arange(num_actions), p=action_dist)\n",
    "        action = np.array(action)\n",
    "        next_state, reward, terminated, truncated, info = env.step(action)\n",
    "\n",
    "        episode_rewards.append(reward)\n",
    "\n",
    "        state = next_state\n",
    "    episode_rewards = np.array(episode_rewards)\n",
    "    return steps, episode_rewards\n",
    "\n",
    "    "
   ]
  },
  {
   "cell_type": "code",
   "execution_count": 8,
   "metadata": {},
   "outputs": [],
   "source": [
    "def get_gae(\n",
    "    gamma, lamda, values, next_value, rewards, done\n",
    "):\n",
    "    \"\"\"\n",
    "    Get generalized advantage estimate's from rewards for each environment.\n",
    "    Args:\n",
    "        gamma: Trajectory discount (scalar).\n",
    "        lamda: Trace decay rate.\n",
    "        values: Value functions expected returns at each step.\n",
    "        next_value: Value functions bootstrapped return for next state.\n",
    "        rewards: Agent rewards of taking actions in the environment.\n",
    "        done: Flag list for end of episode, \n",
    "            False indicates terminated, and True not terminated.\n",
    "    Returns:\n",
    "        Array of gae's for each environment at each step.\n",
    "    \"\"\"\n",
    "    values = jnp.array(values + [next_value])\n",
    "    advantage = 0\n",
    "    advantages = []\n",
    "\n",
    "    for t in reversed(range(done.shape[0])):\n",
    "        delta = rewards[t] + (gamma * values[t + 1] * done[t]) - values[t]\n",
    "        advantage = delta + (gamma * lamda * advantage * done[t])\n",
    "        advantages.append(advantage)\n",
    "\n",
    "    return jnp.array(list(reversed(advantages)))"
   ]
  },
  {
   "cell_type": "code",
   "execution_count": 9,
   "metadata": {},
   "outputs": [],
   "source": [
    "def loss_fn(\n",
    "    value_variables, \n",
    "    policy_variables, \n",
    "    old_policy_variables, \n",
    "    last_envs, \n",
    "    last_states, \n",
    "    rng_key, \n",
    "    gamma, \n",
    "    trace_decay_rate, \n",
    "    max_steps, \n",
    "    clip_param,\n",
    "    mean_cycle_returns, \n",
    "    mean_cycle_steps\n",
    "):\n",
    "    \"\"\"\n",
    "    Runs a single update cycle, \n",
    "    then calculates the actor and critic losses, \n",
    "    which are then combined and returned.\n",
    "    The gradients on this loss function are then used \n",
    "    to update the policy and actor functions.\n",
    "    Args:\n",
    "        value_variables: Value functions model parameters.\n",
    "        policy_variables: Policy functions model parameters.\n",
    "        old_policy_variables: Policy functions model parameters before the last update.\n",
    "        last_envs: List of environments in their previous states.\n",
    "        last_states: List of states from the prior update cycle or beginning or the episode.\n",
    "        rng_key: Random number generator key.\n",
    "        gamma: Discount rate for discounting returns.\n",
    "        trace_decay_rate: Trace decay rate for the lambda-returns.\n",
    "        max_steps: Limit on the number of steps in an update cycle.\n",
    "        clip_param: Epsilon parameter for clipping the probability ratio.\n",
    "        mean_cycle_returns: List of mean returns for each update cycle per environment.\n",
    "        mean_cycle_steps: List of mean episode steps per update cycle per environment.\n",
    "    Returns:\n",
    "        Combined loss of the value and actor functions.\n",
    "    \"\"\"\n",
    "    terminated, truncated, term_or_trunc = jnp.repeat(False, num_envs), jnp.repeat(False, num_envs), jnp.repeat(False, num_envs)\n",
    "    episode_probs = []\n",
    "    episode_old_probs = []\n",
    "    episode_values = []\n",
    "    episode_rewards = []\n",
    "    done_flag = []\n",
    "    states = last_states\n",
    "    envs = last_envs\n",
    "\n",
    "    # Follow the policy until max_steps are reached, then update the parameters\n",
    "    for _ in range(max_steps):\n",
    "        # Select the action following the parametrized policy\n",
    "        action_dists = policy_fn.apply(policy_variables, states)\n",
    "        # Stocastically choose the next action based on the probability distribution\n",
    "        actions = []\n",
    "        for dist in action_dists:\n",
    "            rng_key, subkey = jax.random.split(rng_key)\n",
    "            action = jax.random.choice(subkey, jnp.arange(num_actions), p=dist)\n",
    "            actions.append(action)\n",
    "        actions = np.array(actions)\n",
    "\n",
    "        # Select actions using the old policy parameters\n",
    "        old_action_dists = policy_fn.apply(old_policy_variables, states)\n",
    "        # Stocastically choose the next action based on the probability distribution\n",
    "        old_actions = []\n",
    "        for old_dist in old_action_dists:\n",
    "            rng_key, subkey = jax.random.split(rng_key)\n",
    "            old_action = jax.random.choice(subkey, jnp.arange(num_actions), p=old_dist)\n",
    "            old_actions.append(old_action)\n",
    "        old_actions = np.array(old_actions)\n",
    "        \n",
    "        next_states, rewards, terminated, truncated, info = envs.step(actions)\n",
    "        # Check if env was terminated or truncated in this step\n",
    "        term_or_trunc = jnp.array([term or trunc for term, trunc in zip(terminated, truncated)])\n",
    "        done_flag.append(term_or_trunc)\n",
    "        rewards = jnp.array(rewards)\n",
    "        episode_rewards.append(rewards)\n",
    "\n",
    "        # Probabilities for policy loss\n",
    "        probs = jnp.array([dist[action_index] for dist, action_index in zip(action_dists, actions)])\n",
    "        episode_probs.append(probs)\n",
    "        # Probabilities following old policy \n",
    "        old_probs = jnp.array([old_dist[old_action_index] for old_dist, old_action_index in zip(old_action_dists, old_actions)])\n",
    "        episode_old_probs.append(old_probs)\n",
    "\n",
    "        # Entropy is used in the loss function to prevent the model from becoming too deterministic\n",
    "        entropy = jnp.array([-jnp.sum(dist * jnp.log(dist)) for dist in action_dists])\n",
    "        # Estimate the values given the states, then set all terminated states value to 0\n",
    "        values = value_fn.apply(value_variables, states)\n",
    "        values = jnp.squeeze(values)\n",
    "        values = jnp.array(values, dtype=jnp.float32)\n",
    "        episode_values.append(values)\n",
    "\n",
    "        states = next_states\n",
    "\n",
    "    # Save the last envs/states for the next update cycle\n",
    "    last_states = states\n",
    "    last_envs = envs\n",
    "    # Calculate the mean returns for each environment\n",
    "    done_flag = np.array(done_flag)\n",
    "    num_episodes = (done_flag.sum(axis=0) + 1)\n",
    "    episode_rewards = np.array(episode_rewards)\n",
    "    sum_rewards = episode_rewards.sum(axis=0)\n",
    "    mean_returns = sum_rewards / num_episodes\n",
    "    mean_cycle_returns.append(mean_returns)\n",
    "    # Calculate mean episode steps per cycle \n",
    "    cycle_steps = max_steps / num_episodes\n",
    "    mean_cycle_steps.append(cycle_steps)\n",
    "    done_flag = jnp.invert(done_flag)\n",
    "\n",
    "    # Calculate the advantages\n",
    "    next_values = value_fn.apply(value_variables, next_states)\n",
    "    next_values = jnp.squeeze(next_values)\n",
    "    advantages = get_gae(gamma, trace_decay_rate, episode_values, next_values, episode_rewards, done_flag)\n",
    "     \n",
    "    # Calculate ratio's for actor loss\n",
    "    prob_ratio = jnp.array(episode_probs) / jnp.array(episode_old_probs)\n",
    "    clipped_ratio = jnp.clip(prob_ratio, 1 - clip_param, 1 + clip_param)\n",
    "\n",
    "    # Calculate actor and critic losses, then subtract the entropy\n",
    "    actor_loss1 = prob_ratio * advantages\n",
    "    actor_loss2 = clipped_ratio * advantages\n",
    "    actor_loss = -jnp.minimum(actor_loss1, actor_loss2).mean(axis=0)\n",
    "    critic_loss = (advantages**2).mean(axis=0)\n",
    "    loss = (actor_loss + 0.5 * critic_loss - 0.001 * entropy).mean()\n",
    "\n",
    "    return loss"
   ]
  },
  {
   "cell_type": "markdown",
   "metadata": {},
   "source": [
    "## Learn The Optimal Action-Value Function"
   ]
  },
  {
   "cell_type": "code",
   "execution_count": 10,
   "metadata": {},
   "outputs": [
    {
     "name": "stderr",
     "output_type": "stream",
     "text": [
      "/home/ubuntu22/repos/reinforcement-learning-algorithms/venv/lib/python3.10/site-packages/gymnasium/wrappers/record_video.py:94: UserWarning: \u001b[33mWARN: Overwriting existing videos at /home/ubuntu22/repos/reinforcement-learning-algorithms/videos/ppo_discrete folder (try specifying a different `video_folder` for the `RecordVideo` wrapper if this is not desired)\u001b[0m\n",
      "  logger.warn(\n"
     ]
    },
    {
     "name": "stdout",
     "output_type": "stream",
     "text": [
      "Update Step: 0\n",
      "Moviepy - Building video /home/ubuntu22/repos/reinforcement-learning-algorithms/videos/ppo_discrete/LunarLander-v2-episode-0.mp4.\n",
      "Moviepy - Writing video /home/ubuntu22/repos/reinforcement-learning-algorithms/videos/ppo_discrete/LunarLander-v2-episode-0.mp4\n",
      "\n"
     ]
    },
    {
     "name": "stderr",
     "output_type": "stream",
     "text": [
      "                                                             "
     ]
    },
    {
     "name": "stdout",
     "output_type": "stream",
     "text": [
      "Moviepy - Done !\n",
      "Moviepy - video ready /home/ubuntu22/repos/reinforcement-learning-algorithms/videos/ppo_discrete/LunarLander-v2-episode-0.mp4\n",
      "\tTest Episode 0 Return: -112.47 Steps: 91.00\n"
     ]
    },
    {
     "name": "stderr",
     "output_type": "stream",
     "text": [
      "\r"
     ]
    },
    {
     "name": "stdout",
     "output_type": "stream",
     "text": [
      "\tAverage Cycle Returns: [-205.45  -78.74  -75.08  -81.31 -326.99 -323.37  -12.55  -97.07 -166.44\n",
      "  -98.89]\n",
      "\tAverage Return: -146.59\n",
      "\tLoss: 953.77\n",
      "Update Step: 1\n",
      "Moviepy - Building video /home/ubuntu22/repos/reinforcement-learning-algorithms/videos/ppo_discrete/LunarLander-v2-episode-1.mp4.\n",
      "Moviepy - Writing video /home/ubuntu22/repos/reinforcement-learning-algorithms/videos/ppo_discrete/LunarLander-v2-episode-1.mp4\n",
      "\n"
     ]
    },
    {
     "name": "stderr",
     "output_type": "stream",
     "text": [
      "                                                             "
     ]
    },
    {
     "name": "stdout",
     "output_type": "stream",
     "text": [
      "Moviepy - Done !\n",
      "Moviepy - video ready /home/ubuntu22/repos/reinforcement-learning-algorithms/videos/ppo_discrete/LunarLander-v2-episode-1.mp4\n",
      "\tTest Episode 1 Return: -135.39 Steps: 82.00\n"
     ]
    },
    {
     "name": "stderr",
     "output_type": "stream",
     "text": [
      "\r"
     ]
    },
    {
     "name": "stdout",
     "output_type": "stream",
     "text": [
      "\tAverage Cycle Returns: [-135.76 -136.79 -106.36 -103.28 -223.03  -80.25 -123.41 -109.61 -125.96\n",
      " -231.18]\n",
      "\tAverage Return: -137.56\n",
      "\tLoss: 1111.03\n",
      "Update Step: 2\n",
      "Moviepy - Building video /home/ubuntu22/repos/reinforcement-learning-algorithms/videos/ppo_discrete/LunarLander-v2-episode-2.mp4.\n",
      "Moviepy - Writing video /home/ubuntu22/repos/reinforcement-learning-algorithms/videos/ppo_discrete/LunarLander-v2-episode-2.mp4\n",
      "\n"
     ]
    },
    {
     "name": "stderr",
     "output_type": "stream",
     "text": [
      "                                                   "
     ]
    },
    {
     "name": "stdout",
     "output_type": "stream",
     "text": [
      "Moviepy - Done !\n",
      "Moviepy - video ready /home/ubuntu22/repos/reinforcement-learning-algorithms/videos/ppo_discrete/LunarLander-v2-episode-2.mp4\n",
      "\tTest Episode 2 Return: -110.94 Steps: 64.00\n"
     ]
    },
    {
     "name": "stderr",
     "output_type": "stream",
     "text": [
      "\r"
     ]
    },
    {
     "name": "stdout",
     "output_type": "stream",
     "text": [
      "\tAverage Cycle Returns: [ -70.18 -125.39  -50.17 -138.2   -96.92 -118.73 -167.78 -161.03 -254.51\n",
      " -169.68]\n",
      "\tAverage Return: -135.26\n",
      "\tLoss: 1034.49\n",
      "Update Step: 3\n",
      "Moviepy - Building video /home/ubuntu22/repos/reinforcement-learning-algorithms/videos/ppo_discrete/LunarLander-v2-episode-3.mp4.\n",
      "Moviepy - Writing video /home/ubuntu22/repos/reinforcement-learning-algorithms/videos/ppo_discrete/LunarLander-v2-episode-3.mp4\n",
      "\n"
     ]
    },
    {
     "name": "stderr",
     "output_type": "stream",
     "text": [
      "                                                              "
     ]
    },
    {
     "name": "stdout",
     "output_type": "stream",
     "text": [
      "Moviepy - Done !\n",
      "Moviepy - video ready /home/ubuntu22/repos/reinforcement-learning-algorithms/videos/ppo_discrete/LunarLander-v2-episode-3.mp4\n",
      "\tTest Episode 3 Return: -415.99 Steps: 103.00\n"
     ]
    },
    {
     "name": "stderr",
     "output_type": "stream",
     "text": [
      "\r"
     ]
    },
    {
     "name": "stdout",
     "output_type": "stream",
     "text": [
      "\tAverage Cycle Returns: [ -86.42  -98.03 -143.16  -71.66 -140.29  -88.28 -107.34  -84.83  -76.61\n",
      "  -78.83]\n",
      "\tAverage Return: -97.54\n",
      "\tLoss: 576.35\n",
      "Update Step: 4\n",
      "Moviepy - Building video /home/ubuntu22/repos/reinforcement-learning-algorithms/videos/ppo_discrete/LunarLander-v2-episode-4.mp4.\n",
      "Moviepy - Writing video /home/ubuntu22/repos/reinforcement-learning-algorithms/videos/ppo_discrete/LunarLander-v2-episode-4.mp4\n",
      "\n"
     ]
    },
    {
     "name": "stderr",
     "output_type": "stream",
     "text": [
      "                                                              "
     ]
    },
    {
     "name": "stdout",
     "output_type": "stream",
     "text": [
      "Moviepy - Done !\n",
      "Moviepy - video ready /home/ubuntu22/repos/reinforcement-learning-algorithms/videos/ppo_discrete/LunarLander-v2-episode-4.mp4\n",
      "\tTest Episode 4 Return: -149.69 Steps: 100.00\n"
     ]
    },
    {
     "name": "stderr",
     "output_type": "stream",
     "text": [
      "\r"
     ]
    },
    {
     "name": "stdout",
     "output_type": "stream",
     "text": [
      "\tAverage Cycle Returns: [-182.4   -70.64  -88.14 -114.54 -123.68 -128.24  141.78  -88.74  -79.44\n",
      " -129.55]\n",
      "\tAverage Return: -86.36\n",
      "\tLoss: 662.40\n"
     ]
    }
   ],
   "source": [
    "# Number of cycles to train on\n",
    "update_cycles = 5\n",
    "# Sliding window for update cycle evaluation (needs to be less than num cycles)\n",
    "cycle_window = 5\n",
    "# Number of steps before updating the parameters\n",
    "max_steps = 200\n",
    "# Discount ratio\n",
    "gamma = 0.99\n",
    "trace_decay_rate = 0.95\n",
    "# Epsilon parameter for clipping the probability ratio\n",
    "clip_param = 0.2\n",
    "# Step size\n",
    "policy_alpha = 0.003\n",
    "value_alpha = 0.003\n",
    "\n",
    "policy_variables = policy_fn.init(rng_key, dummy_x)\n",
    "old_policy_variables = policy_variables\n",
    "policy_optimizer = optax.adam(learning_rate=policy_alpha)\n",
    "policy_opt_state = policy_optimizer.init(policy_variables)\n",
    "\n",
    "value_variables = value_fn.init(rng_key, dummy_x)\n",
    "value_optimizer = optax.adam(learning_rate=value_alpha)\n",
    "value_opt_state = value_optimizer.init(value_variables)\n",
    "\n",
    "# Create multiple envs for parallel execution\n",
    "envs = SubprocVecEnv([make_env(ENV_TYPE) for _ in range(num_envs)])\n",
    "if SAVE_VIDEOS:\n",
    "    # Create a single environment for testing\n",
    "    os.makedirs(VIDEOS_ROOT_DIR, exist_ok=True)\n",
    "    test_returns = []\n",
    "    test_steps = []\n",
    "    env = gym.make(ENV_TYPE, render_mode=\"rgb_array\")\n",
    "    env = gym.wrappers.RecordVideo(\n",
    "        env=env, \n",
    "        video_folder=VIDEOS_ROOT_DIR,\n",
    "        episode_trigger=lambda episode: episode % 1 == 0,\n",
    "        video_length=0,\n",
    "        name_prefix=f\"{ENV_TYPE}\"\n",
    "        ) \n",
    "losses = []\n",
    "mean_cycle_returns = []\n",
    "mean_cycle_steps = []\n",
    "\n",
    "states = envs.reset()\n",
    "last_states = jnp.array(states)\n",
    "last_envs = envs\n",
    "\n",
    "for update_step in range(update_cycles):\n",
    "    print(f\"Update Step: {update_step}\")\n",
    "    # Perform 6 tests and record them at even intervals\n",
    "    if SAVE_VIDEOS and update_step % (update_cycles // 5) == 0:\n",
    "        test_step, test_rewards = test_model(policy_variables, env, rng_key)\n",
    "        test_returns.append(np.sum(test_rewards))\n",
    "        test_steps.append(test_step)\n",
    "        test_episode = update_step // (update_cycles // 5)\n",
    "        print(f\"\\tTest Episode {test_episode} Return: {test_returns[test_episode] :.2f} Steps: {test_steps[test_episode] :.2f}\")\n",
    "\n",
    "    # Run a forward pass on the parallel envs (will last an entire episode) and \n",
    "    # calculate the gradients for value and policy functions \n",
    "    loss, (value_grads, policy_grads) = value_and_grad(loss_fn, argnums=(0, 1))(\n",
    "        value_variables, \n",
    "        policy_variables, \n",
    "        old_policy_variables,\n",
    "        last_envs,\n",
    "        last_states,\n",
    "        rng_key, \n",
    "        gamma, \n",
    "        trace_decay_rate,\n",
    "        max_steps,\n",
    "        clip_param,\n",
    "        mean_cycle_returns,\n",
    "        mean_cycle_steps\n",
    "    )\n",
    "    # Update value function weights\n",
    "    value_updates, value_opt_state = value_optimizer.update(value_grads, value_opt_state, value_variables)\n",
    "    value_variables = optax.apply_updates(value_variables, value_updates)        \n",
    "    # Update policy function weights\n",
    "    policy_updates, policy_opt_state = policy_optimizer.update(policy_grads, policy_opt_state, policy_variables)\n",
    "    old_policy_variables = policy_variables\n",
    "    policy_variables = optax.apply_updates(policy_variables, policy_updates)\n",
    "\n",
    "\n",
    "    losses.append(loss)\n",
    "    print(f'\\tAverage Cycle Returns: {mean_cycle_returns[-1]}')\n",
    "    print(f\"\\tAverage Return: {mean_cycle_returns[-1].mean() :.2f}\")\n",
    "    print(f\"\\tLoss: {loss :.2f}\")"
   ]
  },
  {
   "attachments": {},
   "cell_type": "markdown",
   "metadata": {},
   "source": [
    "## Plot The Results\n"
   ]
  },
  {
   "cell_type": "code",
   "execution_count": 11,
   "metadata": {},
   "outputs": [
    {
     "name": "stderr",
     "output_type": "stream",
     "text": [
      "/home/ubuntu22/repos/reinforcement-learning-algorithms/venv/lib/python3.10/site-packages/IPython/core/pylabtools.py:77: DeprecationWarning: backend2gui is deprecated since IPython 8.24, backends are managed in matplotlib and can be externally registered.\n",
      "  warnings.warn(\n",
      "/home/ubuntu22/repos/reinforcement-learning-algorithms/venv/lib/python3.10/site-packages/IPython/core/pylabtools.py:77: DeprecationWarning: backend2gui is deprecated since IPython 8.24, backends are managed in matplotlib and can be externally registered.\n",
      "  warnings.warn(\n",
      "/home/ubuntu22/repos/reinforcement-learning-algorithms/venv/lib/python3.10/site-packages/IPython/core/pylabtools.py:77: DeprecationWarning: backend2gui is deprecated since IPython 8.24, backends are managed in matplotlib and can be externally registered.\n",
      "  warnings.warn(\n"
     ]
    },
    {
     "data": {
      "image/png": "[encoded data removed]",
      "text/plain": [
       "<Figure size 600x500 with 1 Axes>"
      ]
     },
     "metadata": {},
     "output_type": "display_data"
    }
   ],
   "source": [
    "fig, axs = plt.subplots(ncols=1, figsize=(6, 5))\n",
    "axs.set_title(\"Loss\")\n",
    "loss_moving_average = (\n",
    "    np.convolve(\n",
    "        losses, np.ones(cycle_window), mode=\"valid\"\n",
    "    )\n",
    "    / cycle_window\n",
    ")\n",
    "axs.plot(range(len(loss_moving_average)), loss_moving_average)\n",
    "plt.tight_layout()\n",
    "plt.show()"
   ]
  },
  {
   "cell_type": "code",
   "execution_count": 12,
   "metadata": {},
   "outputs": [
    {
     "data": {
      "image/png": "[encoded data removed]",
      "text/plain": [
       "<Figure size 1200x500 with 2 Axes>"
      ]
     },
     "metadata": {},
     "output_type": "display_data"
    }
   ],
   "source": [
    "# Code used from: https://gymnasium.farama.org/tutorials/blackjack_tutorial/#visualizing-the-training\n",
    "fig, axs = plt.subplots(ncols=2, figsize=(12, 5))\n",
    "axs[0].set_title(\"Cycle Rewards\")\n",
    "reward_moving_average = (\n",
    "    np.convolve(\n",
    "        np.array(mean_cycle_returns).mean(axis=1), np.ones(cycle_window), mode=\"valid\"\n",
    "    )\n",
    "    / cycle_window\n",
    ")\n",
    "axs[0].plot(range(len(reward_moving_average)), reward_moving_average)\n",
    "axs[1].set_title(\"Cycle Lengths\")\n",
    "length_moving_average = (\n",
    "    np.convolve(\n",
    "        np.array(mean_cycle_steps).mean(axis=1), np.ones(cycle_window), mode=\"valid\"\n",
    "    )\n",
    "    / cycle_window\n",
    ")\n",
    "axs[1].plot(range(len(length_moving_average)), length_moving_average)\n",
    "plt.tight_layout()\n",
    "plt.show()"
   ]
  },
  {
   "cell_type": "code",
   "execution_count": 13,
   "metadata": {},
   "outputs": [
    {
     "data": {
      "image/png": "[encoded data removed]",
      "text/plain": [
       "<Figure size 1200x500 with 2 Axes>"
      ]
     },
     "metadata": {},
     "output_type": "display_data"
    }
   ],
   "source": [
    "fig, axs = plt.subplots(ncols=2, figsize=(12, 5))\n",
    "axs[0].set_title(\"Test Returns\")\n",
    "axs[0].plot(range(len(test_returns)), test_returns)\n",
    "axs[1].set_title(\"Test Lengths\")\n",
    "axs[1].plot(range(len(test_steps)), test_steps)\n",
    "plt.tight_layout()\n",
    "plt.show()"
   ]
  },
  {
   "attachments": {},
   "cell_type": "markdown",
   "metadata": {},
   "source": [
    "## Testing Videos"
   ]
  },
  {
   "attachments": {},
   "cell_type": "markdown",
   "metadata": {},
   "source": [
    "### Test Episode 0"
   ]
  },
  {
   "cell_type": "code",
   "execution_count": 14,
   "metadata": {},
   "outputs": [
    {
     "name": "stdout",
     "output_type": "stream",
     "text": [
      "Test Episode 0 Return: -112.47434582408366\n"
     ]
    }
   ],
   "source": [
    "test_episode = 0\n",
    "print(f\"Test Episode {test_episode} Return: {test_returns[test_episode]}\")"
   ]
  },
  {
   "cell_type": "code",
   "execution_count": 15,
   "metadata": {},
   "outputs": [
    {
     "data": {
      "text/html": [
       "<video src=\"./videos/ppo_discrete//LunarLander-v2-episode-0.mp4\" controls  >\n",
       "      Your browser does not support the <code>video</code> element.\n",
       "    </video>"
      ],
      "text/plain": [
       "<IPython.core.display.Video object>"
      ]
     },
     "execution_count": 15,
     "metadata": {},
     "output_type": "execute_result"
    }
   ],
   "source": [
    "Video(f\"{VIDEOS_ROOT_DIR}/{ENV_TYPE}-episode-{test_episode}.mp4\")"
   ]
  },
  {
   "attachments": {},
   "cell_type": "markdown",
   "metadata": {},
   "source": [
    "### Test Episode 1"
   ]
  },
  {
   "cell_type": "code",
   "execution_count": 16,
   "metadata": {},
   "outputs": [
    {
     "name": "stdout",
     "output_type": "stream",
     "text": [
      "Test Episode 1 Return: -135.38588849035582\n"
     ]
    }
   ],
   "source": [
    "test_episode = 1\n",
    "print(f\"Test Episode {test_episode} Return: {test_returns[test_episode]}\")"
   ]
  },
  {
   "cell_type": "code",
   "execution_count": 17,
   "metadata": {},
   "outputs": [
    {
     "data": {
      "text/html": [
       "<video src=\"./videos/ppo_discrete//LunarLander-v2-episode-1.mp4\" controls  >\n",
       "      Your browser does not support the <code>video</code> element.\n",
       "    </video>"
      ],
      "text/plain": [
       "<IPython.core.display.Video object>"
      ]
     },
     "execution_count": 17,
     "metadata": {},
     "output_type": "execute_result"
    }
   ],
   "source": [
    "Video(f\"{VIDEOS_ROOT_DIR}/{ENV_TYPE}-episode-{test_episode}.mp4\")"
   ]
  },
  {
   "attachments": {},
   "cell_type": "markdown",
   "metadata": {},
   "source": [
    "### Test Episode 2"
   ]
  },
  {
   "cell_type": "code",
   "execution_count": 18,
   "metadata": {},
   "outputs": [
    {
     "name": "stdout",
     "output_type": "stream",
     "text": [
      "Test Episode 2 Return: -110.94247157184365\n"
     ]
    }
   ],
   "source": [
    "test_episode = 2\n",
    "print(f\"Test Episode {test_episode} Return: {test_returns[test_episode]}\")"
   ]
  },
  {
   "cell_type": "code",
   "execution_count": 19,
   "metadata": {},
   "outputs": [
    {
     "data": {
      "text/html": [
       "<video src=\"./videos/ppo_discrete//LunarLander-v2-episode-2.mp4\" controls  >\n",
       "      Your browser does not support the <code>video</code> element.\n",
       "    </video>"
      ],
      "text/plain": [
       "<IPython.core.display.Video object>"
      ]
     },
     "execution_count": 19,
     "metadata": {},
     "output_type": "execute_result"
    }
   ],
   "source": [
    "Video(f\"{VIDEOS_ROOT_DIR}/{ENV_TYPE}-episode-{test_episode}.mp4\")"
   ]
  },
  {
   "attachments": {},
   "cell_type": "markdown",
   "metadata": {},
   "source": [
    "### Test Episode 3"
   ]
  },
  {
   "cell_type": "code",
   "execution_count": 20,
   "metadata": {},
   "outputs": [
    {
     "name": "stdout",
     "output_type": "stream",
     "text": [
      "Test Episode 3 Return: -415.9905049780186\n"
     ]
    }
   ],
   "source": [
    "test_episode = 3\n",
    "print(f\"Test Episode {test_episode} Return: {test_returns[test_episode]}\")"
   ]
  },
  {
   "cell_type": "code",
   "execution_count": 21,
   "metadata": {},
   "outputs": [
    {
     "data": {
      "text/html": [
       "<video src=\"./videos/ppo_discrete//LunarLander-v2-episode-3.mp4\" controls  >\n",
       "      Your browser does not support the <code>video</code> element.\n",
       "    </video>"
      ],
      "text/plain": [
       "<IPython.core.display.Video object>"
      ]
     },
     "execution_count": 21,
     "metadata": {},
     "output_type": "execute_result"
    }
   ],
   "source": [
    "Video(f\"{VIDEOS_ROOT_DIR}/{ENV_TYPE}-episode-{test_episode}.mp4\")"
   ]
  },
  {
   "attachments": {},
   "cell_type": "markdown",
   "metadata": {},
   "source": [
    "### Test Episode 4"
   ]
  },
  {
   "cell_type": "code",
   "execution_count": 22,
   "metadata": {},
   "outputs": [
    {
     "name": "stdout",
     "output_type": "stream",
     "text": [
      "Test Episode 4 Return: -149.68742521073509\n"
     ]
    }
   ],
   "source": [
    "test_episode = 4\n",
    "print(f\"Test Episode {test_episode} Return: {test_returns[test_episode]}\")"
   ]
  },
  {
   "cell_type": "code",
   "execution_count": 23,
   "metadata": {},
   "outputs": [
    {
     "data": {
      "text/html": [
       "<video src=\"./videos/ppo_discrete//LunarLander-v2-episode-4.mp4\" controls  >\n",
       "      Your browser does not support the <code>video</code> element.\n",
       "    </video>"
      ],
      "text/plain": [
       "<IPython.core.display.Video object>"
      ]
     },
     "execution_count": 23,
     "metadata": {},
     "output_type": "execute_result"
    }
   ],
   "source": [
    "Video(f\"{VIDEOS_ROOT_DIR}/{ENV_TYPE}-episode-{test_episode}.mp4\")"
   ]
  },
  {
   "attachments": {},
   "cell_type": "markdown",
   "metadata": {},
   "source": [
    "### Test Episode 5"
   ]
  },
  {
   "cell_type": "code",
   "execution_count": 24,
   "metadata": {},
   "outputs": [
    {
     "ename": "IndexError",
     "evalue": "list index out of range",
     "output_type": "error",
     "traceback": [
      "\u001b[0;31m---------------------------------------------------------------------------\u001b[0m",
      "\u001b[0;31mIndexError\u001b[0m                                Traceback (most recent call last)",
      "Cell \u001b[0;32mIn[24], line 2\u001b[0m\n\u001b[1;32m      1\u001b[0m test_episode \u001b[38;5;241m=\u001b[39m \u001b[38;5;241m5\u001b[39m\n\u001b[0;32m----> 2\u001b[0m \u001b[38;5;28mprint\u001b[39m(\u001b[38;5;124mf\u001b[39m\u001b[38;5;124m\"\u001b[39m\u001b[38;5;124mTest Episode \u001b[39m\u001b[38;5;132;01m{\u001b[39;00mtest_episode\u001b[38;5;132;01m}\u001b[39;00m\u001b[38;5;124m Return: \u001b[39m\u001b[38;5;132;01m{\u001b[39;00m\u001b[43mtest_returns\u001b[49m\u001b[43m[\u001b[49m\u001b[43mtest_episode\u001b[49m\u001b[43m]\u001b[49m\u001b[38;5;132;01m}\u001b[39;00m\u001b[38;5;124m\"\u001b[39m)\n",
      "\u001b[0;31mIndexError\u001b[0m: list index out of range"
     ]
    }
   ],
   "source": [
    "test_episode = 5\n",
    "print(f\"Test Episode {test_episode} Return: {test_returns[test_episode]}\")"
   ]
  },
  {
   "cell_type": "code",
   "execution_count": null,
   "metadata": {},
   "outputs": [
    {
     "data": {
      "text/html": [
       "<video src=\"./videos/ppo_discrete//LunarLander-v2-episode-5.mp4\" controls  >\n",
       "      Your browser does not support the <code>video</code> element.\n",
       "    </video>"
      ],
      "text/plain": [
       "<IPython.core.display.Video object>"
      ]
     },
     "execution_count": 75,
     "metadata": {},
     "output_type": "execute_result"
    }
   ],
   "source": [
    "Video(f\"{VIDEOS_ROOT_DIR}/{ENV_TYPE}-episode-{test_episode}.mp4\")"
   ]
  }
 ],
 "metadata": {
  "kernelspec": {
   "display_name": "flax",
   "language": "python",
   "name": "python3"
  },
  "language_info": {
   "codemirror_mode": {
    "name": "ipython",
    "version": 3
   },
   "file_extension": ".py",
   "mimetype": "text/x-python",
   "name": "python",
   "nbconvert_exporter": "python",
   "pygments_lexer": "ipython3",
   "version": "3.10.12"
  },
  "orig_nbformat": 4,
  "vscode": {
   "interpreter": {
    "hash": "0a8d1f2580cdfde5c5829808ec6fccc81a351d243fb8b1925f7928e44ccf575b"
   }
  }
 },
 "nbformat": 4,
 "nbformat_minor": 2
}
