{
 "cells": [
  {
   "attachments": {},
   "cell_type": "markdown",
   "metadata": {},
   "source": [
    "# REINFORCE Monte Carlo\n",
    "\n",
    "This notebook demonstates the simplest policy gradient method, REINFORCE. This is the Monte-Carlo version of REINFORCE, which means the model can only be updated after the episode has terminated. We will be using the Cartpole environment, since episode termination is easy to achieve on this problem. Monte-Carlo algorithms are not well suited to environments that don't provide a straight forward termination path, because they can get stuck in an infinite loop and never complete the first episode, due to not being able to learn during the episode.\n",
    "\n",
    "This is a pure policy gradient approach, which means we will learn the policy function directly and won't be using a value function for criticing the actions (like the actor-critic methods). The policy function in this case is a 3 layer multi-layer perceptron. The algorithm is on-policy, so it starts by generating an episode $S_0, A_0, R_1, ..., S_{T-1}, A_{T-1}, R_T$, following the policy, $\\pi_\\theta$, until the terminal time step $T$. After the episode has completed the policy, $\\pi_\\theta$, learns by updating its weights, $\\theta$, using the following update rule:\n",
    "$$\\theta \\leftarrow \\theta + \\alpha \\nabla_\\theta \\log(\\pi_\\theta(a_t | s_t))G_t $$\n",
    ", where $t$ is the time step, $\\alpha$ is the step size (or learning rate), and $G_t$ is the discounted return from timestep $t$, given by,\n",
    "$$G_t \\leftarrow \\sum_{k=t+1}^{T}\\gamma^{k-t-1}R_k .$$\n",
    "\n",
    "For more information on the REINFORCE Monte Carlo algorithm, see the blog post by Jordi Torres [Policy-Gradient Methods](https://towardsdatascience.com/policy-gradient-methods-104c783251e0), and chapter 13 of [Reinforcement Learning: An Introduction](http://incompleteideas.net/book/RLbook2018.pdf).\n"
   ]
  },
  {
   "cell_type": "code",
   "execution_count": 1,
   "metadata": {},
   "outputs": [],
   "source": [
    "import os\n",
    "import gymnasium as gym\n",
    "import numpy as np\n",
    "from IPython.display import Video\n",
    "import jax\n",
    "import flax.linen as nn\n",
    "from jax import random\n",
    "from jax import grad\n",
    "import jax.numpy as jnp\n",
    "import optax\n",
    "import matplotlib.pyplot as plt"
   ]
  },
  {
   "cell_type": "code",
   "execution_count": 2,
   "metadata": {},
   "outputs": [],
   "source": [
    "# Type of environment, options include:\n",
    "# CartPole-v1\n",
    "ENV_TYPE = \"CartPole-v1\"\n",
    "\n",
    "# Save videos from training\n",
    "SAVE_VIDEOS = False\n",
    "VIDEOS_ROOT_DIR = './videos/reinforce/'"
   ]
  },
  {
   "cell_type": "code",
   "execution_count": 3,
   "metadata": {},
   "outputs": [],
   "source": [
    "# Create the environment\n",
    "env = gym.make(ENV_TYPE, render_mode=\"rgb_array\")\n",
    "\n",
    "# Number of possible states and actions\n",
    "num_actions = env.action_space.n\n",
    "obs_dims = env.observation_space.shape\n",
    "obs_upper_bounds = env.observation_space.high\n",
    "obs_lower_bounds = env.observation_space.low"
   ]
  },
  {
   "attachments": {},
   "cell_type": "markdown",
   "metadata": {},
   "source": [
    "## Create The Policy "
   ]
  },
  {
   "cell_type": "code",
   "execution_count": 4,
   "metadata": {},
   "outputs": [
    {
     "name": "stderr",
     "output_type": "stream",
     "text": [
      "An NVIDIA GPU may be present on this machine, but a CUDA-enabled jaxlib is not installed. Falling back to cpu.\n"
     ]
    },
    {
     "name": "stdout",
     "output_type": "stream",
     "text": [
      "\n",
      "\u001b[3m                               _policy_fn Summary                               \u001b[0m\n",
      "┏━━━━━━━━━┳━━━━━━━━━━━━┳━━━━━━━━━━━━━━┳━━━━━━━━━━━━━━┳━━━━━━━━━━━━━━━━━━━━━━━━━┓\n",
      "┃\u001b[1m \u001b[0m\u001b[1mpath   \u001b[0m\u001b[1m \u001b[0m┃\u001b[1m \u001b[0m\u001b[1mmodule    \u001b[0m\u001b[1m \u001b[0m┃\u001b[1m \u001b[0m\u001b[1minputs      \u001b[0m\u001b[1m \u001b[0m┃\u001b[1m \u001b[0m\u001b[1moutputs     \u001b[0m\u001b[1m \u001b[0m┃\u001b[1m \u001b[0m\u001b[1mparams                 \u001b[0m\u001b[1m \u001b[0m┃\n",
      "┡━━━━━━━━━╇━━━━━━━━━━━━╇━━━━━━━━━━━━━━╇━━━━━━━━━━━━━━╇━━━━━━━━━━━━━━━━━━━━━━━━━┩\n",
      "│         │ _policy_fn │ \u001b[2mfloat32\u001b[0m[4]   │ \u001b[2mfloat32\u001b[0m[2]   │                         │\n",
      "├─────────┼────────────┼──────────────┼──────────────┼─────────────────────────┤\n",
      "│ Dense_0 │ Dense      │ \u001b[2mfloat32\u001b[0m[4]   │ \u001b[2mfloat32\u001b[0m[256] │ bias: \u001b[2mfloat32\u001b[0m[256]      │\n",
      "│         │            │              │              │ kernel: \u001b[2mfloat32\u001b[0m[4,256]  │\n",
      "│         │            │              │              │                         │\n",
      "│         │            │              │              │ \u001b[1m1,280 \u001b[0m\u001b[1;2m(5.1 KB)\u001b[0m          │\n",
      "├─────────┼────────────┼──────────────┼──────────────┼─────────────────────────┤\n",
      "│ Dense_1 │ Dense      │ \u001b[2mfloat32\u001b[0m[256] │ \u001b[2mfloat32\u001b[0m[64]  │ bias: \u001b[2mfloat32\u001b[0m[64]       │\n",
      "│         │            │              │              │ kernel: \u001b[2mfloat32\u001b[0m[256,64] │\n",
      "│         │            │              │              │                         │\n",
      "│         │            │              │              │ \u001b[1m16,448 \u001b[0m\u001b[1;2m(65.8 KB)\u001b[0m        │\n",
      "├─────────┼────────────┼──────────────┼──────────────┼─────────────────────────┤\n",
      "│ Dense_2 │ Dense      │ \u001b[2mfloat32\u001b[0m[64]  │ \u001b[2mfloat32\u001b[0m[2]   │ bias: \u001b[2mfloat32\u001b[0m[2]        │\n",
      "│         │            │              │              │ kernel: \u001b[2mfloat32\u001b[0m[64,2]   │\n",
      "│         │            │              │              │                         │\n",
      "│         │            │              │              │ \u001b[1m130 \u001b[0m\u001b[1;2m(520 B)\u001b[0m             │\n",
      "├─────────┼────────────┼──────────────┼──────────────┼─────────────────────────┤\n",
      "│\u001b[1m \u001b[0m\u001b[1m       \u001b[0m\u001b[1m \u001b[0m│\u001b[1m \u001b[0m\u001b[1m          \u001b[0m\u001b[1m \u001b[0m│\u001b[1m \u001b[0m\u001b[1m            \u001b[0m\u001b[1m \u001b[0m│\u001b[1m \u001b[0m\u001b[1m       Total\u001b[0m\u001b[1m \u001b[0m│\u001b[1m \u001b[0m\u001b[1m17,858 \u001b[0m\u001b[1;2m(71.4 KB)\u001b[0m\u001b[1m       \u001b[0m\u001b[1m \u001b[0m│\n",
      "└─────────┴────────────┴──────────────┴──────────────┴─────────────────────────┘\n",
      "\u001b[1m                                                                                \u001b[0m\n",
      "\u001b[1m                       Total Parameters: 17,858 \u001b[0m\u001b[1;2m(71.4 KB)\u001b[0m\u001b[1m                       \u001b[0m\n",
      "\n",
      "\n"
     ]
    }
   ],
   "source": [
    "class _policy_fn(nn.Module):\n",
    "\n",
    "    @nn.compact\n",
    "    def __call__(self, x):\n",
    "        x = nn.Dense(256)(x)\n",
    "        x = jax.nn.relu(x)\n",
    "        x = nn.Dense(64)(x)\n",
    "        x = jax.nn.relu(x)\n",
    "        x = nn.Dense(num_actions)(x)\n",
    "        return jax.nn.softmax(x)\n",
    "\n",
    "# Create the model object\n",
    "policy_fn = _policy_fn()\n",
    "# Display the model details\n",
    "dummy_x, _ = env.reset()\n",
    "rng_key = random.PRNGKey(64)\n",
    "print(policy_fn.tabulate(rng_key, dummy_x))"
   ]
  },
  {
   "cell_type": "code",
   "execution_count": 5,
   "metadata": {},
   "outputs": [],
   "source": [
    "def loss_fn(variables, states, actions, weights):\n",
    "    action_dists = policy_fn.apply(variables, states)\n",
    "    probs = action_dists[jnp.arange(len(actions)), actions]\n",
    "    log_probs = jnp.log(probs)\n",
    "    loss = -(log_probs * weights).mean()\n",
    "    return loss "
   ]
  },
  {
   "cell_type": "markdown",
   "metadata": {},
   "source": [
    "## Learn The Optimal Action-Value Function"
   ]
  },
  {
   "cell_type": "code",
   "execution_count": 6,
   "metadata": {},
   "outputs": [
    {
     "name": "stderr",
     "output_type": "stream",
     "text": [
      "/home/ubuntu22/repos/reinforcement-learning-algorithms/venv-pre/lib/python3.10/site-packages/gymnasium/wrappers/rendering.py:282: UserWarning: \u001b[33mWARN: Overwriting existing videos at /home/ubuntu22/repos/reinforcement-learning-algorithms/videos/reinforce folder (try specifying a different `video_folder` for the `RecordVideo` wrapper if this is not desired)\u001b[0m\n",
      "  logger.warn(\n"
     ]
    },
    {
     "name": "stdout",
     "output_type": "stream",
     "text": [
      "Episode 5 Average Returns: 34.60\n",
      "Episode 10 Average Returns: 55.00\n",
      "Episode 15 Average Returns: 80.20\n",
      "Episode 20 Average Returns: 128.60\n",
      "Episode 25 Average Returns: 122.20\n",
      "Episode 30 Average Returns: 96.80\n",
      "Episode 35 Average Returns: 152.40\n",
      "Episode 40 Average Returns: 166.80\n",
      "Episode 45 Average Returns: 254.60\n",
      "Episode 50 Average Returns: 189.60\n"
     ]
    }
   ],
   "source": [
    "# Number of episodes to train on\n",
    "episodes = 53\n",
    "# Sliding window for episode evaluation (needs to be less than episodes)\n",
    "episode_window = 5\n",
    "# Discount ratio\n",
    "gamma = 0.99\n",
    "# Step size\n",
    "alpha = 0.003\n",
    "\n",
    "variables = policy_fn.init(rng_key, dummy_x)\n",
    "\n",
    "optimizer = optax.adam(learning_rate=alpha)\n",
    "opt_state = optimizer.init(variables)\n",
    "\n",
    "env = gym.make(ENV_TYPE, render_mode=\"rgb_array\")\n",
    "env = gym.wrappers.RecordEpisodeStatistics(env, buffer_length=episodes)\n",
    "\n",
    "if SAVE_VIDEOS:\n",
    "    os.makedirs(VIDEOS_ROOT_DIR, exist_ok=True)\n",
    "    env = gym.wrappers.RecordVideo(\n",
    "        env=env, \n",
    "        video_folder=VIDEOS_ROOT_DIR,\n",
    "        episode_trigger=lambda episode: episode % 10 == 0,\n",
    "        video_length=0,\n",
    "        name_prefix=ENV_TYPE,\n",
    "        fps=30\n",
    "        )\n",
    "\n",
    "for episode in range(1, episodes+1):\n",
    "    terminated, truncated = False, False\n",
    "    reward = 0\n",
    "    rewards = []\n",
    "    state, info = env.reset()\n",
    "    states = []\n",
    "    actions = []\n",
    "    # Generate an episode following the policy\n",
    "    while not (terminated or truncated):\n",
    "        states.append(state)\n",
    "        # Select the action following the parametrized policy\n",
    "        action_dist = policy_fn.apply(variables, state)\n",
    "        action_dist = np.array(action_dist).astype(np.float64)\n",
    "        # Divide by the total to ensure the values sum to one\n",
    "        action_dist /= action_dist.sum()\n",
    "        # action = jax.random.choice(rng_key, jnp.arange(num_actions), p=action_dist)\n",
    "        action = np.random.choice(np.arange(num_actions), p=action_dist)\n",
    "        actions.append(action)\n",
    "        # Take the action and observe reward and next state\n",
    "        next_state, reward, terminated, truncated, info = env.step(int(action))\n",
    "        rewards.append(reward)\n",
    "        state = next_state\n",
    "\n",
    "\n",
    "    rewards = jnp.array(rewards)\n",
    "    states = jnp.array(states)\n",
    "    actions = jnp.array(actions)\n",
    "\n",
    "    T = len(states)\n",
    "    weights = []\n",
    "    # Update the policies parameters\n",
    "    for t, state in enumerate(states):\n",
    "        G = 0\n",
    "        for k in range(t, T):\n",
    "            G += (gamma**(k - t)) * rewards[k]\n",
    "        weights.append(G)\n",
    "    weights = jnp.array(weights)\n",
    "\n",
    "    grads = grad(loss_fn, argnums=0)(variables, states, actions, weights)\n",
    "    updates, opt_state = optimizer.update(grads, opt_state, variables)\n",
    "    variables = optax.apply_updates(variables, updates)\n",
    "            \n",
    "\n",
    "    if episode % episode_window == 0:\n",
    "        print(f'Episode {episode} Average Returns: {np.mean(np.array(env.env.return_queue).flatten()[-episode_window:]) :.2f}')"
   ]
  },
  {
   "attachments": {},
   "cell_type": "markdown",
   "metadata": {},
   "source": [
    "## Plot The Results\n",
    "\n",
    "For cartpole rewards are assigned for the time spent in a non-terminal state. The episode length and rewards will be identical in this case."
   ]
  },
  {
   "cell_type": "code",
   "execution_count": 9,
   "metadata": {},
   "outputs": [
    {
     "data": {
      "image/png": "[encoded data removed]",
      "text/plain": [
       "<Figure size 1200x500 with 2 Axes>"
      ]
     },
     "metadata": {},
     "output_type": "display_data"
    }
   ],
   "source": [
    "# Code used from: https://gymnasium.farama.org/tutorials/blackjack_tutorial/#visualizing-the-training\n",
    "fig, axs = plt.subplots(ncols=2, figsize=(12, 5))\n",
    "axs[0].set_title(\"Episode rewards\")\n",
    "reward_moving_average = (\n",
    "    np.convolve(\n",
    "        np.array(env.env.return_queue).flatten(), np.ones(episode_window), mode=\"valid\"\n",
    "    )\n",
    "    / episode_window\n",
    ")\n",
    "axs[0].plot(range(len(reward_moving_average)), reward_moving_average)\n",
    "axs[1].set_title(\"Episode lengths\")\n",
    "length_moving_average = (\n",
    "    np.convolve(\n",
    "        np.array(env.env.length_queue).flatten(), np.ones(episode_window), mode=\"valid\"\n",
    "    )\n",
    "    / episode_window\n",
    ")\n",
    "axs[1].plot(range(len(length_moving_average)), length_moving_average)\n",
    "plt.tight_layout()\n",
    "plt.show()"
   ]
  },
  {
   "attachments": {},
   "cell_type": "markdown",
   "metadata": {},
   "source": [
    "## Training Episode Videos"
   ]
  },
  {
   "attachments": {},
   "cell_type": "markdown",
   "metadata": {},
   "source": [
    "### Episode 0"
   ]
  },
  {
   "cell_type": "code",
   "execution_count": 10,
   "metadata": {},
   "outputs": [
    {
     "data": {
      "text/html": [
       "<video src=\"./videos/reinforce//CartPole-v1-episode-0.mp4\" controls  >\n",
       "      Your browser does not support the <code>video</code> element.\n",
       "    </video>"
      ],
      "text/plain": [
       "<IPython.core.display.Video object>"
      ]
     },
     "execution_count": 10,
     "metadata": {},
     "output_type": "execute_result"
    }
   ],
   "source": [
    "Video(f\"{VIDEOS_ROOT_DIR}/{ENV_TYPE}-episode-0.mp4\")"
   ]
  },
  {
   "attachments": {},
   "cell_type": "markdown",
   "metadata": {},
   "source": [
    "### Episode 10"
   ]
  },
  {
   "cell_type": "code",
   "execution_count": 11,
   "metadata": {},
   "outputs": [
    {
     "data": {
      "text/html": [
       "<video src=\"./videos/reinforce//CartPole-v1-episode-10.mp4\" controls  >\n",
       "      Your browser does not support the <code>video</code> element.\n",
       "    </video>"
      ],
      "text/plain": [
       "<IPython.core.display.Video object>"
      ]
     },
     "execution_count": 11,
     "metadata": {},
     "output_type": "execute_result"
    }
   ],
   "source": [
    "Video(f\"{VIDEOS_ROOT_DIR}/{ENV_TYPE}-episode-10.mp4\")"
   ]
  },
  {
   "attachments": {},
   "cell_type": "markdown",
   "metadata": {},
   "source": [
    "### Episode 20"
   ]
  },
  {
   "cell_type": "code",
   "execution_count": 12,
   "metadata": {},
   "outputs": [
    {
     "data": {
      "text/html": [
       "<video src=\"./videos/reinforce//CartPole-v1-episode-20.mp4\" controls  >\n",
       "      Your browser does not support the <code>video</code> element.\n",
       "    </video>"
      ],
      "text/plain": [
       "<IPython.core.display.Video object>"
      ]
     },
     "execution_count": 12,
     "metadata": {},
     "output_type": "execute_result"
    }
   ],
   "source": [
    "Video(f\"{VIDEOS_ROOT_DIR}/{ENV_TYPE}-episode-20.mp4\")"
   ]
  },
  {
   "attachments": {},
   "cell_type": "markdown",
   "metadata": {},
   "source": [
    "### Episode 30"
   ]
  },
  {
   "cell_type": "code",
   "execution_count": 16,
   "metadata": {},
   "outputs": [
    {
     "data": {
      "text/html": [
       "<video src=\"./videos/reinforce//CartPole-v1-episode-30.mp4\" controls  >\n",
       "      Your browser does not support the <code>video</code> element.\n",
       "    </video>"
      ],
      "text/plain": [
       "<IPython.core.display.Video object>"
      ]
     },
     "execution_count": 16,
     "metadata": {},
     "output_type": "execute_result"
    }
   ],
   "source": [
    "Video(f\"{VIDEOS_ROOT_DIR}/{ENV_TYPE}-episode-30.mp4\")"
   ]
  },
  {
   "attachments": {},
   "cell_type": "markdown",
   "metadata": {},
   "source": [
    "### Episode 40"
   ]
  },
  {
   "cell_type": "code",
   "execution_count": 17,
   "metadata": {},
   "outputs": [
    {
     "data": {
      "text/html": [
       "<video src=\"./videos/reinforce//CartPole-v1-episode-40.mp4\" controls  >\n",
       "      Your browser does not support the <code>video</code> element.\n",
       "    </video>"
      ],
      "text/plain": [
       "<IPython.core.display.Video object>"
      ]
     },
     "execution_count": 17,
     "metadata": {},
     "output_type": "execute_result"
    }
   ],
   "source": [
    "Video(f\"{VIDEOS_ROOT_DIR}/{ENV_TYPE}-episode-40.mp4\")"
   ]
  },
  {
   "attachments": {},
   "cell_type": "markdown",
   "metadata": {},
   "source": [
    "### Episode 50"
   ]
  },
  {
   "cell_type": "code",
   "execution_count": 15,
   "metadata": {},
   "outputs": [
    {
     "data": {
      "text/html": [
       "<video src=\"./videos/reinforce//CartPole-v1-episode-50.mp4\" controls  >\n",
       "      Your browser does not support the <code>video</code> element.\n",
       "    </video>"
      ],
      "text/plain": [
       "<IPython.core.display.Video object>"
      ]
     },
     "execution_count": 15,
     "metadata": {},
     "output_type": "execute_result"
    }
   ],
   "source": [
    "Video(f\"{VIDEOS_ROOT_DIR}/{ENV_TYPE}-episode-50.mp4\")"
   ]
  }
 ],
 "metadata": {
  "kernelspec": {
   "display_name": "flax",
   "language": "python",
   "name": "python3"
  },
  "language_info": {
   "codemirror_mode": {
    "name": "ipython",
    "version": 3
   },
   "file_extension": ".py",
   "mimetype": "text/x-python",
   "name": "python",
   "nbconvert_exporter": "python",
   "pygments_lexer": "ipython3",
   "version": "3.10.12"
  },
  "orig_nbformat": 4,
  "vscode": {
   "interpreter": {
    "hash": "0a8d1f2580cdfde5c5829808ec6fccc81a351d243fb8b1925f7928e44ccf575b"
   }
  }
 },
 "nbformat": 4,
 "nbformat_minor": 2
}
