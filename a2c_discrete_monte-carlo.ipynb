{
 "cells": [
  {
   "attachments": {},
   "cell_type": "markdown",
   "metadata": {},
   "source": [
    "# Synchronous Advantage Actor-Critic (A2C) Monte-Carlo\n",
    "\n",
    "This is the A2C algorithm with a discrete action space (only works on environments with discrete actions) and Monte-Carlo parameter updates. Synchronous Advantage Actor-Critic (A2C) is an actor-critic method which runs multiple environments in parallel. A2C is a synchronous version of the asynchronous algorithm A3C. The updates will be performed in a Monte-Carlo way (parameter updates will only be performed at the end of the episode). This implementation is closer to a pure policy gradient approach than actor-critic, since bootstrapping is only used in the odd case that the environment doesn't enter a terminal state before the steps limit. \n",
    "\n",
    "The advantage function, $A^{\\pi}$, following policy $\\pi$ is defined by:\n",
    "$$A^{\\pi} = Q^{\\pi}(s_t, a_t) - V^{\\pi}(s_t),$$\n",
    "where $Q^{\\pi}(s_t, a_t)$ is the action-value function following policy $\\pi$ and $V^{\\pi}(s_t)$ is the state-value function following policy $\\pi$. The advantage function essentially measures the advantage gained (or lost) by taking the action $a_t$ in state $s_t$ over the average return of all immediate actions, and then following policy $\\pi$ in the following states. We don't know the absolute value of the advantage, $A^{\\pi}$, hence we need to find an advantage estimate, $\\hat{A}$, as a substitute.\n",
    "\n",
    "The advantage estimate used in A2C/A3C is given by:\n",
    "$$\\hat{A}_{t} = G_t - \\hat{v}(S_t, w),$$ \n",
    "where $G_t$ is the discounted return for terminal episodes or the bootstrapped return for non-terminal episodes, and $\\hat{v}(S_t, w)$ is the value estimate given state $S_t$ and parameters $w$. The bias-variance trade-off can be finetuned by altering the discount rate $\\gamma$. Larger discount/decay rates lead to higher variance and lower bias and lower discount/decay rates lead to lower variance and higher bias. \n",
    "\n",
    "\n",
    "We will be using autograd to perform gradient descent on the policy and value functions. We only need to construct the objective functions (loss functions) and their derivatives will be calculated automatically. We will be using the Adam optimizer for both policy and value gradient updates. The loss functions will be combined into a single loss function. Autograd traces the paths of all the parameters for the gradient calculation, so combining the losses won't impact the gradient calculations. \n",
    "\n",
    "The policy objective function is given by:\n",
    "$$L_{t}^{PF} = -\\hat{E_t}[\\log(\\pi_\\theta(a_t | s_t))\\hat{A}_{t}].$$\n",
    "\n",
    "The value objective function is given by:\n",
    "$$L_{t}^{VF} = \\hat{E_t}[\\hat{A}_{t}^2].$$\n",
    "\n",
    "The final objective function is given by:\n",
    "$$L_{t} = \\hat{E_t}[L_{t}^{PF} + c_{1}L_{t}^{VF} - c_{2}S_{\\pi_{\\theta}}(s_t)],$$\n",
    "where $S_{\\pi_{\\theta}}(s_t)$ is the entropy of the policy function, and $c_{1}$, $c_{2}$ are the objective coefficients. Increasing $c_{1}$ will increase the update size on the value function (the same effect as increasing the learning rate) and increasing $c_{2}$ will make the policy function less deterministic. Decreasing the coefficients will have the opposite effect. \n",
    "\n",
    "\n",
    "\n",
    "For more information on A2C/A3C, see the original A3C paper [1] [Asynchronous Methods for Deep Reinforcement Learning](https://arxiv.org/abs/1602.01783), the notebook [2] [RL-Adventure-2 Actor-Critic Notebook](https://github.com/higgsfield/RL-Adventure-2/blob/master/1.actor-critic.ipynb).\n"
   ]
  },
  {
   "cell_type": "code",
   "execution_count": 1,
   "metadata": {},
   "outputs": [],
   "source": [
    "import os\n",
    "import numpy as np\n",
    "import gymnasium as gym\n",
    "from IPython.display import Video\n",
    "import jax\n",
    "import flax.linen as nn\n",
    "from jax import value_and_grad\n",
    "import jax.numpy as jnp\n",
    "import optax\n",
    "import matplotlib.pyplot as plt\n",
    "\n",
    "from vec_env.subproc_vec_env import SubprocVecEnv\n",
    "# Print numpy array floats with 2 decimal places\n",
    "np.set_printoptions(precision=2, suppress=True)"
   ]
  },
  {
   "cell_type": "code",
   "execution_count": 2,
   "metadata": {},
   "outputs": [],
   "source": [
    "# Type of environment, options include:\n",
    "# CartPole-v1, MountainCar-v0\n",
    "ENV_TYPE = \"CartPole-v1\"\n",
    "# Choose number of parallel environments, \n",
    "# don't exceed the number of computer threads\n",
    "num_envs = 10\n",
    "\n",
    "# Save videos from training\n",
    "SAVE_VIDEOS = False\n",
    "VIDEOS_ROOT_DIR = './videos/a2c_discrete_monte-carlo/'"
   ]
  },
  {
   "cell_type": "code",
   "execution_count": 3,
   "metadata": {},
   "outputs": [],
   "source": [
    "def make_env(env_id):\n",
    "    \"\"\"\n",
    "    Returns a single environment object, \n",
    "    which will be used for parallel execution.\n",
    "    \"\"\"\n",
    "    def _init():\n",
    "        env = gym.make(env_id)\n",
    "        return env\n",
    "    return _init"
   ]
  },
  {
   "cell_type": "code",
   "execution_count": 4,
   "metadata": {},
   "outputs": [],
   "source": [
    "# Create multiple envs for parallel execution\n",
    "envs = SubprocVecEnv([make_env(ENV_TYPE) for _ in range(num_envs)])\n",
    "\n",
    "num_actions = envs.action_space.n\n",
    "obs_dims = envs.observation_space.shape\n",
    "obs_upper_bounds = envs.observation_space.high\n",
    "obs_lower_bounds = envs.observation_space.low"
   ]
  },
  {
   "attachments": {},
   "cell_type": "markdown",
   "metadata": {},
   "source": [
    "## Create The Policy "
   ]
  },
  {
   "cell_type": "code",
   "execution_count": 5,
   "metadata": {},
   "outputs": [
    {
     "name": "stderr",
     "output_type": "stream",
     "text": [
      "An NVIDIA GPU may be present on this machine, but a CUDA-enabled jaxlib is not installed. Falling back to cpu.\n"
     ]
    },
    {
     "name": "stdout",
     "output_type": "stream",
     "text": [
      "\n",
      "\u001b[3m                               _policy_fn Summary                               \u001b[0m\n",
      "┏━━━━━━━━━┳━━━━━━━━━━━━┳━━━━━━━━━━━━━━━━━┳━━━━━━━━━━━━━━━━━┳━━━━━━━━━━━━━━━━━━━┓\n",
      "┃\u001b[1m \u001b[0m\u001b[1mpath   \u001b[0m\u001b[1m \u001b[0m┃\u001b[1m \u001b[0m\u001b[1mmodule    \u001b[0m\u001b[1m \u001b[0m┃\u001b[1m \u001b[0m\u001b[1minputs         \u001b[0m\u001b[1m \u001b[0m┃\u001b[1m \u001b[0m\u001b[1moutputs        \u001b[0m\u001b[1m \u001b[0m┃\u001b[1m \u001b[0m\u001b[1mparams           \u001b[0m\u001b[1m \u001b[0m┃\n",
      "┡━━━━━━━━━╇━━━━━━━━━━━━╇━━━━━━━━━━━━━━━━━╇━━━━━━━━━━━━━━━━━╇━━━━━━━━━━━━━━━━━━━┩\n",
      "│         │ _policy_fn │ \u001b[2mfloat32\u001b[0m[10,4]   │ \u001b[2mfloat32\u001b[0m[10,2]   │                   │\n",
      "├─────────┼────────────┼─────────────────┼─────────────────┼───────────────────┤\n",
      "│ Dense_0 │ Dense      │ \u001b[2mfloat32\u001b[0m[10,4]   │ \u001b[2mfloat32\u001b[0m[10,256] │ bias:             │\n",
      "│         │            │                 │                 │ \u001b[2mfloat32\u001b[0m[256]      │\n",
      "│         │            │                 │                 │ kernel:           │\n",
      "│         │            │                 │                 │ \u001b[2mfloat32\u001b[0m[4,256]    │\n",
      "│         │            │                 │                 │                   │\n",
      "│         │            │                 │                 │ \u001b[1m1,280 \u001b[0m\u001b[1;2m(5.1 KB)\u001b[0m    │\n",
      "├─────────┼────────────┼─────────────────┼─────────────────┼───────────────────┤\n",
      "│ Dense_1 │ Dense      │ \u001b[2mfloat32\u001b[0m[10,256] │ \u001b[2mfloat32\u001b[0m[10,2]   │ bias: \u001b[2mfloat32\u001b[0m[2]  │\n",
      "│         │            │                 │                 │ kernel:           │\n",
      "│         │            │                 │                 │ \u001b[2mfloat32\u001b[0m[256,2]    │\n",
      "│         │            │                 │                 │                   │\n",
      "│         │            │                 │                 │ \u001b[1m514 \u001b[0m\u001b[1;2m(2.1 KB)\u001b[0m      │\n",
      "├─────────┼────────────┼─────────────────┼─────────────────┼───────────────────┤\n",
      "│\u001b[1m \u001b[0m\u001b[1m       \u001b[0m\u001b[1m \u001b[0m│\u001b[1m \u001b[0m\u001b[1m          \u001b[0m\u001b[1m \u001b[0m│\u001b[1m \u001b[0m\u001b[1m               \u001b[0m\u001b[1m \u001b[0m│\u001b[1m \u001b[0m\u001b[1m          Total\u001b[0m\u001b[1m \u001b[0m│\u001b[1m \u001b[0m\u001b[1m1,794 \u001b[0m\u001b[1;2m(7.2 KB)\u001b[0m\u001b[1m   \u001b[0m\u001b[1m \u001b[0m│\n",
      "└─────────┴────────────┴─────────────────┴─────────────────┴───────────────────┘\n",
      "\u001b[1m                                                                                \u001b[0m\n",
      "\u001b[1m                        Total Parameters: 1,794 \u001b[0m\u001b[1;2m(7.2 KB)\u001b[0m\u001b[1m                        \u001b[0m\n",
      "\n",
      "\n"
     ]
    }
   ],
   "source": [
    "class _policy_fn(nn.Module):\n",
    "    \"\"\"\n",
    "    Policy function is an MLP used to choose the \n",
    "    best possible discrete action given the observations from the state.\n",
    "    Each discrete action is given a probability from 0-1.\n",
    "    The probability distribution can then be used \n",
    "    to stocastically choose the next action.  \n",
    "    \"\"\"\n",
    "    num_actions: int\n",
    "\n",
    "    @nn.compact\n",
    "    def __call__(self, x):\n",
    "        x = nn.Dense(256)(x)\n",
    "        x = jax.nn.relu(x)\n",
    "        x = nn.Dense(self.num_actions)(x)\n",
    "        return jax.nn.softmax(x)\n",
    "\n",
    "# Create the model object\n",
    "policy_fn = _policy_fn(num_actions=num_actions)\n",
    "# Display the model details\n",
    "dummy_x = envs.reset()\n",
    "dummy_x = jnp.array(dummy_x)\n",
    "rng_key = jax.random.PRNGKey(64)\n",
    "print(policy_fn.tabulate(rng_key, dummy_x))"
   ]
  },
  {
   "cell_type": "code",
   "execution_count": 6,
   "metadata": {},
   "outputs": [
    {
     "name": "stdout",
     "output_type": "stream",
     "text": [
      "\n",
      "\u001b[3m                               _value_fn Summary                                \u001b[0m\n",
      "┏━━━━━━━━━┳━━━━━━━━━━━┳━━━━━━━━━━━━━━━━━┳━━━━━━━━━━━━━━━━━┳━━━━━━━━━━━━━━━━━━━━┓\n",
      "┃\u001b[1m \u001b[0m\u001b[1mpath   \u001b[0m\u001b[1m \u001b[0m┃\u001b[1m \u001b[0m\u001b[1mmodule   \u001b[0m\u001b[1m \u001b[0m┃\u001b[1m \u001b[0m\u001b[1minputs         \u001b[0m\u001b[1m \u001b[0m┃\u001b[1m \u001b[0m\u001b[1moutputs        \u001b[0m\u001b[1m \u001b[0m┃\u001b[1m \u001b[0m\u001b[1mparams            \u001b[0m\u001b[1m \u001b[0m┃\n",
      "┡━━━━━━━━━╇━━━━━━━━━━━╇━━━━━━━━━━━━━━━━━╇━━━━━━━━━━━━━━━━━╇━━━━━━━━━━━━━━━━━━━━┩\n",
      "│         │ _value_fn │ \u001b[2mfloat32\u001b[0m[10,4]   │ \u001b[2mfloat32\u001b[0m[10,1]   │                    │\n",
      "├─────────┼───────────┼─────────────────┼─────────────────┼────────────────────┤\n",
      "│ Dense_0 │ Dense     │ \u001b[2mfloat32\u001b[0m[10,4]   │ \u001b[2mfloat32\u001b[0m[10,256] │ bias: \u001b[2mfloat32\u001b[0m[256] │\n",
      "│         │           │                 │                 │ kernel:            │\n",
      "│         │           │                 │                 │ \u001b[2mfloat32\u001b[0m[4,256]     │\n",
      "│         │           │                 │                 │                    │\n",
      "│         │           │                 │                 │ \u001b[1m1,280 \u001b[0m\u001b[1;2m(5.1 KB)\u001b[0m     │\n",
      "├─────────┼───────────┼─────────────────┼─────────────────┼────────────────────┤\n",
      "│ Dense_1 │ Dense     │ \u001b[2mfloat32\u001b[0m[10,256] │ \u001b[2mfloat32\u001b[0m[10,1]   │ bias: \u001b[2mfloat32\u001b[0m[1]   │\n",
      "│         │           │                 │                 │ kernel:            │\n",
      "│         │           │                 │                 │ \u001b[2mfloat32\u001b[0m[256,1]     │\n",
      "│         │           │                 │                 │                    │\n",
      "│         │           │                 │                 │ \u001b[1m257 \u001b[0m\u001b[1;2m(1.0 KB)\u001b[0m       │\n",
      "├─────────┼───────────┼─────────────────┼─────────────────┼────────────────────┤\n",
      "│\u001b[1m \u001b[0m\u001b[1m       \u001b[0m\u001b[1m \u001b[0m│\u001b[1m \u001b[0m\u001b[1m         \u001b[0m\u001b[1m \u001b[0m│\u001b[1m \u001b[0m\u001b[1m               \u001b[0m\u001b[1m \u001b[0m│\u001b[1m \u001b[0m\u001b[1m          Total\u001b[0m\u001b[1m \u001b[0m│\u001b[1m \u001b[0m\u001b[1m1,537 \u001b[0m\u001b[1;2m(6.1 KB)\u001b[0m\u001b[1m    \u001b[0m\u001b[1m \u001b[0m│\n",
      "└─────────┴───────────┴─────────────────┴─────────────────┴────────────────────┘\n",
      "\u001b[1m                                                                                \u001b[0m\n",
      "\u001b[1m                        Total Parameters: 1,537 \u001b[0m\u001b[1;2m(6.1 KB)\u001b[0m\u001b[1m                        \u001b[0m\n",
      "\n",
      "\n"
     ]
    }
   ],
   "source": [
    "class _value_fn(nn.Module):\n",
    "    \"\"\"\n",
    "    Value function is an MLP used to predict the expected return (value) \n",
    "    given the observations from the state.\n",
    "    The value can then be used for bootstrapping, and/or \n",
    "    calculating the advantage from action chosen in the state. \n",
    "    \"\"\"\n",
    "    @nn.compact\n",
    "    def __call__(self, x):\n",
    "        x = nn.Dense(256)(x)\n",
    "        x = jax.nn.relu(x)\n",
    "        x = nn.Dense(1)(x)\n",
    "        return x\n",
    "\n",
    "# Create the model object\n",
    "value_fn = _value_fn()\n",
    "# Display the model details\n",
    "print(value_fn.tabulate(rng_key, dummy_x))"
   ]
  },
  {
   "cell_type": "code",
   "execution_count": 7,
   "metadata": {},
   "outputs": [],
   "source": [
    "def test_model(policy_variables, env, rng_key):\n",
    "    \"\"\"\n",
    "    Runs a single episode following the policy function, \n",
    "    then returns the episodes rewards and steps.\n",
    "    Args:\n",
    "        policy_variables: Policy functions model parameters.\n",
    "        env: Environment used to interact with.\n",
    "        rng_key: Random number generator key.\n",
    "    Returns:\n",
    "        steps: Number of environment steps.\n",
    "        episode_rewards: List of rewards from the episode.\n",
    "    \"\"\"\n",
    "\n",
    "    terminated, truncated = False, False\n",
    "    episode_rewards = []\n",
    "    steps = 0\n",
    "\n",
    "    state, _ = env.reset()\n",
    "    while not (terminated or truncated):\n",
    "        steps += 1\n",
    "        # Select the action following the parametrized policy\n",
    "        action_dist = policy_fn.apply(policy_variables, state)\n",
    "        rng_key, subkey = jax.random.split(rng_key)\n",
    "        action = jax.random.choice(subkey, jnp.arange(num_actions), p=action_dist)\n",
    "        action = np.array(action)\n",
    "        next_state, reward, terminated, truncated, info = env.step(action)\n",
    "\n",
    "        episode_rewards.append(reward)\n",
    "\n",
    "        state = next_state\n",
    "    episode_rewards = np.array(episode_rewards)\n",
    "    return steps, episode_rewards\n",
    "\n",
    "    "
   ]
  },
  {
   "cell_type": "code",
   "execution_count": 8,
   "metadata": {},
   "outputs": [],
   "source": [
    "def get_returns(\n",
    "    gamma, next_value, rewards, done\n",
    "):\n",
    "    \"\"\"\n",
    "    Get discounted returns from rewards for each environment.\n",
    "    Args:\n",
    "        gamma: trajectory discount (scalar).\n",
    "        next_value: value functions bootstrapped return for next state.\n",
    "        rewards: agent rewards of taking actions in the environment.\n",
    "        done: flag list for end of episode, \n",
    "            False indicates terminated, and True not terminated.\n",
    "    Returns:\n",
    "        Array of returns for each environment at each step.\n",
    "    \"\"\"\n",
    "    batch_size = len(done)\n",
    "    rewards = jnp.array(rewards)\n",
    "    done = jnp.array(done)\n",
    "\n",
    "    R = jnp.squeeze(next_value)\n",
    "    returns = []\n",
    "\n",
    "    for t in reversed(range(batch_size)):\n",
    "        R = rewards[t] + (gamma * R * done[t])\n",
    "        returns.append(R)\n",
    "\n",
    "    returns = jnp.array(list(reversed(returns)))\n",
    "    return returns"
   ]
  },
  {
   "cell_type": "code",
   "execution_count": 9,
   "metadata": {},
   "outputs": [],
   "source": [
    "def loss_fn(value_variables, policy_variables, rng_key, gamma, max_steps, env_returns, env_steps):\n",
    "    \"\"\"\n",
    "    Runs a single episode in a Monte-Carlo way, \n",
    "    then calculates the actor and critic losses, \n",
    "    which are then combined and returned.\n",
    "    The gradients on this loss function are then used \n",
    "    to update the policy and actor functions.\n",
    "    Args:\n",
    "        value_variables: Value functions model parameters.\n",
    "        policy_variables: Policy functions model parameters.\n",
    "        rng_key: Random number generator key.\n",
    "        gamma: Discount rate for discounting returns.\n",
    "        max_steps: Limit on the number of steps in an episode.\n",
    "        env_returns: List containing the returns from all environments each episode.\n",
    "        env_steps: List containing the steps from all environments each episode.\n",
    "    Returns:\n",
    "        Combined loss of the value and actor functions.\n",
    "    \"\"\"\n",
    "    terminated, truncated, term_or_trunc = jnp.repeat(False, num_envs), jnp.repeat(False, num_envs), jnp.repeat(False, num_envs)\n",
    "    episode_log_probs = []\n",
    "    episode_values = []\n",
    "    episode_rewards = []\n",
    "    done_flag = []\n",
    "    steps = 0\n",
    "\n",
    "    states = envs.reset()\n",
    "    states = jnp.array(states)\n",
    "    # Generate an episode following the policy\n",
    "    while not term_or_trunc.all() and steps < max_steps:\n",
    "        steps += 1\n",
    "        # Select the action following the parametrized policy\n",
    "        action_dists = policy_fn.apply(policy_variables, states)\n",
    "        # Stocastically choose the next action based on the probability distribution\n",
    "        actions = []\n",
    "        for dist in action_dists:\n",
    "            rng_key, subkey = jax.random.split(rng_key)\n",
    "            action = jax.random.choice(subkey, jnp.arange(num_actions), p=dist)\n",
    "            actions.append(action)\n",
    "        actions = np.array(actions)\n",
    "        \n",
    "        next_states, rewards, terminated, truncated, info = envs.step(actions)\n",
    "        # Check if env was terminated or truncated in this episode or one of the previous episodes \n",
    "        # We only want one episode per environment\n",
    "        term_or_trunc = jnp.array([term or trunc or t_or_t for term, trunc, t_or_t in zip(terminated, truncated, term_or_trunc)])\n",
    "        done_flag.append(jnp.invert(term_or_trunc))\n",
    "        # If the episode previously ended, then set the reward to 0, \n",
    "        # we're ignoring rewards after the environment terminated\n",
    "        rewards = jnp.array([reward if not t_or_t else 0 for reward, t_or_t in zip(rewards, term_or_trunc)])\n",
    "        episode_rewards.append(rewards)\n",
    "        # Log probabilities are needed for the actor loss\n",
    "        log_probs = jnp.array([jnp.log(dist[action_index]) for dist, action_index in zip(action_dists, actions)])\n",
    "        episode_log_probs.append(log_probs)\n",
    "        # Entropy is used in the loss function to prevent the model from becoming too deterministic\n",
    "        entropy = jnp.array([-jnp.sum(dist * jnp.log(dist)) for dist in action_dists])\n",
    "        # Estimate the values given the states, then set all terminated states value to 0\n",
    "        values = value_fn.apply(value_variables, states)\n",
    "        values = jnp.squeeze(values)\n",
    "        # We're ignoring values after the environment terminated\n",
    "        values = [value if not t_or_t else 0.0 for value, t_or_t in zip(jnp.array(values), term_or_trunc)]\n",
    "        values = jnp.array(values, dtype=jnp.float32)\n",
    "        episode_values.append(values)\n",
    "\n",
    "        states = next_states\n",
    "\n",
    "    env_returns.append(list(np.array(episode_rewards).sum(axis=0)))\n",
    "    env_steps.append(list(np.array(done_flag).sum(axis=0)))\n",
    "\n",
    "    # Calculate the returns then \n",
    "    next_values = value_fn.apply(value_variables, next_states)\n",
    "    returns = get_returns(gamma, next_values, episode_rewards, done_flag)\n",
    "    episode_values = jnp.array(episode_values)\n",
    "    advantages = returns - episode_values\n",
    "    # Calculate actor and critic losses, then add entropy \n",
    "    episode_log_probs = jnp.array(episode_log_probs)\n",
    "    actor_loss = -(advantages * episode_log_probs).mean(axis=0)\n",
    "    critic_loss = (advantages**2).mean(axis=0)\n",
    "    loss = (actor_loss + 0.5 * critic_loss - 0.001 * entropy).mean()\n",
    "\n",
    "    return loss"
   ]
  },
  {
   "cell_type": "markdown",
   "metadata": {},
   "source": [
    "## Learn The Optimal Action-Value Function"
   ]
  },
  {
   "cell_type": "code",
   "execution_count": 61,
   "metadata": {},
   "outputs": [
    {
     "name": "stderr",
     "output_type": "stream",
     "text": [
      "/home/ubuntu22/repos/reinforcement-learning-algorithms/venv-pre/lib/python3.10/site-packages/gymnasium/wrappers/rendering.py:415: UserWarning: \u001b[33mWARN: Unable to save last video! Did you call close()?\u001b[0m\n",
      "  logger.warn(\"Unable to save last video! Did you call close()?\")\n",
      "/home/ubuntu22/repos/reinforcement-learning-algorithms/venv-pre/lib/python3.10/site-packages/gymnasium/wrappers/rendering.py:282: UserWarning: \u001b[33mWARN: Overwriting existing videos at /home/ubuntu22/repos/reinforcement-learning-algorithms/videos/a2c_discrete_monte-carlo folder (try specifying a different `video_folder` for the `RecordVideo` wrapper if this is not desired)\u001b[0m\n",
      "  logger.warn(\n"
     ]
    },
    {
     "name": "stdout",
     "output_type": "stream",
     "text": [
      "Episode: 0\n",
      "\tTest Episode 0 Return: 20.00 Steps: 20.00\n",
      "\tReturns: [np.float64(11.0), np.float64(13.0), np.float64(20.0), np.float64(15.0), np.float64(35.0), np.float64(10.0), np.float64(26.0), np.float64(54.0), np.float64(13.0), np.float64(10.0)]\n",
      "\tAverage Return: 20.70\n",
      "\tLoss: 58.08\n",
      "Episode: 1\n",
      "\tReturns: [np.float64(14.0), np.float64(32.0), np.float64(33.0), np.float64(18.0), np.float64(81.0), np.float64(23.0), np.float64(38.0), np.float64(74.0), np.float64(21.0), np.float64(19.0)]\n",
      "\tAverage Return: 35.30\n",
      "\tLoss: 143.06\n",
      "Episode: 2\n",
      "\tReturns: [np.float64(50.0), np.float64(73.0), np.float64(61.0), np.float64(42.0), np.float64(31.0), np.float64(42.0), np.float64(30.0), np.float64(43.0), np.float64(36.0), np.float64(39.0)]\n",
      "\tAverage Return: 44.70\n",
      "\tLoss: 177.27\n",
      "Episode: 3\n",
      "\tTest Episode 1 Return: 78.00 Steps: 78.00\n",
      "\tReturns: [np.float64(29.0), np.float64(37.0), np.float64(56.0), np.float64(41.0), np.float64(39.0), np.float64(44.0), np.float64(53.0), np.float64(79.0), np.float64(33.0), np.float64(56.0)]\n",
      "\tAverage Return: 46.70\n",
      "\tLoss: 182.41\n",
      "Episode: 4\n",
      "\tReturns: [np.float64(30.0), np.float64(141.0), np.float64(41.0), np.float64(28.0), np.float64(76.0), np.float64(37.0), np.float64(54.0), np.float64(57.0), np.float64(114.0), np.float64(48.0)]\n",
      "\tAverage Return: 62.60\n",
      "\tLoss: 289.06\n",
      "Episode: 5\n",
      "\tReturns: [np.float64(113.0), np.float64(75.0), np.float64(46.0), np.float64(33.0), np.float64(30.0), np.float64(42.0), np.float64(148.0), np.float64(94.0), np.float64(89.0), np.float64(97.0)]\n",
      "\tAverage Return: 76.70\n",
      "\tLoss: 392.63\n",
      "Episode: 6\n",
      "\tTest Episode 2 Return: 168.00 Steps: 168.00\n",
      "\tReturns: [np.float64(53.0), np.float64(115.0), np.float64(43.0), np.float64(78.0), np.float64(58.0), np.float64(36.0), np.float64(72.0), np.float64(66.0), np.float64(99.0), np.float64(98.0)]\n",
      "\tAverage Return: 71.80\n",
      "\tLoss: 362.61\n",
      "Episode: 7\n",
      "\tReturns: [np.float32(44.0), np.float32(135.0), np.float32(107.0), np.float32(42.0), np.float32(60.0), np.float32(143.0), np.float32(81.0), np.float32(69.0), np.float32(200.0), np.float32(151.0)]\n",
      "\tAverage Return: 103.20\n",
      "\tLoss: 547.97\n",
      "Episode: 8\n",
      "\tReturns: [np.float32(132.0), np.float32(126.0), np.float32(200.0), np.float32(122.0), np.float32(101.0), np.float32(114.0), np.float32(200.0), np.float32(61.0), np.float32(172.0), np.float32(198.0)]\n",
      "\tAverage Return: 142.60\n",
      "\tLoss: 960.42\n",
      "Episode: 9\n",
      "\tTest Episode 3 Return: 161.00 Steps: 161.00\n",
      "\tReturns: [np.float32(81.0), np.float32(169.0), np.float32(200.0), np.float32(58.0), np.float32(200.0), np.float32(166.0), np.float32(200.0), np.float32(88.0), np.float32(135.0), np.float32(200.0)]\n",
      "\tAverage Return: 149.70\n",
      "\tLoss: 1099.12\n",
      "Episode: 10\n",
      "\tReturns: [np.float32(86.0), np.float32(200.0), np.float32(88.0), np.float32(56.0), np.float32(188.0), np.float32(87.0), np.float32(200.0), np.float32(90.0), np.float32(116.0), np.float32(121.0)]\n",
      "\tAverage Return: 123.20\n",
      "\tLoss: 724.96\n",
      "Episode: 11\n",
      "\tReturns: [np.float32(94.0), np.float32(190.0), np.float32(168.0), np.float32(63.0), np.float32(200.0), np.float32(69.0), np.float32(200.0), np.float32(93.0), np.float32(200.0), np.float32(200.0)]\n",
      "\tAverage Return: 147.70\n",
      "\tLoss: 1074.65\n",
      "Episode: 12\n",
      "\tTest Episode 4 Return: 85.00 Steps: 85.00\n",
      "\tReturns: [np.float32(200.0), np.float32(199.0), np.float32(152.0), np.float32(200.0), np.float32(200.0), np.float32(70.0), np.float32(200.0), np.float32(57.0), np.float32(200.0), np.float32(200.0)]\n",
      "\tAverage Return: 167.80\n",
      "\tLoss: 1330.62\n",
      "Episode: 13\n",
      "\tReturns: [np.float32(200.0), np.float32(200.0), np.float32(200.0), np.float32(200.0), np.float32(200.0), np.float32(76.0), np.float32(200.0), np.float32(63.0), np.float32(200.0), np.float32(200.0)]\n",
      "\tAverage Return: 173.90\n",
      "\tLoss: 1452.14\n",
      "Episode: 14\n",
      "\tReturns: [np.float32(200.0), np.float32(200.0), np.float32(200.0), np.float32(200.0), np.float32(200.0), np.float32(73.0), np.float32(157.0), np.float32(200.0), np.float32(200.0), np.float32(200.0)]\n",
      "\tAverage Return: 183.00\n",
      "\tLoss: 1523.60\n",
      "Episode: 15\n",
      "\tTest Episode 5 Return: 500.00 Steps: 500.00\n",
      "\tReturns: [np.float32(200.0), np.float32(200.0), np.float32(161.0), np.float32(200.0), np.float32(200.0), np.float32(75.0), np.float32(200.0), np.float32(141.0), np.float32(200.0), np.float32(200.0)]\n",
      "\tAverage Return: 177.70\n",
      "\tLoss: 1380.71\n",
      "Episode: 16\n",
      "\tReturns: [np.float32(200.0), np.float32(200.0), np.float32(200.0), np.float32(200.0), np.float32(200.0), np.float32(75.0), np.float32(200.0), np.float32(93.0), np.float32(200.0), np.float32(200.0)]\n",
      "\tAverage Return: 176.80\n",
      "\tLoss: 1417.36\n",
      "Episode: 17\n",
      "\tReturns: [np.float32(200.0), np.float32(200.0), np.float32(200.0), np.float32(200.0), np.float32(200.0), np.float32(200.0), np.float32(200.0), np.float32(200.0), np.float32(200.0), np.float32(200.0)]\n",
      "\tAverage Return: 200.00\n",
      "\tLoss: 1686.60\n",
      "Episode: 18\n",
      "\tTest Episode 6 Return: 500.00 Steps: 500.00\n",
      "\tReturns: [np.float32(200.0), np.float32(200.0), np.float32(200.0), np.float32(200.0), np.float32(200.0), np.float32(77.0), np.float32(200.0), np.float32(200.0), np.float32(200.0), np.float32(200.0)]\n",
      "\tAverage Return: 187.70\n",
      "\tLoss: 1504.69\n"
     ]
    }
   ],
   "source": [
    "# Number of episodes to train on\n",
    "episodes = 19\n",
    "# Sliding window for episode evaluation (needs to be less than episodes)\n",
    "episode_window = 3\n",
    "# Episode will terminate before max_steps\n",
    "max_steps = 200\n",
    "# Discount ratio\n",
    "gamma = 0.99\n",
    "# Step size\n",
    "policy_alpha = 0.01\n",
    "value_alpha = 0.01\n",
    "\n",
    "policy_variables = policy_fn.init(rng_key, dummy_x)\n",
    "policy_optimizer = optax.adam(learning_rate=policy_alpha)\n",
    "policy_opt_state = policy_optimizer.init(policy_variables)\n",
    "\n",
    "value_variables = value_fn.init(rng_key, dummy_x)\n",
    "value_optimizer = optax.adam(learning_rate=value_alpha)\n",
    "value_opt_state = value_optimizer.init(value_variables)\n",
    "\n",
    "# Create multiple envs for parallel execution\n",
    "envs = SubprocVecEnv([make_env(ENV_TYPE) for _ in range(num_envs)])\n",
    "if SAVE_VIDEOS:\n",
    "    # Create a single environment for testing\n",
    "    os.makedirs(VIDEOS_ROOT_DIR, exist_ok=True)\n",
    "    test_returns = []\n",
    "    test_steps = []\n",
    "    env = gym.make(ENV_TYPE, render_mode=\"rgb_array\")\n",
    "    env = gym.wrappers.RecordVideo(\n",
    "        env=env, \n",
    "        video_folder=VIDEOS_ROOT_DIR,\n",
    "        episode_trigger=lambda episode: episode % 1 == 0,\n",
    "        video_length=0,\n",
    "        name_prefix=f\"{ENV_TYPE}\",\n",
    "        fps=30\n",
    "        ) \n",
    "env_returns = []\n",
    "env_steps = []\n",
    "losses = []\n",
    "\n",
    "for episode in range(episodes):\n",
    "    print(f\"Episode: {episode}\")\n",
    "    # Perform 6 tests and record them at even intervals\n",
    "    if SAVE_VIDEOS and episode % (episodes // 5) == 0:\n",
    "        test_step, test_rewards = test_model(policy_variables, env, rng_key)\n",
    "        test_returns.append(np.sum(test_rewards))\n",
    "        test_steps.append(test_step)\n",
    "        test_episode = episode // (episodes // 5)\n",
    "        print(f\"\\tTest Episode {test_episode} Return: {test_returns[test_episode] :.2f} Steps: {test_steps[test_episode] :.2f}\")\n",
    "\n",
    "    # Run a forward pass on the parallel envs (will last an entire episode) and \n",
    "    # calculate the gradients for value and policy functions \n",
    "    loss, (value_grads, policy_grads) = value_and_grad(loss_fn, argnums=(0, 1))(\n",
    "        value_variables, \n",
    "        policy_variables, \n",
    "        rng_key, \n",
    "        gamma, \n",
    "        max_steps,\n",
    "        env_returns,\n",
    "        env_steps\n",
    "    )\n",
    "    # Update value function weights\n",
    "    value_updates, value_opt_state = value_optimizer.update(value_grads, value_opt_state, value_variables)\n",
    "    value_variables = optax.apply_updates(value_variables, value_updates)        \n",
    "    # Update policy function weights\n",
    "    policy_updates, policy_opt_state = policy_optimizer.update(policy_grads, policy_opt_state, policy_variables)\n",
    "    policy_variables = optax.apply_updates(policy_variables, policy_updates)\n",
    "\n",
    "\n",
    "    losses.append(loss)\n",
    "    print(f'\\tReturns: {env_returns[-1]}')\n",
    "    print(f\"\\tAverage Return: {jnp.array(env_returns[-1]).mean() :.2f}\")\n",
    "    print(f\"\\tLoss: {loss :.2f}\")\n",
    "\n",
    "        "
   ]
  },
  {
   "attachments": {},
   "cell_type": "markdown",
   "metadata": {},
   "source": [
    "## Plot The Results\n"
   ]
  },
  {
   "cell_type": "code",
   "execution_count": 62,
   "metadata": {},
   "outputs": [
    {
     "data": {
      "image/png": "[encoded data removed]",
      "text/plain": [
       "<Figure size 600x500 with 1 Axes>"
      ]
     },
     "metadata": {},
     "output_type": "display_data"
    }
   ],
   "source": [
    "fig, axs = plt.subplots(ncols=1, figsize=(6, 5))\n",
    "axs.set_title(\"Loss\")\n",
    "loss_moving_average = (\n",
    "    np.convolve(\n",
    "        losses, np.ones(episode_window), mode=\"valid\"\n",
    "    )\n",
    "    / episode_window\n",
    ")\n",
    "axs.plot(range(len(loss_moving_average)), loss_moving_average)\n",
    "plt.tight_layout()\n",
    "plt.show()"
   ]
  },
  {
   "attachments": {},
   "cell_type": "markdown",
   "metadata": {},
   "source": [
    "For cartpole rewards are assigned for the time spent in a non-terminal state. The episode length and rewards will be identical in this case."
   ]
  },
  {
   "cell_type": "code",
   "execution_count": 63,
   "metadata": {},
   "outputs": [
    {
     "data": {
      "image/png": "[encoded data removed]",
      "text/plain": [
       "<Figure size 1200x500 with 2 Axes>"
      ]
     },
     "metadata": {},
     "output_type": "display_data"
    }
   ],
   "source": [
    "# Code used from: https://gymnasium.farama.org/tutorials/blackjack_tutorial/#visualizing-the-training\n",
    "fig, axs = plt.subplots(ncols=2, figsize=(12, 5))\n",
    "axs[0].set_title(\"Episode rewards\")\n",
    "reward_moving_average = (\n",
    "    np.convolve(\n",
    "        np.array(env_returns).mean(axis=1), np.ones(episode_window), mode=\"valid\"\n",
    "    )\n",
    "    / episode_window\n",
    ")\n",
    "axs[0].plot(range(len(reward_moving_average)), reward_moving_average)\n",
    "axs[1].set_title(\"Episode lengths\")\n",
    "length_moving_average = (\n",
    "    np.convolve(\n",
    "        np.array(env_steps).mean(axis=1), np.ones(episode_window), mode=\"valid\"\n",
    "    )\n",
    "    / episode_window\n",
    ")\n",
    "axs[1].plot(range(len(length_moving_average)), length_moving_average)\n",
    "plt.tight_layout()\n",
    "plt.show()"
   ]
  },
  {
   "cell_type": "code",
   "execution_count": 64,
   "metadata": {},
   "outputs": [
    {
     "data": {
      "image/png": "[encoded data removed]",
      "text/plain": [
       "<Figure size 1200x500 with 2 Axes>"
      ]
     },
     "metadata": {},
     "output_type": "display_data"
    }
   ],
   "source": [
    "fig, axs = plt.subplots(ncols=2, figsize=(12, 5))\n",
    "axs[0].set_title(\"Test Returns\")\n",
    "axs[0].plot(range(len(test_returns)), test_returns)\n",
    "axs[1].set_title(\"Test Lengths\")\n",
    "axs[1].plot(range(len(test_steps)), test_steps)\n",
    "plt.tight_layout()\n",
    "plt.show()"
   ]
  },
  {
   "attachments": {},
   "cell_type": "markdown",
   "metadata": {},
   "source": [
    "## Testing Videos"
   ]
  },
  {
   "attachments": {},
   "cell_type": "markdown",
   "metadata": {},
   "source": [
    "### Test Episode 0"
   ]
  },
  {
   "cell_type": "code",
   "execution_count": 65,
   "metadata": {},
   "outputs": [
    {
     "name": "stdout",
     "output_type": "stream",
     "text": [
      "Test Episode 0 Return: 20.0\n"
     ]
    }
   ],
   "source": [
    "test_episode = 0\n",
    "print(f\"Test Episode {test_episode} Return: {test_returns[test_episode]}\")"
   ]
  },
  {
   "cell_type": "code",
   "execution_count": 66,
   "metadata": {},
   "outputs": [
    {
     "data": {
      "text/html": [
       "<video src=\"./videos/a2c_discrete_monte-carlo//CartPole-v1-episode-0.mp4\" controls  >\n",
       "      Your browser does not support the <code>video</code> element.\n",
       "    </video>"
      ],
      "text/plain": [
       "<IPython.core.display.Video object>"
      ]
     },
     "execution_count": 66,
     "metadata": {},
     "output_type": "execute_result"
    }
   ],
   "source": [
    "Video(f\"{VIDEOS_ROOT_DIR}/{ENV_TYPE}-episode-{test_episode}.mp4\")"
   ]
  },
  {
   "attachments": {},
   "cell_type": "markdown",
   "metadata": {},
   "source": [
    "### Test Episode 1"
   ]
  },
  {
   "cell_type": "code",
   "execution_count": 67,
   "metadata": {},
   "outputs": [
    {
     "name": "stdout",
     "output_type": "stream",
     "text": [
      "Test Episode 1 Return: 78.0\n"
     ]
    }
   ],
   "source": [
    "test_episode = 1\n",
    "print(f\"Test Episode {test_episode} Return: {test_returns[test_episode]}\")"
   ]
  },
  {
   "cell_type": "code",
   "execution_count": 68,
   "metadata": {},
   "outputs": [
    {
     "data": {
      "text/html": [
       "<video src=\"./videos/a2c_discrete_monte-carlo//CartPole-v1-episode-1.mp4\" controls  >\n",
       "      Your browser does not support the <code>video</code> element.\n",
       "    </video>"
      ],
      "text/plain": [
       "<IPython.core.display.Video object>"
      ]
     },
     "execution_count": 68,
     "metadata": {},
     "output_type": "execute_result"
    }
   ],
   "source": [
    "Video(f\"{VIDEOS_ROOT_DIR}/{ENV_TYPE}-episode-{test_episode}.mp4\")"
   ]
  },
  {
   "attachments": {},
   "cell_type": "markdown",
   "metadata": {},
   "source": [
    "### Test Episode 2"
   ]
  },
  {
   "cell_type": "code",
   "execution_count": 69,
   "metadata": {},
   "outputs": [
    {
     "name": "stdout",
     "output_type": "stream",
     "text": [
      "Test Episode 2 Return: 168.0\n"
     ]
    }
   ],
   "source": [
    "test_episode = 2\n",
    "print(f\"Test Episode {test_episode} Return: {test_returns[test_episode]}\")"
   ]
  },
  {
   "cell_type": "code",
   "execution_count": 70,
   "metadata": {},
   "outputs": [
    {
     "data": {
      "text/html": [
       "<video src=\"./videos/a2c_discrete_monte-carlo//CartPole-v1-episode-2.mp4\" controls  >\n",
       "      Your browser does not support the <code>video</code> element.\n",
       "    </video>"
      ],
      "text/plain": [
       "<IPython.core.display.Video object>"
      ]
     },
     "execution_count": 70,
     "metadata": {},
     "output_type": "execute_result"
    }
   ],
   "source": [
    "Video(f\"{VIDEOS_ROOT_DIR}/{ENV_TYPE}-episode-{test_episode}.mp4\")"
   ]
  },
  {
   "attachments": {},
   "cell_type": "markdown",
   "metadata": {},
   "source": [
    "### Test Episode 3"
   ]
  },
  {
   "cell_type": "code",
   "execution_count": 71,
   "metadata": {},
   "outputs": [
    {
     "name": "stdout",
     "output_type": "stream",
     "text": [
      "Test Episode 3 Return: 161.0\n"
     ]
    }
   ],
   "source": [
    "test_episode = 3\n",
    "print(f\"Test Episode {test_episode} Return: {test_returns[test_episode]}\")"
   ]
  },
  {
   "cell_type": "code",
   "execution_count": 72,
   "metadata": {},
   "outputs": [
    {
     "data": {
      "text/html": [
       "<video src=\"./videos/a2c_discrete_monte-carlo//CartPole-v1-episode-3.mp4\" controls  >\n",
       "      Your browser does not support the <code>video</code> element.\n",
       "    </video>"
      ],
      "text/plain": [
       "<IPython.core.display.Video object>"
      ]
     },
     "execution_count": 72,
     "metadata": {},
     "output_type": "execute_result"
    }
   ],
   "source": [
    "Video(f\"{VIDEOS_ROOT_DIR}/{ENV_TYPE}-episode-{test_episode}.mp4\")"
   ]
  },
  {
   "attachments": {},
   "cell_type": "markdown",
   "metadata": {},
   "source": [
    "### Test Episode 4"
   ]
  },
  {
   "cell_type": "code",
   "execution_count": 73,
   "metadata": {},
   "outputs": [
    {
     "name": "stdout",
     "output_type": "stream",
     "text": [
      "Test Episode 4 Return: 85.0\n"
     ]
    }
   ],
   "source": [
    "test_episode = 4\n",
    "print(f\"Test Episode {test_episode} Return: {test_returns[test_episode]}\")"
   ]
  },
  {
   "cell_type": "code",
   "execution_count": 74,
   "metadata": {},
   "outputs": [
    {
     "data": {
      "text/html": [
       "<video src=\"./videos/a2c_discrete_monte-carlo//CartPole-v1-episode-4.mp4\" controls  >\n",
       "      Your browser does not support the <code>video</code> element.\n",
       "    </video>"
      ],
      "text/plain": [
       "<IPython.core.display.Video object>"
      ]
     },
     "execution_count": 74,
     "metadata": {},
     "output_type": "execute_result"
    }
   ],
   "source": [
    "Video(f\"{VIDEOS_ROOT_DIR}/{ENV_TYPE}-episode-{test_episode}.mp4\")"
   ]
  },
  {
   "attachments": {},
   "cell_type": "markdown",
   "metadata": {},
   "source": [
    "### Test Episode 5"
   ]
  },
  {
   "cell_type": "code",
   "execution_count": 75,
   "metadata": {},
   "outputs": [
    {
     "name": "stdout",
     "output_type": "stream",
     "text": [
      "Test Episode 5 Return: 500.0\n"
     ]
    }
   ],
   "source": [
    "test_episode = 5\n",
    "print(f\"Test Episode {test_episode} Return: {test_returns[test_episode]}\")"
   ]
  },
  {
   "cell_type": "code",
   "execution_count": 76,
   "metadata": {},
   "outputs": [
    {
     "data": {
      "text/html": [
       "<video src=\"./videos/a2c_discrete_monte-carlo//CartPole-v1-episode-5.mp4\" controls  >\n",
       "      Your browser does not support the <code>video</code> element.\n",
       "    </video>"
      ],
      "text/plain": [
       "<IPython.core.display.Video object>"
      ]
     },
     "execution_count": 76,
     "metadata": {},
     "output_type": "execute_result"
    }
   ],
   "source": [
    "Video(f\"{VIDEOS_ROOT_DIR}/{ENV_TYPE}-episode-{test_episode}.mp4\")"
   ]
  }
 ],
 "metadata": {
  "kernelspec": {
   "display_name": "flax",
   "language": "python",
   "name": "python3"
  },
  "language_info": {
   "codemirror_mode": {
    "name": "ipython",
    "version": 3
   },
   "file_extension": ".py",
   "mimetype": "text/x-python",
   "name": "python",
   "nbconvert_exporter": "python",
   "pygments_lexer": "ipython3",
   "version": "3.10.12"
  },
  "orig_nbformat": 4,
  "vscode": {
   "interpreter": {
    "hash": "0a8d1f2580cdfde5c5829808ec6fccc81a351d243fb8b1925f7928e44ccf575b"
   }
  }
 },
 "nbformat": 4,
 "nbformat_minor": 2
}
