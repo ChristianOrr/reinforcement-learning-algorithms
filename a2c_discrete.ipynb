{
 "cells": [
  {
   "attachments": {},
   "cell_type": "markdown",
   "metadata": {},
   "source": [
    "# Synchronous Advantage Actor-Critic (A2C)\n",
    "\n",
    "This is the A2C algorithm with a discrete action space (only works on environments with discrete actions). Synchronous Advantage Actor-Critic (A2C) is an actor-critic method which runs multiple environments in parallel. A2C is a synchronous version of the asynchronous algorithm A3C. The updates will be performed in a Monte-Carlo way, all the actors will need to enter a terminal state before the policy and value functions can be updated. The advantage function, $A^{\\pi}$, following policy $\\pi$ is defined by:\n",
    "$$A^{\\pi} = Q^{\\pi}(s_t, a_t) - V^{\\pi}(s_t),$$\n",
    "where $Q^{\\pi}(s_t, a_t)$ is the action-value function following policy $\\pi$ and $V^{\\pi}(s_t)$ is the state-value function following policy $\\pi$. The advantage function essentially measures the advantage gained (or lost) by taking the action $a_t$ in state $s_t$ over the average return of all immediate actions, and then following policy $\\pi$ in the following states. We don't know the absolute value of the advantage, $A^{\\pi}$, hence we need to find an advantage estimate, $\\hat{A}$, as a substitute.\n",
    "\n",
    "The advantage estimate used in A2C/A3C is given by:\n",
    "$$\\hat{A}_{t} = G_t - \\hat{v}(S_t, w),$$ \n",
    "where $G_t$ is the discounted return for terminal episodes or the bootstrapped return for non-terminal episodes, and $\\hat{v}(S_t, w)$ is the value estimate given state $S_t$ and parameters $w$. The bias-variance trade-off can be finetuned by altering the discount rate $\\gamma$. Larger discount/decay rates lead to higher variance and lower bias and lower discount/decay rates lead to lower variance and higher bias. \n",
    "\n",
    "The state-value function parameter update is given by:\n",
    "$$w \\leftarrow w + \\alpha^{w}\\nabla\\hat{A}_{t}^{2},$$\n",
    "where $\\alpha$ is the step-size/learning rate.\n",
    "\n",
    "The policy function update is given by:\n",
    "$$\\theta \\leftarrow \\theta + \\alpha^{\\theta} \\nabla_\\theta \\log(\\pi_\\theta(a_t | s_t))\\hat{A}_{t}.$$\n",
    "\n",
    "\n",
    "\n",
    "For more information on A2C/A3C, see the original A3C paper [1] [Asynchronous Methods for Deep Reinforcement Learning](https://arxiv.org/abs/1602.01783), the notebook [2] [RL-Adventure-2 Actor-Critic Notebook](https://github.com/higgsfield/RL-Adventure-2/blob/master/1.actor-critic.ipynb).\n"
   ]
  },
  {
   "cell_type": "code",
   "execution_count": 14,
   "metadata": {},
   "outputs": [],
   "source": [
    "import os\n",
    "import random\n",
    "import numpy as np\n",
    "from functools import partial\n",
    "import gymnasium as gym\n",
    "from gymnasium.wrappers import RecordVideo\n",
    "from IPython.display import Video\n",
    "import jax\n",
    "import flax.linen as nn\n",
    "from jax import grad, value_and_grad\n",
    "import jax.numpy as jnp\n",
    "import optax\n",
    "import matplotlib.pyplot as plt\n",
    "\n",
    "from vec_env.subproc_vec_env import SubprocVecEnv\n",
    "# Print numpy array floats with 2 decimal places\n",
    "np.set_printoptions(precision=2, suppress=True)"
   ]
  },
  {
   "cell_type": "code",
   "execution_count": 15,
   "metadata": {},
   "outputs": [],
   "source": [
    "# Type of environment, options include:\n",
    "# CartPole-v1, MountainCar-v0\n",
    "ENV_TYPE = \"CartPole-v1\"\n",
    "# Choose number of parallel environments, \n",
    "# don't exceed the number of computer threads\n",
    "num_envs = 10\n",
    "\n",
    "# Save videos from training\n",
    "SAVE_VIDEOS = True\n",
    "VIDEOS_ROOT_DIR = './videos/a2c_discrete/'"
   ]
  },
  {
   "cell_type": "code",
   "execution_count": 16,
   "metadata": {},
   "outputs": [],
   "source": [
    "def make_env(env_id):\n",
    "    \"\"\"\n",
    "    Returns a single environment object, \n",
    "    which will be used for parallel execution.\n",
    "    \"\"\"\n",
    "    def _init():\n",
    "        env = gym.make(env_id)\n",
    "        return env\n",
    "    return _init"
   ]
  },
  {
   "cell_type": "code",
   "execution_count": 17,
   "metadata": {},
   "outputs": [],
   "source": [
    "# Create multiple envs for parallel execution\n",
    "envs = SubprocVecEnv([make_env(ENV_TYPE) for _ in range(num_envs)])\n",
    "\n",
    "num_actions = envs.action_space.n\n",
    "obs_dims = envs.observation_space.shape\n",
    "obs_upper_bounds = envs.observation_space.high\n",
    "obs_lower_bounds = envs.observation_space.low"
   ]
  },
  {
   "attachments": {},
   "cell_type": "markdown",
   "metadata": {},
   "source": [
    "## Create The Policy "
   ]
  },
  {
   "cell_type": "code",
   "execution_count": 18,
   "metadata": {},
   "outputs": [
    {
     "name": "stdout",
     "output_type": "stream",
     "text": [
      "\n",
      "\u001b[3m                               _policy_fn Summary                               \u001b[0m\n",
      "┏━━━━━━━━━┳━━━━━━━━━━━━┳━━━━━━━━━━━━━━━━━┳━━━━━━━━━━━━━━━━━┳━━━━━━━━━━━━━━━━━━━┓\n",
      "┃\u001b[1m \u001b[0m\u001b[1mpath   \u001b[0m\u001b[1m \u001b[0m┃\u001b[1m \u001b[0m\u001b[1mmodule    \u001b[0m\u001b[1m \u001b[0m┃\u001b[1m \u001b[0m\u001b[1minputs         \u001b[0m\u001b[1m \u001b[0m┃\u001b[1m \u001b[0m\u001b[1moutputs        \u001b[0m\u001b[1m \u001b[0m┃\u001b[1m \u001b[0m\u001b[1mparams           \u001b[0m\u001b[1m \u001b[0m┃\n",
      "┡━━━━━━━━━╇━━━━━━━━━━━━╇━━━━━━━━━━━━━━━━━╇━━━━━━━━━━━━━━━━━╇━━━━━━━━━━━━━━━━━━━┩\n",
      "│         │ _policy_fn │ \u001b[2mfloat32\u001b[0m[10,4]   │ \u001b[2mfloat32\u001b[0m[10,2]   │                   │\n",
      "├─────────┼────────────┼─────────────────┼─────────────────┼───────────────────┤\n",
      "│ Dense_0 │ Dense      │ \u001b[2mfloat32\u001b[0m[10,4]   │ \u001b[2mfloat32\u001b[0m[10,256] │ bias:             │\n",
      "│         │            │                 │                 │ \u001b[2mfloat32\u001b[0m[256]      │\n",
      "│         │            │                 │                 │ kernel:           │\n",
      "│         │            │                 │                 │ \u001b[2mfloat32\u001b[0m[4,256]    │\n",
      "│         │            │                 │                 │                   │\n",
      "│         │            │                 │                 │ \u001b[1m1,280 \u001b[0m\u001b[1;2m(5.1 KB)\u001b[0m    │\n",
      "├─────────┼────────────┼─────────────────┼─────────────────┼───────────────────┤\n",
      "│ Dense_1 │ Dense      │ \u001b[2mfloat32\u001b[0m[10,256] │ \u001b[2mfloat32\u001b[0m[10,2]   │ bias: \u001b[2mfloat32\u001b[0m[2]  │\n",
      "│         │            │                 │                 │ kernel:           │\n",
      "│         │            │                 │                 │ \u001b[2mfloat32\u001b[0m[256,2]    │\n",
      "│         │            │                 │                 │                   │\n",
      "│         │            │                 │                 │ \u001b[1m514 \u001b[0m\u001b[1;2m(2.1 KB)\u001b[0m      │\n",
      "├─────────┼────────────┼─────────────────┼─────────────────┼───────────────────┤\n",
      "│\u001b[1m \u001b[0m\u001b[1m       \u001b[0m\u001b[1m \u001b[0m│\u001b[1m \u001b[0m\u001b[1m          \u001b[0m\u001b[1m \u001b[0m│\u001b[1m \u001b[0m\u001b[1m               \u001b[0m\u001b[1m \u001b[0m│\u001b[1m \u001b[0m\u001b[1m          Total\u001b[0m\u001b[1m \u001b[0m│\u001b[1m \u001b[0m\u001b[1m1,794 \u001b[0m\u001b[1;2m(7.2 KB)\u001b[0m\u001b[1m   \u001b[0m\u001b[1m \u001b[0m│\n",
      "└─────────┴────────────┴─────────────────┴─────────────────┴───────────────────┘\n",
      "\u001b[1m                                                                                \u001b[0m\n",
      "\u001b[1m                        Total Parameters: 1,794 \u001b[0m\u001b[1;2m(7.2 KB)\u001b[0m\u001b[1m                        \u001b[0m\n",
      "\n",
      "\n"
     ]
    },
    {
     "name": "stderr",
     "output_type": "stream",
     "text": [
      "/home/ubuntu20/anaconda3/envs/flax/lib/python3.9/site-packages/numpy/core/shape_base.py:420: VisibleDeprecationWarning: Creating an ndarray from ragged nested sequences (which is a list-or-tuple of lists-or-tuples-or ndarrays with different lengths or shapes) is deprecated. If you meant to do this, you must specify 'dtype=object' when creating the ndarray.\n",
      "  arrays = [asanyarray(arr) for arr in arrays]\n"
     ]
    }
   ],
   "source": [
    "class _policy_fn(nn.Module):\n",
    "    \"\"\"\n",
    "    Policy function is an MLP used to choose the \n",
    "    best possible discrete action given the observations from the state.\n",
    "    Each discrete action is given a probability from 0-1.\n",
    "    The probability distribution can then be used \n",
    "    to stocastically choose the next action.  \n",
    "    \"\"\"\n",
    "    @nn.compact\n",
    "    def __call__(self, x):\n",
    "        x = nn.Dense(256)(x)\n",
    "        x = jax.nn.relu(x)\n",
    "        x = nn.Dense(num_actions)(x)\n",
    "        return jax.nn.softmax(x)\n",
    "\n",
    "# Create the model object\n",
    "policy_fn = _policy_fn()\n",
    "# Display the model details\n",
    "dummy_x = envs.reset()\n",
    "dummy_x = jnp.array(list(dummy_x[:, 0]))\n",
    "rng_key = jax.random.PRNGKey(64)\n",
    "print(policy_fn.tabulate(rng_key, dummy_x))"
   ]
  },
  {
   "cell_type": "code",
   "execution_count": 19,
   "metadata": {},
   "outputs": [
    {
     "name": "stdout",
     "output_type": "stream",
     "text": [
      "\n",
      "\u001b[3m                               _value_fn Summary                                \u001b[0m\n",
      "┏━━━━━━━━━┳━━━━━━━━━━━┳━━━━━━━━━━━━━━━━━┳━━━━━━━━━━━━━━━━━┳━━━━━━━━━━━━━━━━━━━━┓\n",
      "┃\u001b[1m \u001b[0m\u001b[1mpath   \u001b[0m\u001b[1m \u001b[0m┃\u001b[1m \u001b[0m\u001b[1mmodule   \u001b[0m\u001b[1m \u001b[0m┃\u001b[1m \u001b[0m\u001b[1minputs         \u001b[0m\u001b[1m \u001b[0m┃\u001b[1m \u001b[0m\u001b[1moutputs        \u001b[0m\u001b[1m \u001b[0m┃\u001b[1m \u001b[0m\u001b[1mparams            \u001b[0m\u001b[1m \u001b[0m┃\n",
      "┡━━━━━━━━━╇━━━━━━━━━━━╇━━━━━━━━━━━━━━━━━╇━━━━━━━━━━━━━━━━━╇━━━━━━━━━━━━━━━━━━━━┩\n",
      "│         │ _value_fn │ \u001b[2mfloat32\u001b[0m[10,4]   │ \u001b[2mfloat32\u001b[0m[10,1]   │                    │\n",
      "├─────────┼───────────┼─────────────────┼─────────────────┼────────────────────┤\n",
      "│ Dense_0 │ Dense     │ \u001b[2mfloat32\u001b[0m[10,4]   │ \u001b[2mfloat32\u001b[0m[10,256] │ bias: \u001b[2mfloat32\u001b[0m[256] │\n",
      "│         │           │                 │                 │ kernel:            │\n",
      "│         │           │                 │                 │ \u001b[2mfloat32\u001b[0m[4,256]     │\n",
      "│         │           │                 │                 │                    │\n",
      "│         │           │                 │                 │ \u001b[1m1,280 \u001b[0m\u001b[1;2m(5.1 KB)\u001b[0m     │\n",
      "├─────────┼───────────┼─────────────────┼─────────────────┼────────────────────┤\n",
      "│ Dense_1 │ Dense     │ \u001b[2mfloat32\u001b[0m[10,256] │ \u001b[2mfloat32\u001b[0m[10,1]   │ bias: \u001b[2mfloat32\u001b[0m[1]   │\n",
      "│         │           │                 │                 │ kernel:            │\n",
      "│         │           │                 │                 │ \u001b[2mfloat32\u001b[0m[256,1]     │\n",
      "│         │           │                 │                 │                    │\n",
      "│         │           │                 │                 │ \u001b[1m257 \u001b[0m\u001b[1;2m(1.0 KB)\u001b[0m       │\n",
      "├─────────┼───────────┼─────────────────┼─────────────────┼────────────────────┤\n",
      "│\u001b[1m \u001b[0m\u001b[1m       \u001b[0m\u001b[1m \u001b[0m│\u001b[1m \u001b[0m\u001b[1m         \u001b[0m\u001b[1m \u001b[0m│\u001b[1m \u001b[0m\u001b[1m               \u001b[0m\u001b[1m \u001b[0m│\u001b[1m \u001b[0m\u001b[1m          Total\u001b[0m\u001b[1m \u001b[0m│\u001b[1m \u001b[0m\u001b[1m1,537 \u001b[0m\u001b[1;2m(6.1 KB)\u001b[0m\u001b[1m    \u001b[0m\u001b[1m \u001b[0m│\n",
      "└─────────┴───────────┴─────────────────┴─────────────────┴────────────────────┘\n",
      "\u001b[1m                                                                                \u001b[0m\n",
      "\u001b[1m                        Total Parameters: 1,537 \u001b[0m\u001b[1;2m(6.1 KB)\u001b[0m\u001b[1m                        \u001b[0m\n",
      "\n",
      "\n"
     ]
    }
   ],
   "source": [
    "class _value_fn(nn.Module):\n",
    "    \"\"\"\n",
    "    Value function is an MLP used to predict the expected return (value) \n",
    "    given the observations from the state.\n",
    "    The value can then be used for bootstrapping, and/or \n",
    "    calculating the advantage from action chosen in the state. \n",
    "    \"\"\"\n",
    "    @nn.compact\n",
    "    def __call__(self, x):\n",
    "        x = nn.Dense(256)(x)\n",
    "        x = jax.nn.relu(x)\n",
    "        x = nn.Dense(1)(x)\n",
    "        return x\n",
    "\n",
    "# Create the model object\n",
    "value_fn = _value_fn()\n",
    "# Display the model details\n",
    "print(value_fn.tabulate(rng_key, dummy_x))"
   ]
  },
  {
   "cell_type": "code",
   "execution_count": 20,
   "metadata": {},
   "outputs": [],
   "source": [
    "def test_model(policy_variables, env, rng_key):\n",
    "    \"\"\"\n",
    "    Runs a single episode following the policy function, \n",
    "    then returns the episodes rewards and steps.\n",
    "    Args:\n",
    "        policy_variables: Policy functions model parameters.\n",
    "        env: Environment used to interact with.\n",
    "        rng_key: Random number generator key.\n",
    "    Returns:\n",
    "        steps: Number of environment steps.\n",
    "        episode_rewards: List of rewards from the episode.\n",
    "    \"\"\"\n",
    "\n",
    "    terminated, truncated = False, False\n",
    "    episode_rewards = []\n",
    "    steps = 0\n",
    "\n",
    "    state, _ = env.reset()\n",
    "    while not (terminated or truncated):\n",
    "        steps += 1\n",
    "        # Select the action following the parametrized policy\n",
    "        action_dist = policy_fn.apply(policy_variables, state)\n",
    "        action_dist = jnp.array(action_dist).astype(jnp.float64)\n",
    "        # Divide by the total to ensure the values sum to one\n",
    "        action_dist /= action_dist.sum()\n",
    "        rng_key, subkey = jax.random.split(rng_key)\n",
    "        action = jax.random.choice(subkey, jnp.arange(num_actions), p=action_dist)\n",
    "        action = np.array(action)\n",
    "        next_state, reward, terminated, truncated, info = env.step(action)\n",
    "\n",
    "        episode_rewards.append(reward)\n",
    "\n",
    "        state = next_state\n",
    "    episode_rewards = np.array(episode_rewards)\n",
    "    return steps, episode_rewards\n",
    "\n",
    "    "
   ]
  },
  {
   "cell_type": "code",
   "execution_count": 21,
   "metadata": {},
   "outputs": [],
   "source": [
    "def get_returns(\n",
    "    gamma, next_value, rewards, done\n",
    "):\n",
    "    \"\"\"\n",
    "    Get discounted returns from rewards for each environment.\n",
    "    Args:\n",
    "        gamma: trajectory discount (scalar).\n",
    "        next_value: value functions bootstrapped return for next state.\n",
    "        rewards: agent rewards of taking actions in the environment.\n",
    "        done: flag list for end of episode, \n",
    "            False indicates terminated, and True not terminated.\n",
    "    Returns:\n",
    "        Array of returns for each environment at each step.\n",
    "    \"\"\"\n",
    "    batch_size = len(done)\n",
    "    rewards = jnp.array(rewards)\n",
    "    done = jnp.array(done)\n",
    "\n",
    "    R = jnp.squeeze(next_value)\n",
    "    returns = []\n",
    "\n",
    "    for t in reversed(range(batch_size)):\n",
    "        R = rewards[t] + (gamma * R * done[t])\n",
    "        returns.append(R)\n",
    "\n",
    "    returns = jnp.array(list(reversed(returns)))\n",
    "    return returns"
   ]
  },
  {
   "cell_type": "code",
   "execution_count": 22,
   "metadata": {},
   "outputs": [],
   "source": [
    "def loss_fn(value_variables, policy_variables, rng_key, gamma, max_steps, env_returns, env_steps):\n",
    "    \"\"\"\n",
    "    Runs a single episode in a Monte-Carlo way, \n",
    "    then calculates the actor and critic losses, \n",
    "    which are then combined and returned.\n",
    "    The gradients on this loss function are then used \n",
    "    to update the policy and actor functions.\n",
    "    Args:\n",
    "        value_variables: Value functions model parameters.\n",
    "        policy_variables: Policy functions model parameters.\n",
    "        rng_key: Random number generator key.\n",
    "        gamma: Discount rate for discounting returns.\n",
    "        max_steps: Limit on the number of steps in an episode.\n",
    "        env_returns: List containing the returns from all environments each episode.\n",
    "        env_steps: List containing the steps from all environments each episode.\n",
    "    Returns:\n",
    "        Combined loss of the value and actor functions.\n",
    "    \"\"\"\n",
    "    terminated, truncated, term_or_trunc = jnp.repeat(False, num_envs), jnp.repeat(False, num_envs), jnp.repeat(False, num_envs)\n",
    "    episode_log_probs = []\n",
    "    episode_values = []\n",
    "    episode_rewards = []\n",
    "    done_flag = []\n",
    "    steps = 0\n",
    "\n",
    "    states = envs.reset()\n",
    "    states = np.array(list(states[:, 0]))\n",
    "    # Generate an episode following the policy\n",
    "    while not term_or_trunc.all() and steps < max_steps:\n",
    "        steps += 1\n",
    "        # Select the action following the parametrized policy\n",
    "        action_dists = policy_fn.apply(policy_variables, states)\n",
    "        action_dists = jnp.array(action_dists).astype(jnp.float32)\n",
    "        # Divide by the total to ensure the values sum to one\n",
    "        action_dists /= action_dists.sum(axis=1)[..., None]\n",
    "        # Stocastically choose the next action based on the probability distribution\n",
    "        actions = []\n",
    "        for dist in action_dists:\n",
    "            rng_key, subkey = jax.random.split(rng_key)\n",
    "            action = jax.random.choice(subkey, jnp.arange(num_actions), p=dist)\n",
    "            actions.append(action)\n",
    "        actions = np.array(actions)\n",
    "        \n",
    "        next_states, rewards, terminated, truncated, info = envs.step(actions)\n",
    "        # Check if env was terminated or truncated in this episode or one of the previous episodes \n",
    "        term_or_trunc = jnp.array([term or trunc or t_or_t for term, trunc, t_or_t in zip(terminated, truncated, term_or_trunc)])\n",
    "        done_flag.append(jnp.invert(term_or_trunc))\n",
    "        # If the episode previously ended, then set the reward to 0\n",
    "        rewards = jnp.array([reward if not t_or_t else 0 for reward, t_or_t in zip(rewards, term_or_trunc)])\n",
    "        episode_rewards.append(rewards)\n",
    "        # Log probabilities are needed for the actor loss\n",
    "        log_probs = jnp.array([jnp.log(dist[action_index]) for dist, action_index in zip(action_dists, actions)])\n",
    "        episode_log_probs.append(log_probs)\n",
    "        # Entropy is used in the loss function to prevent the model from becoming too deterministic\n",
    "        entropy = jnp.array([-jnp.sum(dist * jnp.log(dist)) for dist in action_dists])\n",
    "        # Estimate the values given the states, then set all terminated states value to 0\n",
    "        values = value_fn.apply(value_variables, states)\n",
    "        values = jnp.squeeze(values)\n",
    "        values = [value if not t_or_t else 0.0 for value, t_or_t in zip(jnp.array(values), term_or_trunc)]\n",
    "        values = jnp.array(values, dtype=jnp.float32)\n",
    "        episode_values.append(values)\n",
    "\n",
    "        states = next_states\n",
    "\n",
    "    env_returns.append(list(np.array(episode_rewards).sum(axis=0)))\n",
    "    env_steps.append(list(np.array(done_flag).sum(axis=0)))\n",
    "\n",
    "    # Calculate the returns then \n",
    "    next_values = value_fn.apply(value_variables, next_states)\n",
    "    returns = get_returns(gamma, next_values, episode_rewards, done_flag)\n",
    "    episode_values = jnp.array(episode_values)\n",
    "    advantages = returns - episode_values\n",
    "    # Calculate actor and critic losses, then add entropy \n",
    "    episode_log_probs = jnp.array(episode_log_probs)\n",
    "    actor_loss = -(advantages * episode_log_probs).mean(axis=0)\n",
    "    critic_loss = (advantages**2).mean(axis=0)\n",
    "    loss = (actor_loss + 0.5 * critic_loss - 0.001 * entropy).mean()\n",
    "\n",
    "    return loss"
   ]
  },
  {
   "cell_type": "markdown",
   "metadata": {},
   "source": [
    "## Learn The Optimal Action-Value Function"
   ]
  },
  {
   "cell_type": "code",
   "execution_count": 23,
   "metadata": {},
   "outputs": [
    {
     "name": "stderr",
     "output_type": "stream",
     "text": [
      "/home/ubuntu20/anaconda3/envs/flax/lib/python3.9/site-packages/gymnasium/wrappers/record_video.py:79: UserWarning: \u001b[33mWARN: Overwriting existing videos at /home/ubuntu20/code/rl-tabular-algorithms/videos/a2c_discrete folder (try specifying a different `video_folder` for the `RecordVideo` wrapper if this is not desired)\u001b[0m\n",
      "  logger.warn(\n"
     ]
    },
    {
     "name": "stdout",
     "output_type": "stream",
     "text": [
      "Episode: 0\n"
     ]
    },
    {
     "name": "stderr",
     "output_type": "stream",
     "text": [
      "/tmp/ipykernel_1024/3697472790.py:23: UserWarning: Explicitly requested dtype <class 'jax.numpy.float64'> requested in astype is not available, and will be truncated to dtype float32. To enable more dtypes, set the jax_enable_x64 configuration option or the JAX_ENABLE_X64 shell environment variable. See https://github.com/google/jax#current-gotchas for more.\n",
      "  action_dist = jnp.array(action_dist).astype(jnp.float64)\n"
     ]
    },
    {
     "name": "stdout",
     "output_type": "stream",
     "text": [
      "Moviepy - Building video /home/ubuntu20/code/rl-tabular-algorithms/videos/a2c_discrete/CartPole-v1-episode-0.mp4.\n",
      "Moviepy - Writing video /home/ubuntu20/code/rl-tabular-algorithms/videos/a2c_discrete/CartPole-v1-episode-0.mp4\n",
      "\n"
     ]
    },
    {
     "name": "stderr",
     "output_type": "stream",
     "text": [
      "                                                   "
     ]
    },
    {
     "name": "stdout",
     "output_type": "stream",
     "text": [
      "Moviepy - Done !\n",
      "Moviepy - video ready /home/ubuntu20/code/rl-tabular-algorithms/videos/a2c_discrete/CartPole-v1-episode-0.mp4\n",
      "\tTest Episode 0 Return: 15.00\n"
     ]
    },
    {
     "name": "stderr",
     "output_type": "stream",
     "text": [
      "/home/ubuntu20/anaconda3/envs/flax/lib/python3.9/site-packages/numpy/core/shape_base.py:420: VisibleDeprecationWarning: Creating an ndarray from ragged nested sequences (which is a list-or-tuple of lists-or-tuples-or ndarrays with different lengths or shapes) is deprecated. If you meant to do this, you must specify 'dtype=object' when creating the ndarray.\n",
      "  arrays = [asanyarray(arr) for arr in arrays]\n"
     ]
    },
    {
     "name": "stdout",
     "output_type": "stream",
     "text": [
      "\tReturns: [11.0, 31.0, 42.0, 14.0, 21.0, 11.0, 27.0, 28.0, 8.0, 10.0]\n",
      "\tAverage Return: 20.30\n",
      "\tLoss: 55.93\n",
      "Episode: 1\n",
      "\tReturns: [12.0, 35.0, 20.0, 22.0, 32.0, 31.0, 47.0, 52.0, 20.0, 14.0]\n",
      "\tAverage Return: 28.50\n",
      "\tLoss: 94.81\n",
      "Episode: 2\n",
      "\tReturns: [23.0, 76.0, 133.0, 20.0, 37.0, 36.0, 60.0, 43.0, 47.0, 41.0]\n",
      "\tAverage Return: 51.60\n",
      "\tLoss: 208.44\n",
      "Episode: 3\n"
     ]
    },
    {
     "name": "stderr",
     "output_type": "stream",
     "text": [
      "/tmp/ipykernel_1024/3697472790.py:23: UserWarning: Explicitly requested dtype <class 'jax.numpy.float64'> requested in astype is not available, and will be truncated to dtype float32. To enable more dtypes, set the jax_enable_x64 configuration option or the JAX_ENABLE_X64 shell environment variable. See https://github.com/google/jax#current-gotchas for more.\n",
      "  action_dist = jnp.array(action_dist).astype(jnp.float64)\n"
     ]
    },
    {
     "name": "stdout",
     "output_type": "stream",
     "text": [
      "Moviepy - Building video /home/ubuntu20/code/rl-tabular-algorithms/videos/a2c_discrete/CartPole-v1-episode-1.mp4.\n",
      "Moviepy - Writing video /home/ubuntu20/code/rl-tabular-algorithms/videos/a2c_discrete/CartPole-v1-episode-1.mp4\n",
      "\n"
     ]
    },
    {
     "name": "stderr",
     "output_type": "stream",
     "text": [
      "                                                             \r"
     ]
    },
    {
     "name": "stdout",
     "output_type": "stream",
     "text": [
      "Moviepy - Done !\n",
      "Moviepy - video ready /home/ubuntu20/code/rl-tabular-algorithms/videos/a2c_discrete/CartPole-v1-episode-1.mp4\n",
      "\tTest Episode 1 Return: 58.00\n",
      "\tReturns: [30.0, 92.0, 144.0, 34.0, 82.0, 34.0, 69.0, 75.0, 59.0, 41.0]\n",
      "\tAverage Return: 66.00\n",
      "\tLoss: 299.55\n",
      "Episode: 4\n",
      "\tReturns: [98.0, 156.0, 70.0, 32.0, 83.0, 35.0, 74.0, 187.0, 105.0, 117.0]\n",
      "\tAverage Return: 95.70\n",
      "\tLoss: 516.20\n",
      "Episode: 5\n",
      "\tReturns: [128.0, 200.0, 129.0, 74.0, 176.0, 36.0, 177.0, 200.0, 138.0, 189.0]\n",
      "\tAverage Return: 144.70\n",
      "\tLoss: 1087.10\n",
      "Episode: 6\n",
      "Moviepy - Building video /home/ubuntu20/code/rl-tabular-algorithms/videos/a2c_discrete/CartPole-v1-episode-2.mp4.\n",
      "Moviepy - Writing video /home/ubuntu20/code/rl-tabular-algorithms/videos/a2c_discrete/CartPole-v1-episode-2.mp4\n",
      "\n"
     ]
    },
    {
     "name": "stderr",
     "output_type": "stream",
     "text": [
      "                                                             \r"
     ]
    },
    {
     "name": "stdout",
     "output_type": "stream",
     "text": [
      "Moviepy - Done !\n",
      "Moviepy - video ready /home/ubuntu20/code/rl-tabular-algorithms/videos/a2c_discrete/CartPole-v1-episode-2.mp4\n",
      "\tTest Episode 2 Return: 95.00\n",
      "\tReturns: [106.0, 185.0, 200.0, 73.0, 87.0, 128.0, 163.0, 99.0, 159.0, 163.0]\n",
      "\tAverage Return: 136.30\n",
      "\tLoss: 889.53\n",
      "Episode: 7\n",
      "\tReturns: [81.0, 146.0, 200.0, 67.0, 166.0, 77.0, 183.0, 60.0, 160.0, 142.0]\n",
      "\tAverage Return: 128.20\n",
      "\tLoss: 821.58\n",
      "Episode: 8\n",
      "\tReturns: [90.0, 200.0, 160.0, 137.0, 163.0, 86.0, 136.0, 93.0, 121.0, 194.0]\n",
      "\tAverage Return: 138.00\n",
      "\tLoss: 886.00\n",
      "Episode: 9\n",
      "Moviepy - Building video /home/ubuntu20/code/rl-tabular-algorithms/videos/a2c_discrete/CartPole-v1-episode-3.mp4.\n",
      "Moviepy - Writing video /home/ubuntu20/code/rl-tabular-algorithms/videos/a2c_discrete/CartPole-v1-episode-3.mp4\n",
      "\n"
     ]
    },
    {
     "name": "stderr",
     "output_type": "stream",
     "text": [
      "                                                               \r"
     ]
    },
    {
     "name": "stdout",
     "output_type": "stream",
     "text": [
      "Moviepy - Done !\n",
      "Moviepy - video ready /home/ubuntu20/code/rl-tabular-algorithms/videos/a2c_discrete/CartPole-v1-episode-3.mp4\n",
      "\tTest Episode 3 Return: 153.00\n",
      "\tReturns: [85.0, 200.0, 113.0, 66.0, 68.0, 74.0, 200.0, 88.0, 173.0, 154.0]\n",
      "\tAverage Return: 122.10\n",
      "\tLoss: 754.42\n",
      "Episode: 10\n",
      "\tReturns: [98.0, 200.0, 154.0, 189.0, 200.0, 77.0, 200.0, 88.0, 200.0, 200.0]\n",
      "\tAverage Return: 160.60\n",
      "\tLoss: 1243.48\n",
      "Episode: 11\n",
      "\tReturns: [153.0, 200.0, 161.0, 132.0, 200.0, 200.0, 200.0, 89.0, 200.0, 200.0]\n",
      "\tAverage Return: 173.50\n",
      "\tLoss: 1398.59\n",
      "Episode: 12\n",
      "Moviepy - Building video /home/ubuntu20/code/rl-tabular-algorithms/videos/a2c_discrete/CartPole-v1-episode-4.mp4.\n",
      "Moviepy - Writing video /home/ubuntu20/code/rl-tabular-algorithms/videos/a2c_discrete/CartPole-v1-episode-4.mp4\n",
      "\n"
     ]
    },
    {
     "name": "stderr",
     "output_type": "stream",
     "text": [
      "                                                               \r"
     ]
    },
    {
     "name": "stdout",
     "output_type": "stream",
     "text": [
      "Moviepy - Done !\n",
      "Moviepy - video ready /home/ubuntu20/code/rl-tabular-algorithms/videos/a2c_discrete/CartPole-v1-episode-4.mp4\n",
      "\tTest Episode 4 Return: 500.00\n",
      "\tReturns: [163.0, 200.0, 200.0, 185.0, 200.0, 158.0, 200.0, 99.0, 183.0, 200.0]\n",
      "\tAverage Return: 178.80\n",
      "\tLoss: 1412.52\n",
      "Episode: 13\n",
      "\tReturns: [200.0, 200.0, 181.0, 200.0, 173.0, 200.0, 200.0, 115.0, 200.0, 200.0]\n",
      "\tAverage Return: 186.90\n",
      "\tLoss: 1513.19\n",
      "Episode: 14\n",
      "\tReturns: [169.0, 200.0, 185.0, 200.0, 200.0, 200.0, 200.0, 104.0, 200.0, 200.0]\n",
      "\tAverage Return: 185.80\n",
      "\tLoss: 1499.09\n",
      "Episode: 15\n",
      "Moviepy - Building video /home/ubuntu20/code/rl-tabular-algorithms/videos/a2c_discrete/CartPole-v1-episode-5.mp4.\n",
      "Moviepy - Writing video /home/ubuntu20/code/rl-tabular-algorithms/videos/a2c_discrete/CartPole-v1-episode-5.mp4\n",
      "\n"
     ]
    },
    {
     "name": "stderr",
     "output_type": "stream",
     "text": [
      "                                                               \r"
     ]
    },
    {
     "name": "stdout",
     "output_type": "stream",
     "text": [
      "Moviepy - Done !\n",
      "Moviepy - video ready /home/ubuntu20/code/rl-tabular-algorithms/videos/a2c_discrete/CartPole-v1-episode-5.mp4\n",
      "\tTest Episode 5 Return: 259.00\n",
      "\tReturns: [200.0, 200.0, 200.0, 200.0, 192.0, 200.0, 200.0, 200.0, 200.0, 200.0]\n",
      "\tAverage Return: 199.20\n",
      "\tLoss: 1586.51\n"
     ]
    }
   ],
   "source": [
    "# Number of episodes to train on\n",
    "episodes = 16\n",
    "# Sliding window for episode evaluation (needs to be less than episodes)\n",
    "episode_window = 3\n",
    "# Episode will terminate before max_steps\n",
    "max_steps = 200\n",
    "# Discount ratio\n",
    "gamma = 0.99\n",
    "# Step size\n",
    "policy_alpha = 0.01\n",
    "value_alpha = 0.01\n",
    "\n",
    "policy_variables = policy_fn.init(rng_key, dummy_x)\n",
    "policy_optimizer = optax.adam(learning_rate=policy_alpha)\n",
    "policy_opt_state = policy_optimizer.init(policy_variables)\n",
    "\n",
    "value_variables = value_fn.init(rng_key, dummy_x)\n",
    "value_optimizer = optax.adam(learning_rate=value_alpha)\n",
    "value_opt_state = value_optimizer.init(value_variables)\n",
    "\n",
    "# Create multiple envs for parallel execution\n",
    "envs = SubprocVecEnv([make_env(ENV_TYPE) for _ in range(num_envs)])\n",
    "if SAVE_VIDEOS:\n",
    "    # Create a single environment for testing\n",
    "    os.makedirs(VIDEOS_ROOT_DIR, exist_ok=True)\n",
    "    test_returns = []\n",
    "    test_steps = []\n",
    "    env = gym.make(ENV_TYPE, render_mode=\"rgb_array\")\n",
    "    env = gym.wrappers.RecordVideo(\n",
    "        env=env, \n",
    "        video_folder=VIDEOS_ROOT_DIR,\n",
    "        episode_trigger=lambda episode: episode % 1 == 0,\n",
    "        video_length=0,\n",
    "        name_prefix=f\"{ENV_TYPE}\"\n",
    "        ) \n",
    "env_returns = []\n",
    "env_steps = []\n",
    "losses = []\n",
    "\n",
    "for episode in range(episodes):\n",
    "    print(f\"Episode: {episode}\")\n",
    "    # Perform 6 tests and record them at even intervals\n",
    "    if SAVE_VIDEOS and episode % (episodes // 5) == 0:\n",
    "        test_step, test_rewards = test_model(policy_variables, env, rng_key)\n",
    "        test_returns.append(np.sum(test_rewards))\n",
    "        test_steps.append(test_step)\n",
    "        test_episode = episode // (episodes // 5)\n",
    "        print(f\"\\tTest Episode {test_episode} Return: {test_returns[test_episode] :.2f}\")\n",
    "\n",
    "    # Run a forward pass on the parallel envs (will last an entire episode) and \n",
    "    # calculate the gradients for value and policy functions \n",
    "    loss, (value_grads, policy_grads) = value_and_grad(loss_fn, argnums=(0, 1))(\n",
    "        value_variables, \n",
    "        policy_variables, \n",
    "        rng_key, \n",
    "        gamma, \n",
    "        max_steps,\n",
    "        env_returns,\n",
    "        env_steps\n",
    "    )\n",
    "    # Update value function weights\n",
    "    value_updates, value_opt_state = value_optimizer.update(value_grads, value_opt_state, value_variables)\n",
    "    value_variables = optax.apply_updates(value_variables, value_updates)        \n",
    "    # Update policy function weights\n",
    "    policy_updates, policy_opt_state = policy_optimizer.update(policy_grads, policy_opt_state, policy_variables)\n",
    "    policy_variables = optax.apply_updates(policy_variables, policy_updates)\n",
    "\n",
    "\n",
    "    losses.append(loss)\n",
    "    print(f'\\tReturns: {env_returns[-1]}')\n",
    "    print(f\"\\tAverage Return: {jnp.array(env_returns[-1]).mean() :.2f}\")\n",
    "    print(f\"\\tLoss: {loss :.2f}\")\n",
    "\n",
    "        "
   ]
  },
  {
   "attachments": {},
   "cell_type": "markdown",
   "metadata": {},
   "source": [
    "## Plot The Results\n"
   ]
  },
  {
   "cell_type": "code",
   "execution_count": 24,
   "metadata": {},
   "outputs": [
    {
     "data": {
      "image/png": "[encoded data removed]",
      "text/plain": [
       "<Figure size 600x500 with 1 Axes>"
      ]
     },
     "metadata": {},
     "output_type": "display_data"
    }
   ],
   "source": [
    "fig, axs = plt.subplots(ncols=1, figsize=(6, 5))\n",
    "axs.set_title(\"Loss\")\n",
    "loss_moving_average = (\n",
    "    np.convolve(\n",
    "        losses, np.ones(episode_window), mode=\"valid\"\n",
    "    )\n",
    "    / episode_window\n",
    ")\n",
    "axs.plot(range(len(loss_moving_average)), loss_moving_average)\n",
    "plt.tight_layout()\n",
    "plt.show()"
   ]
  },
  {
   "attachments": {},
   "cell_type": "markdown",
   "metadata": {},
   "source": [
    "For cartpole rewards are assigned for the time spent in a non-terminal state. The episode length and rewards will be identical in this case."
   ]
  },
  {
   "cell_type": "code",
   "execution_count": 25,
   "metadata": {},
   "outputs": [
    {
     "data": {
      "image/png": "[encoded data removed]",
      "text/plain": [
       "<Figure size 1200x500 with 2 Axes>"
      ]
     },
     "metadata": {},
     "output_type": "display_data"
    }
   ],
   "source": [
    "# Code used from: https://gymnasium.farama.org/tutorials/blackjack_tutorial/#visualizing-the-training\n",
    "fig, axs = plt.subplots(ncols=2, figsize=(12, 5))\n",
    "axs[0].set_title(\"Episode rewards\")\n",
    "reward_moving_average = (\n",
    "    np.convolve(\n",
    "        np.array(env_returns).mean(axis=1), np.ones(episode_window), mode=\"valid\"\n",
    "    )\n",
    "    / episode_window\n",
    ")\n",
    "axs[0].plot(range(len(reward_moving_average)), reward_moving_average)\n",
    "axs[1].set_title(\"Episode lengths\")\n",
    "length_moving_average = (\n",
    "    np.convolve(\n",
    "        np.array(env_steps).mean(axis=1), np.ones(episode_window), mode=\"valid\"\n",
    "    )\n",
    "    / episode_window\n",
    ")\n",
    "axs[1].plot(range(len(length_moving_average)), length_moving_average)\n",
    "plt.tight_layout()\n",
    "plt.show()"
   ]
  },
  {
   "cell_type": "code",
   "execution_count": 26,
   "metadata": {},
   "outputs": [
    {
     "data": {
      "image/png": "[encoded data removed]",
      "text/plain": [
       "<Figure size 1200x500 with 2 Axes>"
      ]
     },
     "metadata": {},
     "output_type": "display_data"
    }
   ],
   "source": [
    "fig, axs = plt.subplots(ncols=2, figsize=(12, 5))\n",
    "axs[0].set_title(\"Test Returns\")\n",
    "axs[0].plot(range(len(test_returns)), test_returns)\n",
    "axs[1].set_title(\"Test Lengths\")\n",
    "axs[1].plot(range(len(test_steps)), test_steps)\n",
    "plt.tight_layout()\n",
    "plt.show()"
   ]
  },
  {
   "attachments": {},
   "cell_type": "markdown",
   "metadata": {},
   "source": [
    "## Testing Videos"
   ]
  },
  {
   "attachments": {},
   "cell_type": "markdown",
   "metadata": {},
   "source": [
    "### Test Episode 0"
   ]
  },
  {
   "cell_type": "code",
   "execution_count": 27,
   "metadata": {},
   "outputs": [
    {
     "name": "stdout",
     "output_type": "stream",
     "text": [
      "Test Episode 0 Return: 15.0\n"
     ]
    }
   ],
   "source": [
    "test_episode = 0\n",
    "print(f\"Test Episode {test_episode} Return: {test_returns[test_episode]}\")"
   ]
  },
  {
   "cell_type": "code",
   "execution_count": 28,
   "metadata": {},
   "outputs": [
    {
     "data": {
      "text/html": [
       "<video src=\"./videos/a2c_discrete//CartPole-v1-episode-0.mp4\" controls  >\n",
       "      Your browser does not support the <code>video</code> element.\n",
       "    </video>"
      ],
      "text/plain": [
       "<IPython.core.display.Video object>"
      ]
     },
     "execution_count": 28,
     "metadata": {},
     "output_type": "execute_result"
    }
   ],
   "source": [
    "Video(f\"{VIDEOS_ROOT_DIR}/{ENV_TYPE}-episode-{test_episode}.mp4\")"
   ]
  },
  {
   "attachments": {},
   "cell_type": "markdown",
   "metadata": {},
   "source": [
    "### Test Episode 1"
   ]
  },
  {
   "cell_type": "code",
   "execution_count": 29,
   "metadata": {},
   "outputs": [
    {
     "name": "stdout",
     "output_type": "stream",
     "text": [
      "Test Episode 1 Return: 58.0\n"
     ]
    }
   ],
   "source": [
    "test_episode = 1\n",
    "print(f\"Test Episode {test_episode} Return: {test_returns[test_episode]}\")"
   ]
  },
  {
   "cell_type": "code",
   "execution_count": 30,
   "metadata": {},
   "outputs": [
    {
     "data": {
      "text/html": [
       "<video src=\"./videos/a2c_discrete//CartPole-v1-episode-1.mp4\" controls  >\n",
       "      Your browser does not support the <code>video</code> element.\n",
       "    </video>"
      ],
      "text/plain": [
       "<IPython.core.display.Video object>"
      ]
     },
     "execution_count": 30,
     "metadata": {},
     "output_type": "execute_result"
    }
   ],
   "source": [
    "Video(f\"{VIDEOS_ROOT_DIR}/{ENV_TYPE}-episode-{test_episode}.mp4\")"
   ]
  },
  {
   "attachments": {},
   "cell_type": "markdown",
   "metadata": {},
   "source": [
    "### Test Episode 2"
   ]
  },
  {
   "cell_type": "code",
   "execution_count": 31,
   "metadata": {},
   "outputs": [
    {
     "name": "stdout",
     "output_type": "stream",
     "text": [
      "Test Episode 2 Return: 95.0\n"
     ]
    }
   ],
   "source": [
    "test_episode = 2\n",
    "print(f\"Test Episode {test_episode} Return: {test_returns[test_episode]}\")"
   ]
  },
  {
   "cell_type": "code",
   "execution_count": 32,
   "metadata": {},
   "outputs": [
    {
     "data": {
      "text/html": [
       "<video src=\"./videos/a2c_discrete//CartPole-v1-episode-2.mp4\" controls  >\n",
       "      Your browser does not support the <code>video</code> element.\n",
       "    </video>"
      ],
      "text/plain": [
       "<IPython.core.display.Video object>"
      ]
     },
     "execution_count": 32,
     "metadata": {},
     "output_type": "execute_result"
    }
   ],
   "source": [
    "Video(f\"{VIDEOS_ROOT_DIR}/{ENV_TYPE}-episode-{test_episode}.mp4\")"
   ]
  },
  {
   "attachments": {},
   "cell_type": "markdown",
   "metadata": {},
   "source": [
    "### Test Episode 3"
   ]
  },
  {
   "cell_type": "code",
   "execution_count": 33,
   "metadata": {},
   "outputs": [
    {
     "name": "stdout",
     "output_type": "stream",
     "text": [
      "Test Episode 3 Return: 153.0\n"
     ]
    }
   ],
   "source": [
    "test_episode = 3\n",
    "print(f\"Test Episode {test_episode} Return: {test_returns[test_episode]}\")"
   ]
  },
  {
   "cell_type": "code",
   "execution_count": 34,
   "metadata": {},
   "outputs": [
    {
     "data": {
      "text/html": [
       "<video src=\"./videos/a2c_discrete//CartPole-v1-episode-3.mp4\" controls  >\n",
       "      Your browser does not support the <code>video</code> element.\n",
       "    </video>"
      ],
      "text/plain": [
       "<IPython.core.display.Video object>"
      ]
     },
     "execution_count": 34,
     "metadata": {},
     "output_type": "execute_result"
    }
   ],
   "source": [
    "Video(f\"{VIDEOS_ROOT_DIR}/{ENV_TYPE}-episode-{test_episode}.mp4\")"
   ]
  },
  {
   "attachments": {},
   "cell_type": "markdown",
   "metadata": {},
   "source": [
    "### Test Episode 4"
   ]
  },
  {
   "cell_type": "code",
   "execution_count": 35,
   "metadata": {},
   "outputs": [
    {
     "name": "stdout",
     "output_type": "stream",
     "text": [
      "Test Episode 4 Return: 500.0\n"
     ]
    }
   ],
   "source": [
    "test_episode = 4\n",
    "print(f\"Test Episode {test_episode} Return: {test_returns[test_episode]}\")"
   ]
  },
  {
   "cell_type": "code",
   "execution_count": 36,
   "metadata": {},
   "outputs": [
    {
     "data": {
      "text/html": [
       "<video src=\"./videos/a2c_discrete//CartPole-v1-episode-4.mp4\" controls  >\n",
       "      Your browser does not support the <code>video</code> element.\n",
       "    </video>"
      ],
      "text/plain": [
       "<IPython.core.display.Video object>"
      ]
     },
     "execution_count": 36,
     "metadata": {},
     "output_type": "execute_result"
    }
   ],
   "source": [
    "Video(f\"{VIDEOS_ROOT_DIR}/{ENV_TYPE}-episode-{test_episode}.mp4\")"
   ]
  },
  {
   "attachments": {},
   "cell_type": "markdown",
   "metadata": {},
   "source": [
    "### Test Episode 5"
   ]
  },
  {
   "cell_type": "code",
   "execution_count": 37,
   "metadata": {},
   "outputs": [
    {
     "name": "stdout",
     "output_type": "stream",
     "text": [
      "Test Episode 5 Return: 259.0\n"
     ]
    }
   ],
   "source": [
    "test_episode = 5\n",
    "print(f\"Test Episode {test_episode} Return: {test_returns[test_episode]}\")"
   ]
  },
  {
   "cell_type": "code",
   "execution_count": 38,
   "metadata": {},
   "outputs": [
    {
     "data": {
      "text/html": [
       "<video src=\"./videos/a2c_discrete//CartPole-v1-episode-5.mp4\" controls  >\n",
       "      Your browser does not support the <code>video</code> element.\n",
       "    </video>"
      ],
      "text/plain": [
       "<IPython.core.display.Video object>"
      ]
     },
     "execution_count": 38,
     "metadata": {},
     "output_type": "execute_result"
    }
   ],
   "source": [
    "Video(f\"{VIDEOS_ROOT_DIR}/{ENV_TYPE}-episode-{test_episode}.mp4\")"
   ]
  }
 ],
 "metadata": {
  "kernelspec": {
   "display_name": "flax",
   "language": "python",
   "name": "python3"
  },
  "language_info": {
   "codemirror_mode": {
    "name": "ipython",
    "version": 3
   },
   "file_extension": ".py",
   "mimetype": "text/x-python",
   "name": "python",
   "nbconvert_exporter": "python",
   "pygments_lexer": "ipython3",
   "version": "3.9.13"
  },
  "orig_nbformat": 4,
  "vscode": {
   "interpreter": {
    "hash": "0a8d1f2580cdfde5c5829808ec6fccc81a351d243fb8b1925f7928e44ccf575b"
   }
  }
 },
 "nbformat": 4,
 "nbformat_minor": 2
}
