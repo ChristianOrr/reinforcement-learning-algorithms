{
 "cells": [
  {
   "attachments": {},
   "cell_type": "markdown",
   "metadata": {},
   "source": [
    "# REINFORCE with Baseline Monte Carlo\n",
    "\n",
    "This notebook demonstates an improved version of the REINFORCE policy gradient method, called REINFORCE with Baseline. This is the Monte Carlo version of REINFORCE, which means the model can only be updated after the episode has terminated. We will be using the Cartpole environment, since episode termination is easy to achieve on this problem. Monte Carlo algorithms are not well suited to environments that don't provide a straight forward termination path, because they can get stuck in an infinite loop and never complete the first episode, due to not being able to learn during the episode.\n",
    "\n",
    "Unlike the vanilla REINFORCE, we will be using a state-value function to assist with training. The state-value function will help reduce variance in the sample estimate for the policy gradient and ensure the model converges to the optimal solution quicker. We will be using multi-layer perceptron's for both the policy function and state-value function. The algorithm is on-policy, so it starts by generating an episode $S_0, A_0, R_1, ..., S_{T-1}, A_{T-1}, R_T$, following the policy, $\\pi_\\theta$, until the terminal time step $T$. After the episode has completed, the policy, $\\pi_\\theta$, and state-value functions, $\\hat{v}(S_t, w)$, weights are updated. The state-value function will be used as a baseline, which will be subtracted by the return, $G_t$, to give us the error, $\\delta$. $\\delta$, is given by:\n",
    "$$\\delta_t \\leftarrow G_t - \\hat{v}(S_t, w),$$\n",
    "where $G_t$ is the discounted return from timestep $t$, given by,\n",
    "$$G_t \\leftarrow \\sum_{k=t+1}^{T}\\gamma^{k-t-1}R_k,$$\n",
    "where $\\gamma$ is the discount rate, and $R_k$ is the reward at time step $k$. The error, $\\delta$, is then used in place of the return to update the state-value parameters, $w$, in the following update:\n",
    "$$w \\leftarrow w + \\alpha^{w}\\nabla\\hat{v}(S_t, w)\\delta_t,$$\n",
    "where $\\alpha$ is the step-size or learning rate. The error, $\\delta$, is also used in place of the return to update policy parameters, $\\theta$, in the following update:\n",
    "$$\\theta \\leftarrow \\theta + \\alpha^{\\theta} \\gamma^{t} \\nabla_\\theta \\log(\\pi_\\theta(a_t | s_t))\\delta_t.$$\n",
    "\n",
    "Using the error, $\\delta$, in-place of the return, $G_t$, ensures that the performance of an action taken is easier to measure. For example in the Cartpole problem the rewards are based on time spent in a non-terminal state. This results in a linear decrease in the returns from the earlier states to the later states. Regardless of the action taken in the first few states, the returns will always be high, this results in a small difference in return between taking a bad action and a good action. Similarly in the last few states the returns will be low regardless of whether a good or bad action was taken. But when using the state-value baseline, the return from the action is essentially compared against the expected average return in that state. So choosing a bad action will result in a lower return than the state-value functions expected return, resulting in a negative $\\delta$. If the action is better than the state-value functions expected return then the $\\delta$ will be positive. This ensures that the direction and size of the parameter update is more appropriate for the action taken in that state. \n",
    "\n",
    "For more information on the REINFORCE Baseline algorithm, see OpenAI's post [Baselines in Policy Gradients](https://spinningup.openai.com/en/latest/spinningup/rl_intro3.html#baselines-in-policy-gradients), and chapter 13.4 of [Reinforcement Learning: An Introduction](http://incompleteideas.net/book/RLbook2018.pdf).\n"
   ]
  },
  {
   "cell_type": "code",
   "execution_count": 1,
   "metadata": {},
   "outputs": [],
   "source": [
    "import os\n",
    "import gymnasium as gym\n",
    "import numpy as np\n",
    "from IPython.display import Video\n",
    "import jax\n",
    "import flax.linen as nn\n",
    "from jax import random\n",
    "from jax import value_and_grad\n",
    "import jax.numpy as jnp\n",
    "import optax\n",
    "import matplotlib.pyplot as plt"
   ]
  },
  {
   "cell_type": "code",
   "execution_count": 2,
   "metadata": {},
   "outputs": [],
   "source": [
    "# Type of environment, options include:\n",
    "# CartPole-v1\n",
    "ENV_TYPE = \"CartPole-v1\"\n",
    "\n",
    "# Save videos from training\n",
    "SAVE_VIDEOS = False\n",
    "VIDEOS_ROOT_DIR = './videos/reinforce_baseline/'"
   ]
  },
  {
   "cell_type": "code",
   "execution_count": 3,
   "metadata": {},
   "outputs": [],
   "source": [
    "# Create the environment\n",
    "env = gym.make(ENV_TYPE, render_mode=\"rgb_array\")\n",
    "\n",
    "# Number of possible states and actions\n",
    "num_actions = env.action_space.n\n",
    "obs_dims = env.observation_space.shape\n",
    "obs_upper_bounds = env.observation_space.high\n",
    "obs_lower_bounds = env.observation_space.low"
   ]
  },
  {
   "attachments": {},
   "cell_type": "markdown",
   "metadata": {},
   "source": [
    "## Create The Policy "
   ]
  },
  {
   "cell_type": "code",
   "execution_count": 4,
   "metadata": {},
   "outputs": [
    {
     "name": "stderr",
     "output_type": "stream",
     "text": [
      "An NVIDIA GPU may be present on this machine, but a CUDA-enabled jaxlib is not installed. Falling back to cpu.\n"
     ]
    },
    {
     "name": "stdout",
     "output_type": "stream",
     "text": [
      "\n",
      "\u001b[3m                               _policy_fn Summary                               \u001b[0m\n",
      "┏━━━━━━━━━┳━━━━━━━━━━━━┳━━━━━━━━━━━━━━┳━━━━━━━━━━━━━━┳━━━━━━━━━━━━━━━━━━━━━━━━━┓\n",
      "┃\u001b[1m \u001b[0m\u001b[1mpath   \u001b[0m\u001b[1m \u001b[0m┃\u001b[1m \u001b[0m\u001b[1mmodule    \u001b[0m\u001b[1m \u001b[0m┃\u001b[1m \u001b[0m\u001b[1minputs      \u001b[0m\u001b[1m \u001b[0m┃\u001b[1m \u001b[0m\u001b[1moutputs     \u001b[0m\u001b[1m \u001b[0m┃\u001b[1m \u001b[0m\u001b[1mparams                 \u001b[0m\u001b[1m \u001b[0m┃\n",
      "┡━━━━━━━━━╇━━━━━━━━━━━━╇━━━━━━━━━━━━━━╇━━━━━━━━━━━━━━╇━━━━━━━━━━━━━━━━━━━━━━━━━┩\n",
      "│         │ _policy_fn │ \u001b[2mfloat32\u001b[0m[4]   │ \u001b[2mfloat32\u001b[0m[2]   │                         │\n",
      "├─────────┼────────────┼──────────────┼──────────────┼─────────────────────────┤\n",
      "│ Dense_0 │ Dense      │ \u001b[2mfloat32\u001b[0m[4]   │ \u001b[2mfloat32\u001b[0m[256] │ bias: \u001b[2mfloat32\u001b[0m[256]      │\n",
      "│         │            │              │              │ kernel: \u001b[2mfloat32\u001b[0m[4,256]  │\n",
      "│         │            │              │              │                         │\n",
      "│         │            │              │              │ \u001b[1m1,280 \u001b[0m\u001b[1;2m(5.1 KB)\u001b[0m          │\n",
      "├─────────┼────────────┼──────────────┼──────────────┼─────────────────────────┤\n",
      "│ Dense_1 │ Dense      │ \u001b[2mfloat32\u001b[0m[256] │ \u001b[2mfloat32\u001b[0m[64]  │ bias: \u001b[2mfloat32\u001b[0m[64]       │\n",
      "│         │            │              │              │ kernel: \u001b[2mfloat32\u001b[0m[256,64] │\n",
      "│         │            │              │              │                         │\n",
      "│         │            │              │              │ \u001b[1m16,448 \u001b[0m\u001b[1;2m(65.8 KB)\u001b[0m        │\n",
      "├─────────┼────────────┼──────────────┼──────────────┼─────────────────────────┤\n",
      "│ Dense_2 │ Dense      │ \u001b[2mfloat32\u001b[0m[64]  │ \u001b[2mfloat32\u001b[0m[2]   │ bias: \u001b[2mfloat32\u001b[0m[2]        │\n",
      "│         │            │              │              │ kernel: \u001b[2mfloat32\u001b[0m[64,2]   │\n",
      "│         │            │              │              │                         │\n",
      "│         │            │              │              │ \u001b[1m130 \u001b[0m\u001b[1;2m(520 B)\u001b[0m             │\n",
      "├─────────┼────────────┼──────────────┼──────────────┼─────────────────────────┤\n",
      "│\u001b[1m \u001b[0m\u001b[1m       \u001b[0m\u001b[1m \u001b[0m│\u001b[1m \u001b[0m\u001b[1m          \u001b[0m\u001b[1m \u001b[0m│\u001b[1m \u001b[0m\u001b[1m            \u001b[0m\u001b[1m \u001b[0m│\u001b[1m \u001b[0m\u001b[1m       Total\u001b[0m\u001b[1m \u001b[0m│\u001b[1m \u001b[0m\u001b[1m17,858 \u001b[0m\u001b[1;2m(71.4 KB)\u001b[0m\u001b[1m       \u001b[0m\u001b[1m \u001b[0m│\n",
      "└─────────┴────────────┴──────────────┴──────────────┴─────────────────────────┘\n",
      "\u001b[1m                                                                                \u001b[0m\n",
      "\u001b[1m                       Total Parameters: 17,858 \u001b[0m\u001b[1;2m(71.4 KB)\u001b[0m\u001b[1m                       \u001b[0m\n",
      "\n",
      "\n"
     ]
    }
   ],
   "source": [
    "class _policy_fn(nn.Module):\n",
    "\n",
    "    @nn.compact\n",
    "    def __call__(self, x):\n",
    "        x = nn.Dense(256)(x)\n",
    "        x = jax.nn.relu(x)\n",
    "        x = nn.Dense(64)(x)\n",
    "        x = jax.nn.relu(x)\n",
    "        x = nn.Dense(num_actions)(x)\n",
    "        return jax.nn.softmax(x)\n",
    "\n",
    "# Create the model object\n",
    "policy_fn = _policy_fn()\n",
    "# Display the model details\n",
    "dummy_x, _ = env.reset()\n",
    "rng_key = random.PRNGKey(64)\n",
    "print(policy_fn.tabulate(rng_key, dummy_x))"
   ]
  },
  {
   "cell_type": "code",
   "execution_count": 5,
   "metadata": {},
   "outputs": [
    {
     "name": "stdout",
     "output_type": "stream",
     "text": [
      "\n",
      "\u001b[3m                              _value_fn Summary                               \u001b[0m\n",
      "┏━━━━━━━━━┳━━━━━━━━━━━┳━━━━━━━━━━━━━━┳━━━━━━━━━━━━━━┳━━━━━━━━━━━━━━━━━━━━━━━━┓\n",
      "┃\u001b[1m \u001b[0m\u001b[1mpath   \u001b[0m\u001b[1m \u001b[0m┃\u001b[1m \u001b[0m\u001b[1mmodule   \u001b[0m\u001b[1m \u001b[0m┃\u001b[1m \u001b[0m\u001b[1minputs      \u001b[0m\u001b[1m \u001b[0m┃\u001b[1m \u001b[0m\u001b[1moutputs     \u001b[0m\u001b[1m \u001b[0m┃\u001b[1m \u001b[0m\u001b[1mparams                \u001b[0m\u001b[1m \u001b[0m┃\n",
      "┡━━━━━━━━━╇━━━━━━━━━━━╇━━━━━━━━━━━━━━╇━━━━━━━━━━━━━━╇━━━━━━━━━━━━━━━━━━━━━━━━┩\n",
      "│         │ _value_fn │ \u001b[2mfloat32\u001b[0m[4]   │ \u001b[2mfloat32\u001b[0m[1]   │                        │\n",
      "├─────────┼───────────┼──────────────┼──────────────┼────────────────────────┤\n",
      "│ Dense_0 │ Dense     │ \u001b[2mfloat32\u001b[0m[4]   │ \u001b[2mfloat32\u001b[0m[256] │ bias: \u001b[2mfloat32\u001b[0m[256]     │\n",
      "│         │           │              │              │ kernel: \u001b[2mfloat32\u001b[0m[4,256] │\n",
      "│         │           │              │              │                        │\n",
      "│         │           │              │              │ \u001b[1m1,280 \u001b[0m\u001b[1;2m(5.1 KB)\u001b[0m         │\n",
      "├─────────┼───────────┼──────────────┼──────────────┼────────────────────────┤\n",
      "│ Dense_1 │ Dense     │ \u001b[2mfloat32\u001b[0m[256] │ \u001b[2mfloat32\u001b[0m[1]   │ bias: \u001b[2mfloat32\u001b[0m[1]       │\n",
      "│         │           │              │              │ kernel: \u001b[2mfloat32\u001b[0m[256,1] │\n",
      "│         │           │              │              │                        │\n",
      "│         │           │              │              │ \u001b[1m257 \u001b[0m\u001b[1;2m(1.0 KB)\u001b[0m           │\n",
      "├─────────┼───────────┼──────────────┼──────────────┼────────────────────────┤\n",
      "│\u001b[1m \u001b[0m\u001b[1m       \u001b[0m\u001b[1m \u001b[0m│\u001b[1m \u001b[0m\u001b[1m         \u001b[0m\u001b[1m \u001b[0m│\u001b[1m \u001b[0m\u001b[1m            \u001b[0m\u001b[1m \u001b[0m│\u001b[1m \u001b[0m\u001b[1m       Total\u001b[0m\u001b[1m \u001b[0m│\u001b[1m \u001b[0m\u001b[1m1,537 \u001b[0m\u001b[1;2m(6.1 KB)\u001b[0m\u001b[1m        \u001b[0m\u001b[1m \u001b[0m│\n",
      "└─────────┴───────────┴──────────────┴──────────────┴────────────────────────┘\n",
      "\u001b[1m                                                                              \u001b[0m\n",
      "\u001b[1m                       Total Parameters: 1,537 \u001b[0m\u001b[1;2m(6.1 KB)\u001b[0m\u001b[1m                       \u001b[0m\n",
      "\n",
      "\n"
     ]
    }
   ],
   "source": [
    "class _value_fn(nn.Module):\n",
    "\n",
    "    @nn.compact\n",
    "    def __call__(self, x):\n",
    "        x = nn.Dense(256)(x)\n",
    "        x = jax.nn.relu(x)\n",
    "        x = nn.Dense(1)(x)\n",
    "        return x\n",
    "\n",
    "# Create the model object\n",
    "value_fn = _value_fn()\n",
    "# Display the model details\n",
    "print(value_fn.tabulate(rng_key, dummy_x))"
   ]
  },
  {
   "cell_type": "code",
   "execution_count": 6,
   "metadata": {},
   "outputs": [],
   "source": [
    "def policy_loss_fn(policy_variables, value_variables, states, actions, returns):\n",
    "    action_dists = policy_fn.apply(policy_variables, states)\n",
    "    probs = action_dists[jnp.arange(len(actions)), actions]\n",
    "    values = value_fn.apply(value_variables, states)\n",
    "    values = values.flatten()\n",
    "    errors = returns - values\n",
    "    log_probs = jnp.log(probs)\n",
    "    loss = -(log_probs * errors).mean()\n",
    "    return loss "
   ]
  },
  {
   "cell_type": "code",
   "execution_count": 7,
   "metadata": {},
   "outputs": [],
   "source": [
    "def value_loss_fn(variables, states, returns):\n",
    "    values = value_fn.apply(variables, states)\n",
    "    values = values.flatten()\n",
    "    errors = returns - values\n",
    "    loss = (errors * values).mean()\n",
    "    return loss "
   ]
  },
  {
   "cell_type": "markdown",
   "metadata": {},
   "source": [
    "## Learn The Optimal Action-Value Function"
   ]
  },
  {
   "cell_type": "code",
   "execution_count": 8,
   "metadata": {},
   "outputs": [
    {
     "name": "stderr",
     "output_type": "stream",
     "text": [
      "/home/ubuntu22/repos/reinforcement-learning-algorithms/venv-pre/lib/python3.10/site-packages/gymnasium/wrappers/rendering.py:282: UserWarning: \u001b[33mWARN: Overwriting existing videos at /home/ubuntu22/repos/reinforcement-learning-algorithms/videos/reinforce_baseline folder (try specifying a different `video_folder` for the `RecordVideo` wrapper if this is not desired)\u001b[0m\n",
      "  logger.warn(\n"
     ]
    },
    {
     "name": "stdout",
     "output_type": "stream",
     "text": [
      "Episode 5 Average Returns: 37.60\n",
      "Episode 10 Average Returns: 34.00\n",
      "Episode 15 Average Returns: 52.60\n",
      "Episode 20 Average Returns: 43.20\n",
      "Episode 25 Average Returns: 71.40\n",
      "Episode 30 Average Returns: 59.80\n",
      "Episode 35 Average Returns: 110.00\n",
      "Episode 40 Average Returns: 93.60\n",
      "Episode 45 Average Returns: 122.60\n",
      "Episode 50 Average Returns: 159.60\n"
     ]
    }
   ],
   "source": [
    "# Number of episodes to train on\n",
    "episodes = 53\n",
    "# Sliding window for episode evaluation (needs to be less than episodes)\n",
    "episode_window = 5\n",
    "# Discount ratio\n",
    "gamma = 0.99 \n",
    "# Step size\n",
    "policy_alpha = 0.001\n",
    "value_alpha = 0.001\n",
    "\n",
    "policy_variables = policy_fn.init(rng_key, dummy_x)\n",
    "policy_optimizer = optax.adam(learning_rate=policy_alpha)\n",
    "policy_opt_state = policy_optimizer.init(policy_variables)\n",
    "\n",
    "value_variables = value_fn.init(rng_key, dummy_x)\n",
    "value_optimizer = optax.adam(learning_rate=value_alpha)\n",
    "value_opt_state = value_optimizer.init(value_variables)\n",
    "\n",
    "env = gym.make(ENV_TYPE, render_mode=\"rgb_array\")\n",
    "env = gym.wrappers.RecordEpisodeStatistics(env, buffer_length=episodes)\n",
    "\n",
    "if SAVE_VIDEOS:\n",
    "    os.makedirs(VIDEOS_ROOT_DIR, exist_ok=True)\n",
    "    env = gym.wrappers.RecordVideo(\n",
    "        env=env, \n",
    "        video_folder=VIDEOS_ROOT_DIR,\n",
    "        episode_trigger=lambda episode: episode % 10 == 0,\n",
    "        video_length=0,\n",
    "        name_prefix=ENV_TYPE,\n",
    "        fps=30\n",
    "        )\n",
    "\n",
    "for episode in range(1, episodes+1):\n",
    "    terminated, truncated = False, False\n",
    "    reward = 0\n",
    "    rewards = []\n",
    "    state, info = env.reset()\n",
    "    states = []\n",
    "    actions = []\n",
    "    # Generate an episode following the policy\n",
    "    while not (terminated or truncated):\n",
    "        states.append(state)\n",
    "        # Select the action following the parametrized policy\n",
    "        action_dist = policy_fn.apply(policy_variables, state)\n",
    "        action_dist = np.array(action_dist).astype(np.float64)\n",
    "        # Divide by the total to ensure the values sum to one\n",
    "        action_dist /= action_dist.sum()\n",
    "        action = np.random.choice(np.arange(num_actions), p=action_dist)\n",
    "        actions.append(action)\n",
    "        # Take the action and observe reward and next state\n",
    "        next_state, reward, terminated, truncated, info = env.step(int(action))\n",
    "        rewards.append(reward)\n",
    "        state = next_state\n",
    "\n",
    "\n",
    "    rewards = jnp.array(rewards)\n",
    "    states = jnp.array(states)\n",
    "    actions = jnp.array(actions)\n",
    "\n",
    "    T = len(states)\n",
    "    weights = []\n",
    "    # Update the policies parameters\n",
    "    for t, state in enumerate(states):\n",
    "        G = 0\n",
    "        for k in range(t, T):\n",
    "            G += (gamma**(k - t)) * rewards[k]\n",
    "        weights.append(G)\n",
    "    weights = jnp.array(weights)\n",
    "\n",
    "    value_loss, value_grads = value_and_grad(value_loss_fn, argnums=0)(value_variables, states, weights)\n",
    "    value_updates, value_opt_state = value_optimizer.update(value_grads, value_opt_state, value_variables)\n",
    "    value_variables = optax.apply_updates(value_variables, value_updates)\n",
    "\n",
    "    policy_loss, policy_grads = value_and_grad(policy_loss_fn, argnums=0)(policy_variables, value_variables, states, actions, weights)\n",
    "    policy_updates, policy_opt_state = policy_optimizer.update(policy_grads, policy_opt_state, policy_variables)\n",
    "    policy_variables = optax.apply_updates(policy_variables, policy_updates)\n",
    "            \n",
    "\n",
    "    if episode % episode_window == 0:\n",
    "        print(f'Episode {episode} Average Returns: {np.mean(np.array(env.env.return_queue).flatten()[-episode_window:]) :.2f}')"
   ]
  },
  {
   "attachments": {},
   "cell_type": "markdown",
   "metadata": {},
   "source": [
    "## Plot The Results\n",
    "\n",
    "For cartpole rewards are assigned for the time spent in a non-terminal state. The episode length and rewards will be identical in this case."
   ]
  },
  {
   "cell_type": "code",
   "execution_count": 9,
   "metadata": {},
   "outputs": [
    {
     "data": {
      "image/png": "[encoded data removed]",
      "text/plain": [
       "<Figure size 1200x500 with 2 Axes>"
      ]
     },
     "metadata": {},
     "output_type": "display_data"
    }
   ],
   "source": [
    "# Code used from: https://gymnasium.farama.org/tutorials/blackjack_tutorial/#visualizing-the-training\n",
    "fig, axs = plt.subplots(ncols=2, figsize=(12, 5))\n",
    "axs[0].set_title(\"Episode rewards\")\n",
    "reward_moving_average = (\n",
    "    np.convolve(\n",
    "        np.array(env.env.return_queue).flatten(), np.ones(episode_window), mode=\"valid\"\n",
    "    )\n",
    "    / episode_window\n",
    ")\n",
    "axs[0].plot(range(len(reward_moving_average)), reward_moving_average)\n",
    "axs[1].set_title(\"Episode lengths\")\n",
    "length_moving_average = (\n",
    "    np.convolve(\n",
    "        np.array(env.env.length_queue).flatten(), np.ones(episode_window), mode=\"valid\"\n",
    "    )\n",
    "    / episode_window\n",
    ")\n",
    "axs[1].plot(range(len(length_moving_average)), length_moving_average)\n",
    "plt.tight_layout()\n",
    "plt.show()"
   ]
  },
  {
   "attachments": {},
   "cell_type": "markdown",
   "metadata": {},
   "source": [
    "## Training Episode Videos"
   ]
  },
  {
   "attachments": {},
   "cell_type": "markdown",
   "metadata": {},
   "source": [
    "### Episode 0"
   ]
  },
  {
   "cell_type": "code",
   "execution_count": 10,
   "metadata": {},
   "outputs": [
    {
     "data": {
      "text/html": [
       "<video src=\"./videos/reinforce_baseline//CartPole-v1-episode-0.mp4\" controls  >\n",
       "      Your browser does not support the <code>video</code> element.\n",
       "    </video>"
      ],
      "text/plain": [
       "<IPython.core.display.Video object>"
      ]
     },
     "execution_count": 10,
     "metadata": {},
     "output_type": "execute_result"
    }
   ],
   "source": [
    "Video(f\"{VIDEOS_ROOT_DIR}/{ENV_TYPE}-episode-0.mp4\")"
   ]
  },
  {
   "attachments": {},
   "cell_type": "markdown",
   "metadata": {},
   "source": [
    "### Episode 10"
   ]
  },
  {
   "cell_type": "code",
   "execution_count": 16,
   "metadata": {},
   "outputs": [
    {
     "data": {
      "text/html": [
       "<video src=\"./videos/reinforce_baseline//CartPole-v1-episode-10.mp4\" controls  >\n",
       "      Your browser does not support the <code>video</code> element.\n",
       "    </video>"
      ],
      "text/plain": [
       "<IPython.core.display.Video object>"
      ]
     },
     "execution_count": 16,
     "metadata": {},
     "output_type": "execute_result"
    }
   ],
   "source": [
    "Video(f\"{VIDEOS_ROOT_DIR}/{ENV_TYPE}-episode-10.mp4\")"
   ]
  },
  {
   "attachments": {},
   "cell_type": "markdown",
   "metadata": {},
   "source": [
    "### Episode 20"
   ]
  },
  {
   "cell_type": "code",
   "execution_count": 17,
   "metadata": {},
   "outputs": [
    {
     "data": {
      "text/html": [
       "<video src=\"./videos/reinforce_baseline//CartPole-v1-episode-20.mp4\" controls  >\n",
       "      Your browser does not support the <code>video</code> element.\n",
       "    </video>"
      ],
      "text/plain": [
       "<IPython.core.display.Video object>"
      ]
     },
     "execution_count": 17,
     "metadata": {},
     "output_type": "execute_result"
    }
   ],
   "source": [
    "Video(f\"{VIDEOS_ROOT_DIR}/{ENV_TYPE}-episode-20.mp4\")"
   ]
  },
  {
   "attachments": {},
   "cell_type": "markdown",
   "metadata": {},
   "source": [
    "### Episode 30"
   ]
  },
  {
   "cell_type": "code",
   "execution_count": 18,
   "metadata": {},
   "outputs": [
    {
     "data": {
      "text/html": [
       "<video src=\"./videos/reinforce_baseline//CartPole-v1-episode-30.mp4\" controls  >\n",
       "      Your browser does not support the <code>video</code> element.\n",
       "    </video>"
      ],
      "text/plain": [
       "<IPython.core.display.Video object>"
      ]
     },
     "execution_count": 18,
     "metadata": {},
     "output_type": "execute_result"
    }
   ],
   "source": [
    "Video(f\"{VIDEOS_ROOT_DIR}/{ENV_TYPE}-episode-30.mp4\")"
   ]
  },
  {
   "attachments": {},
   "cell_type": "markdown",
   "metadata": {},
   "source": [
    "### Episode 40"
   ]
  },
  {
   "cell_type": "code",
   "execution_count": 20,
   "metadata": {},
   "outputs": [
    {
     "data": {
      "text/html": [
       "<video src=\"./videos/reinforce_baseline//CartPole-v1-episode-40.mp4\" controls  >\n",
       "      Your browser does not support the <code>video</code> element.\n",
       "    </video>"
      ],
      "text/plain": [
       "<IPython.core.display.Video object>"
      ]
     },
     "execution_count": 20,
     "metadata": {},
     "output_type": "execute_result"
    }
   ],
   "source": [
    "Video(f\"{VIDEOS_ROOT_DIR}/{ENV_TYPE}-episode-40.mp4\")"
   ]
  },
  {
   "attachments": {},
   "cell_type": "markdown",
   "metadata": {},
   "source": [
    "### Episode 50"
   ]
  },
  {
   "cell_type": "code",
   "execution_count": 15,
   "metadata": {},
   "outputs": [
    {
     "data": {
      "text/html": [
       "<video src=\"./videos/reinforce_baseline//CartPole-v1-episode-50.mp4\" controls  >\n",
       "      Your browser does not support the <code>video</code> element.\n",
       "    </video>"
      ],
      "text/plain": [
       "<IPython.core.display.Video object>"
      ]
     },
     "execution_count": 15,
     "metadata": {},
     "output_type": "execute_result"
    }
   ],
   "source": [
    "Video(f\"{VIDEOS_ROOT_DIR}/{ENV_TYPE}-episode-50.mp4\")"
   ]
  }
 ],
 "metadata": {
  "kernelspec": {
   "display_name": "flax",
   "language": "python",
   "name": "python3"
  },
  "language_info": {
   "codemirror_mode": {
    "name": "ipython",
    "version": 3
   },
   "file_extension": ".py",
   "mimetype": "text/x-python",
   "name": "python",
   "nbconvert_exporter": "python",
   "pygments_lexer": "ipython3",
   "version": "3.10.12"
  },
  "orig_nbformat": 4,
  "vscode": {
   "interpreter": {
    "hash": "0a8d1f2580cdfde5c5829808ec6fccc81a351d243fb8b1925f7928e44ccf575b"
   }
  }
 },
 "nbformat": 4,
 "nbformat_minor": 2
}
