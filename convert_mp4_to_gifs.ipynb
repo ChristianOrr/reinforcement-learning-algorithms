{
 "cells": [
  {
   "cell_type": "markdown",
   "metadata": {},
   "source": [
    "# Convert mp4 Videos to GIF's\n",
    "\n",
    "This notebook is for converting the .mp4 videos to .gif. This allows the algothithms play to be displayed in the readme file in a browser. The .mp4 files can be displayed in the readme when loading it locally in vscode but can't be displayed in a browser, hence why we need to convert them to gifs first."
   ]
  },
  {
   "cell_type": "code",
   "execution_count": 4,
   "metadata": {},
   "outputs": [],
   "source": [
    "import os\n",
    "from moviepy.editor import VideoFileClip"
   ]
  },
  {
   "cell_type": "code",
   "execution_count": 24,
   "metadata": {},
   "outputs": [
    {
     "name": "stdout",
     "output_type": "stream",
     "text": [
      "./videos/gae_discrete_monte-carlo\n",
      "./videos/gae_discrete_monte-carlo/CartPole-v1-episode-0.mp4\n",
      "MoviePy - Building file ./videos/gae_discrete_monte-carlo/CartPole-v1-episode-0.gif with imageio.\n"
     ]
    },
    {
     "name": "stderr",
     "output_type": "stream",
     "text": [
      "                                                   \r"
     ]
    },
    {
     "name": "stdout",
     "output_type": "stream",
     "text": [
      "./videos/gae_discrete_monte-carlo/CartPole-v1-episode-5.mp4\n",
      "MoviePy - Building file ./videos/gae_discrete_monte-carlo/CartPole-v1-episode-5.gif with imageio.\n"
     ]
    },
    {
     "name": "stderr",
     "output_type": "stream",
     "text": [
      "                                                   \r"
     ]
    },
    {
     "name": "stdout",
     "output_type": "stream",
     "text": [
      "./videos/a2c_discrete_monte-carlo\n",
      "./videos/a2c_discrete_monte-carlo/CartPole-v1-episode-0.mp4\n",
      "MoviePy - Building file ./videos/a2c_discrete_monte-carlo/CartPole-v1-episode-0.gif with imageio.\n"
     ]
    },
    {
     "name": "stderr",
     "output_type": "stream",
     "text": [
      "                                                   \r"
     ]
    },
    {
     "name": "stdout",
     "output_type": "stream",
     "text": [
      "./videos/a2c_discrete_monte-carlo/CartPole-v1-episode-5.mp4\n",
      "MoviePy - Building file ./videos/a2c_discrete_monte-carlo/CartPole-v1-episode-5.gif with imageio.\n"
     ]
    },
    {
     "name": "stderr",
     "output_type": "stream",
     "text": [
      "                                                    \r"
     ]
    },
    {
     "name": "stdout",
     "output_type": "stream",
     "text": [
      "./videos/sarsa_fa\n",
      "./videos/sarsa_fa/MountainCar-v0-episode-0.mp4\n",
      "MoviePy - Building file ./videos/sarsa_fa/MountainCar-v0-episode-0.gif with imageio.\n"
     ]
    },
    {
     "name": "stderr",
     "output_type": "stream",
     "text": [
      "                                                                \r"
     ]
    },
    {
     "name": "stdout",
     "output_type": "stream",
     "text": [
      "./videos/sarsa_fa/MountainCar-v0-episode-40.mp4\n",
      "MoviePy - Building file ./videos/sarsa_fa/MountainCar-v0-episode-40.gif with imageio.\n"
     ]
    },
    {
     "name": "stderr",
     "output_type": "stream",
     "text": [
      "                                                    \r"
     ]
    },
    {
     "name": "stdout",
     "output_type": "stream",
     "text": [
      "./videos/q_learning_fa\n",
      "./videos/q_learning_fa/MountainCar-v0-episode-0.mp4\n",
      "MoviePy - Building file ./videos/q_learning_fa/MountainCar-v0-episode-0.gif with imageio.\n"
     ]
    },
    {
     "name": "stderr",
     "output_type": "stream",
     "text": [
      "                                                    \r"
     ]
    },
    {
     "name": "stdout",
     "output_type": "stream",
     "text": [
      "./videos/q_learning_fa/MountainCar-v0-episode-40.mp4\n",
      "MoviePy - Building file ./videos/q_learning_fa/MountainCar-v0-episode-40.gif with imageio.\n"
     ]
    },
    {
     "name": "stderr",
     "output_type": "stream",
     "text": [
      "                                                    \r"
     ]
    },
    {
     "name": "stdout",
     "output_type": "stream",
     "text": [
      "./videos/a2c_discrete\n",
      "./videos/a2c_discrete/LunarLander-v2-episode-0.mp4\n",
      "MoviePy - Building file ./videos/a2c_discrete/LunarLander-v2-episode-0.gif with imageio.\n"
     ]
    },
    {
     "name": "stderr",
     "output_type": "stream",
     "text": [
      "                                                    \r"
     ]
    },
    {
     "name": "stdout",
     "output_type": "stream",
     "text": [
      "./videos/a2c_discrete/LunarLander-v2-episode-5.mp4\n",
      "MoviePy - Building file ./videos/a2c_discrete/LunarLander-v2-episode-5.gif with imageio.\n"
     ]
    },
    {
     "name": "stderr",
     "output_type": "stream",
     "text": [
      "                                                    \r"
     ]
    },
    {
     "name": "stdout",
     "output_type": "stream",
     "text": [
      "./videos/gae_discrete\n",
      "./videos/gae_discrete/LunarLander-v2-episode-0.mp4\n",
      "MoviePy - Building file ./videos/gae_discrete/LunarLander-v2-episode-0.gif with imageio.\n"
     ]
    },
    {
     "name": "stderr",
     "output_type": "stream",
     "text": [
      "                                                   \r"
     ]
    },
    {
     "name": "stdout",
     "output_type": "stream",
     "text": [
      "./videos/gae_discrete/LunarLander-v2-episode-5.mp4\n",
      "MoviePy - Building file ./videos/gae_discrete/LunarLander-v2-episode-5.gif with imageio.\n"
     ]
    },
    {
     "name": "stderr",
     "output_type": "stream",
     "text": [
      "                                                                 \r"
     ]
    },
    {
     "name": "stdout",
     "output_type": "stream",
     "text": [
      "./videos/ppo_discrete\n",
      "./videos/ppo_discrete/LunarLander-v2-episode-0.mp4\n",
      "MoviePy - Building file ./videos/ppo_discrete/LunarLander-v2-episode-0.gif with imageio.\n"
     ]
    },
    {
     "name": "stderr",
     "output_type": "stream",
     "text": [
      "                                                   \r"
     ]
    },
    {
     "name": "stdout",
     "output_type": "stream",
     "text": [
      "./videos/ppo_discrete/LunarLander-v2-episode-5.mp4\n",
      "MoviePy - Building file ./videos/ppo_discrete/LunarLander-v2-episode-5.gif with imageio.\n"
     ]
    },
    {
     "name": "stderr",
     "output_type": "stream",
     "text": [
      "                                                    \r"
     ]
    },
    {
     "name": "stdout",
     "output_type": "stream",
     "text": [
      "./videos/sarsa\n",
      "./videos/sarsa/Taxi-v3-episode-0.mp4\n",
      "MoviePy - Building file ./videos/sarsa/Taxi-v3-episode-0.gif with imageio.\n"
     ]
    },
    {
     "name": "stderr",
     "output_type": "stream",
     "text": [
      "                                                    \r"
     ]
    },
    {
     "name": "stdout",
     "output_type": "stream",
     "text": [
      "./videos/sarsa/Taxi-v3-episode-400.mp4\n",
      "MoviePy - Building file ./videos/sarsa/Taxi-v3-episode-400.gif with imageio.\n"
     ]
    },
    {
     "name": "stderr",
     "output_type": "stream",
     "text": [
      "                                                   \r"
     ]
    },
    {
     "name": "stdout",
     "output_type": "stream",
     "text": [
      "./videos/q_learning\n",
      "./videos/q_learning/Taxi-v3-episode-0.mp4\n",
      "MoviePy - Building file ./videos/q_learning/Taxi-v3-episode-0.gif with imageio.\n"
     ]
    },
    {
     "name": "stderr",
     "output_type": "stream",
     "text": [
      "                                                    \r"
     ]
    },
    {
     "name": "stdout",
     "output_type": "stream",
     "text": [
      "./videos/q_learning/Taxi-v3-episode-400.mp4\n",
      "MoviePy - Building file ./videos/q_learning/Taxi-v3-episode-400.gif with imageio.\n"
     ]
    },
    {
     "name": "stderr",
     "output_type": "stream",
     "text": [
      "                                                   \r"
     ]
    },
    {
     "name": "stdout",
     "output_type": "stream",
     "text": [
      "./videos/reinforce_baseline\n",
      "./videos/reinforce_baseline/CartPole-v1-episode-0.mp4\n",
      "MoviePy - Building file ./videos/reinforce_baseline/CartPole-v1-episode-0.gif with imageio.\n"
     ]
    },
    {
     "name": "stderr",
     "output_type": "stream",
     "text": [
      "                                                   \r"
     ]
    },
    {
     "name": "stdout",
     "output_type": "stream",
     "text": [
      "./videos/reinforce_baseline/CartPole-v1-episode-50.mp4\n",
      "MoviePy - Building file ./videos/reinforce_baseline/CartPole-v1-episode-50.gif with imageio.\n"
     ]
    },
    {
     "name": "stderr",
     "output_type": "stream",
     "text": [
      "                                                   \r"
     ]
    },
    {
     "name": "stdout",
     "output_type": "stream",
     "text": [
      "./videos/double_q_learning\n",
      "./videos/double_q_learning/Taxi-v3-episode-0.mp4\n",
      "MoviePy - Building file ./videos/double_q_learning/Taxi-v3-episode-0.gif with imageio.\n"
     ]
    },
    {
     "name": "stderr",
     "output_type": "stream",
     "text": [
      "                                                    \r"
     ]
    },
    {
     "name": "stdout",
     "output_type": "stream",
     "text": [
      "./videos/double_q_learning/Taxi-v3-episode-400.mp4\n",
      "MoviePy - Building file ./videos/double_q_learning/Taxi-v3-episode-400.gif with imageio.\n"
     ]
    },
    {
     "name": "stderr",
     "output_type": "stream",
     "text": [
      "                                                   \r"
     ]
    },
    {
     "name": "stdout",
     "output_type": "stream",
     "text": [
      "./videos/reinforce\n",
      "./videos/reinforce/CartPole-v1-episode-0.mp4\n",
      "MoviePy - Building file ./videos/reinforce/CartPole-v1-episode-0.gif with imageio.\n"
     ]
    },
    {
     "name": "stderr",
     "output_type": "stream",
     "text": [
      "                                                   \r"
     ]
    },
    {
     "name": "stdout",
     "output_type": "stream",
     "text": [
      "./videos/reinforce/CartPole-v1-episode-50.mp4\n",
      "MoviePy - Building file ./videos/reinforce/CartPole-v1-episode-50.gif with imageio.\n"
     ]
    },
    {
     "name": "stderr",
     "output_type": "stream",
     "text": [
      "                                                   \r"
     ]
    },
    {
     "name": "stdout",
     "output_type": "stream",
     "text": [
      "./videos/actor-critic\n",
      "./videos/actor-critic/CartPole-v1-episode-0.mp4\n",
      "MoviePy - Building file ./videos/actor-critic/CartPole-v1-episode-0.gif with imageio.\n"
     ]
    },
    {
     "name": "stderr",
     "output_type": "stream",
     "text": [
      "                                                   \r"
     ]
    },
    {
     "name": "stdout",
     "output_type": "stream",
     "text": [
      "./videos/actor-critic/CartPole-v1-episode-50.mp4\n",
      "MoviePy - Building file ./videos/actor-critic/CartPole-v1-episode-50.gif with imageio.\n"
     ]
    },
    {
     "name": "stderr",
     "output_type": "stream",
     "text": [
      "                                                   \r"
     ]
    }
   ],
   "source": [
    "all_videos_directory = \"./videos\"\n",
    "\n",
    "for videos_folder in os.listdir(all_videos_directory):\n",
    "    algorithm_videos_folder = os.path.join(all_videos_directory, videos_folder)\n",
    "    videos = sorted([video for video in os.listdir(algorithm_videos_folder) if video.endswith(\".mp4\")])\n",
    "    # We only need to convert the first and last since \n",
    "    # we want to show the before and after training comparison\n",
    "    first_last_videos = [videos[0], videos[-1]]\n",
    "    for training_video in first_last_videos:\n",
    "        training_video_path = os.path.join(algorithm_videos_folder, training_video)\n",
    "        video = VideoFileClip(training_video_path)\n",
    "        gif_video_name = training_video_path.replace(\".mp4\", \".gif\")\n",
    "        video.write_gif(gif_video_name)"
   ]
  }
 ],
 "metadata": {
  "kernelspec": {
   "display_name": "venv-pre",
   "language": "python",
   "name": "python3"
  },
  "language_info": {
   "codemirror_mode": {
    "name": "ipython",
    "version": 3
   },
   "file_extension": ".py",
   "mimetype": "text/x-python",
   "name": "python",
   "nbconvert_exporter": "python",
   "pygments_lexer": "ipython3",
   "version": "3.10.12"
  }
 },
 "nbformat": 4,
 "nbformat_minor": 2
}
