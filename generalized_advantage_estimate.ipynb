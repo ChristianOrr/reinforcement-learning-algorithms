{
 "cells": [
  {
   "attachments": {},
   "cell_type": "markdown",
   "metadata": {},
   "source": [
    "# Generalized Advantage Estimate (GAE)\n",
    "\n",
    "We will be implementing the policy gradient method Generalized Advantage Estimate (GAE). GAE can be implemented in a pure policy gradient way, but we will implement it using the actor-critic method.  We will adapt the actor-critic method by replacing the TD error value with the advantage value in the policy gradient update. The advantage function, $A^{\\pi}$, following policy $\\pi$ is defined by:\n",
    "$$A^{\\pi} = Q^{\\pi}(s_t, a_t) - V^{\\pi}(s_t),$$\n",
    "where $Q^{\\pi}(s_t, a_t)$ is the action-value function following policy $\\pi$ and $V^{\\pi}(s_t)$ is the state-value function following policy $\\pi$. The advantage function essentially measures the advantage gained (or lost) by taking the action $a_t$ in state $s_t$ over the average return following policy $\\pi$. We don't know the absolute value of $Q^{\\pi}(s_t, a_t)$, hence we need to find an advantage estimate, $\\hat{Q}(s_t, a_t)$, as a substitute.\n",
    "\n",
    "The TD error was shown in [1] to be an advantage estimate function itself, which makes the actor-critic method easy to alter by performing a drop-in replacement with other advantage functions such as GAE. GAE is a good alternative to the TD error, because it has lower bias as the cost of a minor increase in variance. GAE is defined by:\n",
    "$$\\hat{A}_{t}^{GAE} = \\sum_{l=0}^{T}(\\gamma \\lambda)^{l}\\delta_{t+l},$$ \n",
    "where $\\delta_{t+l}$ is the TD error, $\\gamma$ is the discount rate, $\\lambda$ is the decay rate and $T$ is the final timestep, which can be $\\infty$ if the episode is non-terminating. The bias-variance trade-off can be finetuned by altering the discount rate $\\gamma$ and/or the decay rate $\\lambda$. Larger discount/decay rates lead to higher variance and lower bias and lower discount/decay rates lead to lower variance and higher bias. \n",
    "The policy function update now becomes:\n",
    "$$\\theta \\leftarrow \\theta + \\alpha^{\\theta} \\nabla_\\theta \\log(\\pi_\\theta(a_t | s_t))\\hat{A}_{t}^{GAE}.$$\n",
    "\n",
    "\n",
    "\n",
    "For more information on the Generalized Advantage Estimate algorithm, see the original paper [1] [High-Dimensional Continuous Control Using Generalized Advantage Estimation](https://arxiv.org/abs/1506.02438) and the blog post [2] [Generalized Advantage Estimate: Maths and Code](https://towardsdatascience.com/generalized-advantage-estimate-maths-and-code-b5d5bd3ce737).\n"
   ]
  },
  {
   "cell_type": "code",
   "execution_count": 128,
   "metadata": {},
   "outputs": [],
   "source": [
    "import os\n",
    "import gymnasium as gym\n",
    "import numpy as np\n",
    "from gymnasium.wrappers import RecordVideo\n",
    "from IPython.display import Video\n",
    "import jax\n",
    "import flax.linen as nn\n",
    "from jax import random\n",
    "from jax import grad, value_and_grad\n",
    "import jax.numpy as jnp\n",
    "import optax\n",
    "import matplotlib.pyplot as plt"
   ]
  },
  {
   "cell_type": "code",
   "execution_count": 129,
   "metadata": {},
   "outputs": [],
   "source": [
    "# Type of environment, options include:\n",
    "# CartPole-v1\n",
    "ENV_TYPE = \"CartPole-v1\"\n",
    "\n",
    "# Save videos from training\n",
    "SAVE_VIDEOS = False\n",
    "VIDEOS_ROOT_DIR = './videos/generalized_advantage_estimate/'"
   ]
  },
  {
   "cell_type": "code",
   "execution_count": 130,
   "metadata": {},
   "outputs": [],
   "source": [
    "# Create the environment\n",
    "env = gym.make(ENV_TYPE, render_mode=\"rgb_array\")\n",
    "\n",
    "# Number of possible states and actions\n",
    "num_actions = env.action_space.n\n",
    "obs_dims = env.observation_space.shape\n",
    "obs_upper_bounds = env.observation_space.high\n",
    "obs_lower_bounds = env.observation_space.low"
   ]
  },
  {
   "attachments": {},
   "cell_type": "markdown",
   "metadata": {},
   "source": [
    "## Create The Policy "
   ]
  },
  {
   "cell_type": "code",
   "execution_count": 131,
   "metadata": {},
   "outputs": [
    {
     "name": "stdout",
     "output_type": "stream",
     "text": [
      "\n",
      "\u001b[3m                               _policy_fn Summary                               \u001b[0m\n",
      "┏━━━━━━━━━┳━━━━━━━━━━━━┳━━━━━━━━━━━━━━┳━━━━━━━━━━━━━━┳━━━━━━━━━━━━━━━━━━━━━━━━━┓\n",
      "┃\u001b[1m \u001b[0m\u001b[1mpath   \u001b[0m\u001b[1m \u001b[0m┃\u001b[1m \u001b[0m\u001b[1mmodule    \u001b[0m\u001b[1m \u001b[0m┃\u001b[1m \u001b[0m\u001b[1minputs      \u001b[0m\u001b[1m \u001b[0m┃\u001b[1m \u001b[0m\u001b[1moutputs     \u001b[0m\u001b[1m \u001b[0m┃\u001b[1m \u001b[0m\u001b[1mparams                 \u001b[0m\u001b[1m \u001b[0m┃\n",
      "┡━━━━━━━━━╇━━━━━━━━━━━━╇━━━━━━━━━━━━━━╇━━━━━━━━━━━━━━╇━━━━━━━━━━━━━━━━━━━━━━━━━┩\n",
      "│         │ _policy_fn │ \u001b[2mfloat32\u001b[0m[4]   │ \u001b[2mfloat32\u001b[0m[2]   │                         │\n",
      "├─────────┼────────────┼──────────────┼──────────────┼─────────────────────────┤\n",
      "│ Dense_0 │ Dense      │ \u001b[2mfloat32\u001b[0m[4]   │ \u001b[2mfloat32\u001b[0m[256] │ bias: \u001b[2mfloat32\u001b[0m[256]      │\n",
      "│         │            │              │              │ kernel: \u001b[2mfloat32\u001b[0m[4,256]  │\n",
      "│         │            │              │              │                         │\n",
      "│         │            │              │              │ \u001b[1m1,280 \u001b[0m\u001b[1;2m(5.1 KB)\u001b[0m          │\n",
      "├─────────┼────────────┼──────────────┼──────────────┼─────────────────────────┤\n",
      "│ Dense_1 │ Dense      │ \u001b[2mfloat32\u001b[0m[256] │ \u001b[2mfloat32\u001b[0m[64]  │ bias: \u001b[2mfloat32\u001b[0m[64]       │\n",
      "│         │            │              │              │ kernel: \u001b[2mfloat32\u001b[0m[256,64] │\n",
      "│         │            │              │              │                         │\n",
      "│         │            │              │              │ \u001b[1m16,448 \u001b[0m\u001b[1;2m(65.8 KB)\u001b[0m        │\n",
      "├─────────┼────────────┼──────────────┼──────────────┼─────────────────────────┤\n",
      "│ Dense_2 │ Dense      │ \u001b[2mfloat32\u001b[0m[64]  │ \u001b[2mfloat32\u001b[0m[2]   │ bias: \u001b[2mfloat32\u001b[0m[2]        │\n",
      "│         │            │              │              │ kernel: \u001b[2mfloat32\u001b[0m[64,2]   │\n",
      "│         │            │              │              │                         │\n",
      "│         │            │              │              │ \u001b[1m130 \u001b[0m\u001b[1;2m(520 B)\u001b[0m             │\n",
      "├─────────┼────────────┼──────────────┼──────────────┼─────────────────────────┤\n",
      "│\u001b[1m \u001b[0m\u001b[1m       \u001b[0m\u001b[1m \u001b[0m│\u001b[1m \u001b[0m\u001b[1m          \u001b[0m\u001b[1m \u001b[0m│\u001b[1m \u001b[0m\u001b[1m            \u001b[0m\u001b[1m \u001b[0m│\u001b[1m \u001b[0m\u001b[1m       Total\u001b[0m\u001b[1m \u001b[0m│\u001b[1m \u001b[0m\u001b[1m17,858 \u001b[0m\u001b[1;2m(71.4 KB)\u001b[0m\u001b[1m       \u001b[0m\u001b[1m \u001b[0m│\n",
      "└─────────┴────────────┴──────────────┴──────────────┴─────────────────────────┘\n",
      "\u001b[1m                                                                                \u001b[0m\n",
      "\u001b[1m                       Total Parameters: 17,858 \u001b[0m\u001b[1;2m(71.4 KB)\u001b[0m\u001b[1m                       \u001b[0m\n",
      "\n",
      "\n"
     ]
    }
   ],
   "source": [
    "class _policy_fn(nn.Module):\n",
    "\n",
    "    @nn.compact\n",
    "    def __call__(self, x):\n",
    "        x = nn.Dense(256)(x)\n",
    "        x = jax.nn.relu(x)\n",
    "        x = nn.Dense(64)(x)\n",
    "        x = jax.nn.relu(x)\n",
    "        x = nn.Dense(num_actions)(x)\n",
    "        return jax.nn.softmax(x)\n",
    "\n",
    "# Create the model object\n",
    "policy_fn = _policy_fn()\n",
    "# Display the model details\n",
    "dummy_x, _ = env.reset()\n",
    "rng_key = random.PRNGKey(64)\n",
    "print(policy_fn.tabulate(rng_key, dummy_x))"
   ]
  },
  {
   "cell_type": "code",
   "execution_count": 132,
   "metadata": {},
   "outputs": [
    {
     "name": "stdout",
     "output_type": "stream",
     "text": [
      "\n",
      "\u001b[3m                              _value_fn Summary                               \u001b[0m\n",
      "┏━━━━━━━━━┳━━━━━━━━━━━┳━━━━━━━━━━━━━━┳━━━━━━━━━━━━━━┳━━━━━━━━━━━━━━━━━━━━━━━━┓\n",
      "┃\u001b[1m \u001b[0m\u001b[1mpath   \u001b[0m\u001b[1m \u001b[0m┃\u001b[1m \u001b[0m\u001b[1mmodule   \u001b[0m\u001b[1m \u001b[0m┃\u001b[1m \u001b[0m\u001b[1minputs      \u001b[0m\u001b[1m \u001b[0m┃\u001b[1m \u001b[0m\u001b[1moutputs     \u001b[0m\u001b[1m \u001b[0m┃\u001b[1m \u001b[0m\u001b[1mparams                \u001b[0m\u001b[1m \u001b[0m┃\n",
      "┡━━━━━━━━━╇━━━━━━━━━━━╇━━━━━━━━━━━━━━╇━━━━━━━━━━━━━━╇━━━━━━━━━━━━━━━━━━━━━━━━┩\n",
      "│         │ _value_fn │ \u001b[2mfloat32\u001b[0m[4]   │ \u001b[2mfloat32\u001b[0m[1]   │                        │\n",
      "├─────────┼───────────┼──────────────┼──────────────┼────────────────────────┤\n",
      "│ Dense_0 │ Dense     │ \u001b[2mfloat32\u001b[0m[4]   │ \u001b[2mfloat32\u001b[0m[256] │ bias: \u001b[2mfloat32\u001b[0m[256]     │\n",
      "│         │           │              │              │ kernel: \u001b[2mfloat32\u001b[0m[4,256] │\n",
      "│         │           │              │              │                        │\n",
      "│         │           │              │              │ \u001b[1m1,280 \u001b[0m\u001b[1;2m(5.1 KB)\u001b[0m         │\n",
      "├─────────┼───────────┼──────────────┼──────────────┼────────────────────────┤\n",
      "│ Dense_1 │ Dense     │ \u001b[2mfloat32\u001b[0m[256] │ \u001b[2mfloat32\u001b[0m[1]   │ bias: \u001b[2mfloat32\u001b[0m[1]       │\n",
      "│         │           │              │              │ kernel: \u001b[2mfloat32\u001b[0m[256,1] │\n",
      "│         │           │              │              │                        │\n",
      "│         │           │              │              │ \u001b[1m257 \u001b[0m\u001b[1;2m(1.0 KB)\u001b[0m           │\n",
      "├─────────┼───────────┼──────────────┼──────────────┼────────────────────────┤\n",
      "│\u001b[1m \u001b[0m\u001b[1m       \u001b[0m\u001b[1m \u001b[0m│\u001b[1m \u001b[0m\u001b[1m         \u001b[0m\u001b[1m \u001b[0m│\u001b[1m \u001b[0m\u001b[1m            \u001b[0m\u001b[1m \u001b[0m│\u001b[1m \u001b[0m\u001b[1m       Total\u001b[0m\u001b[1m \u001b[0m│\u001b[1m \u001b[0m\u001b[1m1,537 \u001b[0m\u001b[1;2m(6.1 KB)\u001b[0m\u001b[1m        \u001b[0m\u001b[1m \u001b[0m│\n",
      "└─────────┴───────────┴──────────────┴──────────────┴────────────────────────┘\n",
      "\u001b[1m                                                                              \u001b[0m\n",
      "\u001b[1m                       Total Parameters: 1,537 \u001b[0m\u001b[1;2m(6.1 KB)\u001b[0m\u001b[1m                       \u001b[0m\n",
      "\n",
      "\n"
     ]
    }
   ],
   "source": [
    "class _value_fn(nn.Module):\n",
    "\n",
    "    @nn.compact\n",
    "    def __call__(self, x):\n",
    "        x = nn.Dense(256)(x)\n",
    "        x = jax.nn.relu(x)\n",
    "        x = nn.Dense(1)(x)\n",
    "        return x\n",
    "\n",
    "# Create the model object\n",
    "value_fn = _value_fn()\n",
    "# Display the model details\n",
    "print(value_fn.tabulate(rng_key, dummy_x))"
   ]
  },
  {
   "cell_type": "code",
   "execution_count": 133,
   "metadata": {},
   "outputs": [],
   "source": [
    "# code obtained from: https://towardsdatascience.com/generalized-advantage-estimate-maths-and-code-b5d5bd3ce737\n",
    "def get_gae(\n",
    "    gamma, lamda, value_old_states, value_new_states, rewards, done\n",
    "):\n",
    "    \"\"\"\n",
    "    Get generalized advantage estimate of a trajectory\n",
    "    gamma: trajectory discount (scalar)\n",
    "    lamda: exponential mean discount (scalar)\n",
    "    value_old_states: value function result's with old_state input\n",
    "    value_new_states: value function result's with new_state input\n",
    "    rewards: agent rewards of taking actions in the environment\n",
    "    done: flag list for end of episode\n",
    "    \"\"\"\n",
    "    batch_size = len(done)\n",
    "\n",
    "    advantage = np.zeros(batch_size + 1)\n",
    "\n",
    "    for t in reversed(range(batch_size)):\n",
    "        delta = rewards[t] + (gamma * value_new_states[t] * done[t]) - value_old_states[t]\n",
    "        advantage[t] = delta + (gamma * lamda * advantage[t + 1] * done[t])\n",
    "\n",
    "    return np.sum(advantage)"
   ]
  },
  {
   "cell_type": "code",
   "execution_count": 134,
   "metadata": {},
   "outputs": [],
   "source": [
    "def policy_loss_fn(policy_variables, state, action, rewards, gamma, trace_decay_rate, value_old_states, value_new_states, done):\n",
    "    \n",
    "    advantage = get_gae(gamma, trace_decay_rate, value_old_states, value_new_states, rewards, done)\n",
    "\n",
    "    action_dist = policy_fn.apply(policy_variables, state)\n",
    "    prob = action_dist[action]\n",
    "    log_prob = jnp.log(prob)\n",
    "\n",
    "    loss = -(advantage * log_prob)\n",
    "\n",
    "    return loss "
   ]
  },
  {
   "cell_type": "code",
   "execution_count": 135,
   "metadata": {},
   "outputs": [],
   "source": [
    "def value_loss_fn(variables, state, next_state, reward, gamma):\n",
    "    value = value_fn.apply(variables, state)[0]\n",
    "    next_value = value_fn.apply(variables, next_state)[0]\n",
    "    td_error = (reward + gamma*next_value) - value\n",
    "    loss = td_error * value\n",
    "    return loss "
   ]
  },
  {
   "cell_type": "markdown",
   "metadata": {},
   "source": [
    "## Learn The Optimal Action-Value Function"
   ]
  },
  {
   "cell_type": "code",
   "execution_count": 136,
   "metadata": {},
   "outputs": [
    {
     "name": "stdout",
     "output_type": "stream",
     "text": [
      "Moviepy - Building video /home/ubuntu20/code/rl-tabular-algorithms/videos/generalized_advantage_estimate/CartPole-v1-episode-0.mp4.\n",
      "Moviepy - Writing video /home/ubuntu20/code/rl-tabular-algorithms/videos/generalized_advantage_estimate/CartPole-v1-episode-0.mp4\n",
      "\n"
     ]
    },
    {
     "name": "stderr",
     "output_type": "stream",
     "text": [
      "                                                   "
     ]
    },
    {
     "name": "stdout",
     "output_type": "stream",
     "text": [
      "Moviepy - Done !\n",
      "Moviepy - video ready /home/ubuntu20/code/rl-tabular-algorithms/videos/generalized_advantage_estimate/CartPole-v1-episode-0.mp4\n"
     ]
    },
    {
     "name": "stderr",
     "output_type": "stream",
     "text": [
      "\r"
     ]
    },
    {
     "name": "stdout",
     "output_type": "stream",
     "text": [
      "Episode 5 Average Returns: 32.20\n",
      "Episode 10 Average Returns: 32.00\n",
      "Moviepy - Building video /home/ubuntu20/code/rl-tabular-algorithms/videos/generalized_advantage_estimate/CartPole-v1-episode-10.mp4.\n",
      "Moviepy - Writing video /home/ubuntu20/code/rl-tabular-algorithms/videos/generalized_advantage_estimate/CartPole-v1-episode-10.mp4\n",
      "\n"
     ]
    },
    {
     "name": "stderr",
     "output_type": "stream",
     "text": [
      "                                                             \r"
     ]
    },
    {
     "name": "stdout",
     "output_type": "stream",
     "text": [
      "Moviepy - Done !\n",
      "Moviepy - video ready /home/ubuntu20/code/rl-tabular-algorithms/videos/generalized_advantage_estimate/CartPole-v1-episode-10.mp4\n",
      "Episode 15 Average Returns: 47.60\n",
      "Episode 20 Average Returns: 40.20\n",
      "Moviepy - Building video /home/ubuntu20/code/rl-tabular-algorithms/videos/generalized_advantage_estimate/CartPole-v1-episode-20.mp4.\n",
      "Moviepy - Writing video /home/ubuntu20/code/rl-tabular-algorithms/videos/generalized_advantage_estimate/CartPole-v1-episode-20.mp4\n",
      "\n"
     ]
    },
    {
     "name": "stderr",
     "output_type": "stream",
     "text": [
      "                                                   "
     ]
    },
    {
     "name": "stdout",
     "output_type": "stream",
     "text": [
      "Moviepy - Done !\n",
      "Moviepy - video ready /home/ubuntu20/code/rl-tabular-algorithms/videos/generalized_advantage_estimate/CartPole-v1-episode-20.mp4\n"
     ]
    },
    {
     "name": "stderr",
     "output_type": "stream",
     "text": [
      "\r"
     ]
    },
    {
     "name": "stdout",
     "output_type": "stream",
     "text": [
      "Episode 25 Average Returns: 59.80\n",
      "Episode 30 Average Returns: 63.60\n",
      "Moviepy - Building video /home/ubuntu20/code/rl-tabular-algorithms/videos/generalized_advantage_estimate/CartPole-v1-episode-30.mp4.\n",
      "Moviepy - Writing video /home/ubuntu20/code/rl-tabular-algorithms/videos/generalized_advantage_estimate/CartPole-v1-episode-30.mp4\n",
      "\n"
     ]
    },
    {
     "name": "stderr",
     "output_type": "stream",
     "text": [
      "                                                               \r"
     ]
    },
    {
     "name": "stdout",
     "output_type": "stream",
     "text": [
      "Moviepy - Done !\n",
      "Moviepy - video ready /home/ubuntu20/code/rl-tabular-algorithms/videos/generalized_advantage_estimate/CartPole-v1-episode-30.mp4\n",
      "Episode 35 Average Returns: 68.20\n",
      "Episode 40 Average Returns: 75.20\n",
      "Moviepy - Building video /home/ubuntu20/code/rl-tabular-algorithms/videos/generalized_advantage_estimate/CartPole-v1-episode-40.mp4.\n",
      "Moviepy - Writing video /home/ubuntu20/code/rl-tabular-algorithms/videos/generalized_advantage_estimate/CartPole-v1-episode-40.mp4\n",
      "\n"
     ]
    },
    {
     "name": "stderr",
     "output_type": "stream",
     "text": [
      "                                                             \r"
     ]
    },
    {
     "name": "stdout",
     "output_type": "stream",
     "text": [
      "Moviepy - Done !\n",
      "Moviepy - video ready /home/ubuntu20/code/rl-tabular-algorithms/videos/generalized_advantage_estimate/CartPole-v1-episode-40.mp4\n",
      "Episode 45 Average Returns: 65.20\n",
      "Episode 50 Average Returns: 78.60\n",
      "Moviepy - Building video /home/ubuntu20/code/rl-tabular-algorithms/videos/generalized_advantage_estimate/CartPole-v1-episode-50.mp4.\n",
      "Moviepy - Writing video /home/ubuntu20/code/rl-tabular-algorithms/videos/generalized_advantage_estimate/CartPole-v1-episode-50.mp4\n",
      "\n"
     ]
    },
    {
     "name": "stderr",
     "output_type": "stream",
     "text": [
      "                                                             \r"
     ]
    },
    {
     "name": "stdout",
     "output_type": "stream",
     "text": [
      "Moviepy - Done !\n",
      "Moviepy - video ready /home/ubuntu20/code/rl-tabular-algorithms/videos/generalized_advantage_estimate/CartPole-v1-episode-50.mp4\n"
     ]
    }
   ],
   "source": [
    "# Number of episodes to train on\n",
    "episodes = 51\n",
    "# Sliding window for episode evaluation (needs to be less than episodes)\n",
    "episode_window = 5\n",
    "# Discount ratio\n",
    "gamma = 0.99\n",
    "trace_decay_rate = 0.8\n",
    "# Step size\n",
    "policy_alpha = 0.0006\n",
    "value_alpha = 0.0006\n",
    "\n",
    "policy_variables = policy_fn.init(rng_key, dummy_x)\n",
    "policy_optimizer = optax.adam(learning_rate=policy_alpha)\n",
    "policy_opt_state = policy_optimizer.init(policy_variables)\n",
    "\n",
    "value_variables = value_fn.init(rng_key, dummy_x)\n",
    "value_optimizer = optax.adam(learning_rate=value_alpha)\n",
    "value_opt_state = value_optimizer.init(value_variables)\n",
    "\n",
    "env = gym.make(ENV_TYPE, render_mode=\"rgb_array\")\n",
    "env = gym.wrappers.RecordEpisodeStatistics(env, deque_size=episodes)\n",
    "\n",
    "if SAVE_VIDEOS:\n",
    "    os.makedirs(VIDEOS_ROOT_DIR, exist_ok=True)\n",
    "    env = gym.wrappers.RecordVideo(\n",
    "        env=env, \n",
    "        video_folder=VIDEOS_ROOT_DIR,\n",
    "        episode_trigger=lambda episode: episode % 10 == 0,\n",
    "        video_length=0,\n",
    "        name_prefix=ENV_TYPE\n",
    "        )\n",
    "\n",
    "for episode in range(1, episodes+1):\n",
    "    terminated, truncated = False, False\n",
    "    reward = 0\n",
    "\n",
    "    value_old_states = []\n",
    "    value_new_states = []\n",
    "    rewards = []\n",
    "    done = []\n",
    "\n",
    "    state, info = env.reset()\n",
    "    # Generate an episode following the policy\n",
    "    while not (terminated or truncated):\n",
    "        # Select the action following the parametrized policy\n",
    "        action_dist = policy_fn.apply(policy_variables, state)\n",
    "        action_dist = np.array(action_dist).astype(np.float64)\n",
    "        # Divide by the total to ensure the values sum to one\n",
    "        action_dist /= action_dist.sum()\n",
    "        action = np.random.choice(np.arange(num_actions), p=action_dist)\n",
    "        # Take the action and observe reward and next state\n",
    "        next_state, reward, terminated, truncated, info = env.step(int(action))\n",
    "        rewards.append(reward)\n",
    "        done.append(terminated or truncated)\n",
    "\n",
    "        value = value_fn.apply(value_variables, state)[0]\n",
    "        next_value = value_fn.apply(value_variables, next_state)[0]\n",
    "\n",
    "\n",
    "        value_old_states.append(value)\n",
    "        value_new_states.append(next_value)\n",
    "\n",
    "\n",
    "        value_loss, value_grads = value_and_grad(value_loss_fn, argnums=0)(value_variables, state, next_state, reward, gamma)\n",
    "        value_updates, value_opt_state = value_optimizer.update(value_grads, value_opt_state, value_variables)\n",
    "        value_variables = optax.apply_updates(value_variables, value_updates)        \n",
    "\n",
    "        policy_loss, policy_grads = value_and_grad(policy_loss_fn, argnums=0)(policy_variables, state, action, rewards, gamma, trace_decay_rate, value_old_states, value_new_states, done)\n",
    "        policy_updates, policy_opt_state = policy_optimizer.update(policy_grads, policy_opt_state, policy_variables)\n",
    "        policy_variables = optax.apply_updates(policy_variables, policy_updates)\n",
    "\n",
    "        state = next_state\n",
    "            \n",
    "\n",
    "    if episode % episode_window == 0:\n",
    "        print(f'Episode {episode} Average Returns: {np.mean(np.array(env.return_queue).flatten()[-episode_window:]) :.2f}')"
   ]
  },
  {
   "attachments": {},
   "cell_type": "markdown",
   "metadata": {},
   "source": [
    "## Plot The Results\n",
    "\n",
    "For cartpole rewards are assigned for the time spent in a non-terminal state. The episode length and rewards will be identical in this case."
   ]
  },
  {
   "cell_type": "code",
   "execution_count": 137,
   "metadata": {},
   "outputs": [
    {
     "data": {
      "image/png": "[encoded data removed]",
      "text/plain": [
       "<Figure size 1200x500 with 2 Axes>"
      ]
     },
     "metadata": {},
     "output_type": "display_data"
    }
   ],
   "source": [
    "# Code used from: https://gymnasium.farama.org/tutorials/blackjack_tutorial/#visualizing-the-training\n",
    "fig, axs = plt.subplots(ncols=2, figsize=(12, 5))\n",
    "axs[0].set_title(\"Episode rewards\")\n",
    "reward_moving_average = (\n",
    "    np.convolve(\n",
    "        np.array(env.return_queue).flatten(), np.ones(episode_window), mode=\"valid\"\n",
    "    )\n",
    "    / episode_window\n",
    ")\n",
    "axs[0].plot(range(len(reward_moving_average)), reward_moving_average)\n",
    "axs[1].set_title(\"Episode lengths\")\n",
    "length_moving_average = (\n",
    "    np.convolve(\n",
    "        np.array(env.length_queue).flatten(), np.ones(episode_window), mode=\"valid\"\n",
    "    )\n",
    "    / episode_window\n",
    ")\n",
    "axs[1].plot(range(len(length_moving_average)), length_moving_average)\n",
    "plt.tight_layout()\n",
    "plt.show()"
   ]
  },
  {
   "attachments": {},
   "cell_type": "markdown",
   "metadata": {},
   "source": [
    "## Training Episode Videos"
   ]
  },
  {
   "attachments": {},
   "cell_type": "markdown",
   "metadata": {},
   "source": [
    "### Episode 0"
   ]
  },
  {
   "cell_type": "code",
   "execution_count": 138,
   "metadata": {},
   "outputs": [
    {
     "data": {
      "text/html": [
       "<video src=\"./videos/generalized_advantage_estimate//CartPole-v1-episode-0.mp4\" controls  >\n",
       "      Your browser does not support the <code>video</code> element.\n",
       "    </video>"
      ],
      "text/plain": [
       "<IPython.core.display.Video object>"
      ]
     },
     "execution_count": 138,
     "metadata": {},
     "output_type": "execute_result"
    }
   ],
   "source": [
    "Video(f\"{VIDEOS_ROOT_DIR}/{ENV_TYPE}-episode-0.mp4\")"
   ]
  },
  {
   "attachments": {},
   "cell_type": "markdown",
   "metadata": {},
   "source": [
    "### Episode 10"
   ]
  },
  {
   "cell_type": "code",
   "execution_count": 139,
   "metadata": {},
   "outputs": [
    {
     "data": {
      "text/html": [
       "<video src=\"./videos/generalized_advantage_estimate//CartPole-v1-episode-10.mp4\" controls  >\n",
       "      Your browser does not support the <code>video</code> element.\n",
       "    </video>"
      ],
      "text/plain": [
       "<IPython.core.display.Video object>"
      ]
     },
     "execution_count": 139,
     "metadata": {},
     "output_type": "execute_result"
    }
   ],
   "source": [
    "Video(f\"{VIDEOS_ROOT_DIR}/{ENV_TYPE}-episode-10.mp4\")"
   ]
  },
  {
   "attachments": {},
   "cell_type": "markdown",
   "metadata": {},
   "source": [
    "### Episode 20"
   ]
  },
  {
   "cell_type": "code",
   "execution_count": 140,
   "metadata": {},
   "outputs": [
    {
     "data": {
      "text/html": [
       "<video src=\"./videos/generalized_advantage_estimate//CartPole-v1-episode-20.mp4\" controls  >\n",
       "      Your browser does not support the <code>video</code> element.\n",
       "    </video>"
      ],
      "text/plain": [
       "<IPython.core.display.Video object>"
      ]
     },
     "execution_count": 140,
     "metadata": {},
     "output_type": "execute_result"
    }
   ],
   "source": [
    "Video(f\"{VIDEOS_ROOT_DIR}/{ENV_TYPE}-episode-20.mp4\")"
   ]
  },
  {
   "attachments": {},
   "cell_type": "markdown",
   "metadata": {},
   "source": [
    "### Episode 30"
   ]
  },
  {
   "cell_type": "code",
   "execution_count": 141,
   "metadata": {},
   "outputs": [
    {
     "data": {
      "text/html": [
       "<video src=\"./videos/generalized_advantage_estimate//CartPole-v1-episode-30.mp4\" controls  >\n",
       "      Your browser does not support the <code>video</code> element.\n",
       "    </video>"
      ],
      "text/plain": [
       "<IPython.core.display.Video object>"
      ]
     },
     "execution_count": 141,
     "metadata": {},
     "output_type": "execute_result"
    }
   ],
   "source": [
    "Video(f\"{VIDEOS_ROOT_DIR}/{ENV_TYPE}-episode-30.mp4\")"
   ]
  },
  {
   "attachments": {},
   "cell_type": "markdown",
   "metadata": {},
   "source": [
    "### Episode 40"
   ]
  },
  {
   "cell_type": "code",
   "execution_count": 142,
   "metadata": {},
   "outputs": [
    {
     "data": {
      "text/html": [
       "<video src=\"./videos/generalized_advantage_estimate//CartPole-v1-episode-40.mp4\" controls  >\n",
       "      Your browser does not support the <code>video</code> element.\n",
       "    </video>"
      ],
      "text/plain": [
       "<IPython.core.display.Video object>"
      ]
     },
     "execution_count": 142,
     "metadata": {},
     "output_type": "execute_result"
    }
   ],
   "source": [
    "Video(f\"{VIDEOS_ROOT_DIR}/{ENV_TYPE}-episode-40.mp4\")"
   ]
  },
  {
   "attachments": {},
   "cell_type": "markdown",
   "metadata": {},
   "source": [
    "### Episode 50"
   ]
  },
  {
   "cell_type": "code",
   "execution_count": 143,
   "metadata": {},
   "outputs": [
    {
     "data": {
      "text/html": [
       "<video src=\"./videos/generalized_advantage_estimate//CartPole-v1-episode-50.mp4\" controls  >\n",
       "      Your browser does not support the <code>video</code> element.\n",
       "    </video>"
      ],
      "text/plain": [
       "<IPython.core.display.Video object>"
      ]
     },
     "execution_count": 143,
     "metadata": {},
     "output_type": "execute_result"
    }
   ],
   "source": [
    "Video(f\"{VIDEOS_ROOT_DIR}/{ENV_TYPE}-episode-50.mp4\")"
   ]
  }
 ],
 "metadata": {
  "kernelspec": {
   "display_name": "flax",
   "language": "python",
   "name": "python3"
  },
  "language_info": {
   "codemirror_mode": {
    "name": "ipython",
    "version": 3
   },
   "file_extension": ".py",
   "mimetype": "text/x-python",
   "name": "python",
   "nbconvert_exporter": "python",
   "pygments_lexer": "ipython3",
   "version": "3.9.13 (main, Oct 13 2022, 21:15:33) \n[GCC 11.2.0]"
  },
  "orig_nbformat": 4,
  "vscode": {
   "interpreter": {
    "hash": "0a8d1f2580cdfde5c5829808ec6fccc81a351d243fb8b1925f7928e44ccf575b"
   }
  }
 },
 "nbformat": 4,
 "nbformat_minor": 2
}
