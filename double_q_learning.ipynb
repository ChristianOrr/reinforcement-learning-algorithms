{
 "cells": [
  {
   "cell_type": "markdown",
   "metadata": {},
   "source": [
    "# Double Q-Learning\n",
    "\n",
    "This notebook shows the tabular reinforcement learning algorithm, Double Q-Learning applied to the Taxi problem (it also works on CliffWalking and FrozenLake) from Open AI's gym. Double Q-Learning is an off-policy Temporal Difference control algorithm. Two action value functions, $Q_1$ and $Q_2$ are used for this method, which are both used for estimating the discounted return and selecting the optimal action, hence the name double learning. This algorithm improves on the standard Q-Learning algorithm by reducing the impact of maximization bias. Maximimization bias can occur when there is uncertainty in the return of the actions in a given state. For example if the return of all the actions in a state is 0, but the estimated returns are non-zero, (some positive and others negative), then the maximum of the values will be positive. This results in a positive bias, which we call a maximization bias.  \n",
    "\n",
    "The action $A$ is selected by using the $\\epsilon$-greedy policy on $(Q_1 + Q_2) / 2$, then with 50% probability the following update is performed:\n",
    "$$Q_1(S_t, A_t) \\leftarrow Q_1(S_t, A_t) + \\alpha [R_{t + 1} + \\gamma Q_2(S_{t + 1}, \\argmax_{a}Q_1(S_{t + 1}, a)) - Q_1(S_t, A_t)]$$\n",
    ", otherwise the following update is performed:\n",
    "$$Q_2(S_t, A_t) \\leftarrow Q_2(S_t, A_t) + \\alpha [R_{t + 1} + \\gamma Q_1(S_{t + 1}, \\argmax_{a}Q_2(S_{t + 1}, a)) - Q_2(S_t, A_t)]$$\n",
    ", where $Q1$ and $Q2$ are the learned action-value functions, $R$ is the reward, $A$ is the action, $\\alpha$ is the step size, $\\gamma$ is the discount rate and $t$ is the time step.\n",
    "\n",
    "The learned action-value functions $Q1$ and $Q2$ directly approximates the optimal action-value function $q_*$ independent of the policy being followed. For more information on Double Q-Learning see section 6.7 of [Reinforcement Learning: An Introduction](http://incompleteideas.net/book/RLbook2018.pdf)."
   ]
  },
  {
   "cell_type": "code",
   "execution_count": 21,
   "metadata": {},
   "outputs": [],
   "source": [
    "import gym\n",
    "import numpy as np\n",
    "import random"
   ]
  },
  {
   "cell_type": "code",
   "execution_count": 22,
   "metadata": {},
   "outputs": [],
   "source": [
    "# Type of environment, options include:\n",
    "# Taxi-v3, CliffWalking-v0, FrozenLake-v1\n",
    "env_type = \"Taxi-v3\"\n",
    "# Create the environment\n",
    "env = gym.make(env_type, render_mode=None)\n",
    "\n",
    "# Number of possible states and actions\n",
    "num_states = env.observation_space.n \n",
    "num_actions = env.action_space.n\n",
    "\n",
    "# Action-value function, \n",
    "# initialized to 0 for all states and actions\n",
    "Q1 = np.zeros([num_states, num_actions])\n",
    "Q2 = np.zeros([num_states, num_actions])"
   ]
  },
  {
   "cell_type": "markdown",
   "metadata": {},
   "source": [
    "## Create An $\\epsilon$-Greedy Policy "
   ]
  },
  {
   "cell_type": "code",
   "execution_count": 23,
   "metadata": {},
   "outputs": [],
   "source": [
    "def policy_fn(state, Q, epsilon, num_actions):\n",
    "    # Create a distribution of actions and divide the epsilon probability between all actions\n",
    "    action_dist = np.ones(num_actions, dtype=float) * epsilon / num_actions\n",
    "    # Find the best action\n",
    "    best_action = np.argmax(Q[state, :])\n",
    "    # Set probability for the best action to (1 - epsilon)\n",
    "    action_dist[best_action] += (1.0 - epsilon)\n",
    "    return action_dist"
   ]
  },
  {
   "cell_type": "markdown",
   "metadata": {},
   "source": [
    "## Learn The Optimal Action-Value Function"
   ]
  },
  {
   "cell_type": "code",
   "execution_count": 24,
   "metadata": {},
   "outputs": [
    {
     "name": "stdout",
     "output_type": "stream",
     "text": [
      "Episode: 10 Return: -3964\n",
      "Episode: 20 Return: -10\n",
      "Episode: 30 Return: -822\n",
      "Episode: 40 Return: -657\n",
      "Episode: 50 Return: -331\n",
      "Episode: 60 Return: -651\n",
      "Episode: 70 Return: -31\n",
      "Episode: 80 Return: -21\n",
      "Episode: 90 Return: -1\n",
      "Episode: 100 Return: -25\n",
      "Episode: 110 Return: -159\n",
      "Episode: 120 Return: -62\n",
      "Episode: 130 Return: -10\n",
      "Episode: 140 Return: -80\n",
      "Episode: 150 Return: -56\n",
      "Episode: 160 Return: -162\n",
      "Episode: 170 Return: 5\n",
      "Episode: 180 Return: -161\n",
      "Episode: 190 Return: -28\n",
      "Episode: 200 Return: -41\n",
      "Episode: 210 Return: 8\n",
      "Episode: 220 Return: 3\n",
      "Episode: 230 Return: -58\n",
      "Episode: 240 Return: 0\n",
      "Episode: 250 Return: -9\n",
      "Episode: 260 Return: 10\n",
      "Episode: 270 Return: -52\n",
      "Episode: 280 Return: -56\n",
      "Episode: 290 Return: -7\n",
      "Episode: 300 Return: -5\n",
      "Episode: 310 Return: 15\n",
      "Episode: 320 Return: 4\n",
      "Episode: 330 Return: -84\n",
      "Episode: 340 Return: 3\n",
      "Episode: 350 Return: -12\n",
      "Episode: 360 Return: 5\n",
      "Episode: 370 Return: 10\n",
      "Episode: 380 Return: -9\n",
      "Episode: 390 Return: -9\n",
      "Episode: 400 Return: 11\n",
      "Episode: 410 Return: 2\n",
      "Episode: 420 Return: 7\n",
      "Episode: 430 Return: 6\n",
      "Episode: 440 Return: -7\n",
      "Episode: 450 Return: 14\n",
      "Episode: 460 Return: -5\n",
      "Episode: 470 Return: 2\n",
      "Episode: 480 Return: 9\n",
      "Episode: 490 Return: -3\n",
      "Episode: 500 Return: -27\n"
     ]
    }
   ],
   "source": [
    "# Number of episodes to train on\n",
    "episodes = 500\n",
    "# Return (accumulation of all rewards over an episode)\n",
    "G = 0\n",
    "returns = []\n",
    "# Discount ratio\n",
    "gamma = 0.99\n",
    "# Step size\n",
    "alpha = 0.618\n",
    "# Probability of taking a non-greedy action\n",
    "epsilon = 0.01\n",
    "\n",
    "for episode in range(1, episodes+1):\n",
    "    terminated, truncated = False, False\n",
    "    G, reward = 0, 0\n",
    "    state, info = env.reset()\n",
    "    while not terminated:\n",
    "        # Select the action following the epsilon-greedy policy\n",
    "        action_dist1 = policy_fn(state, Q1, epsilon, num_actions)\n",
    "        action_dist2 = policy_fn(state, Q2, epsilon, num_actions)\n",
    "        action_dist = (action_dist1 + action_dist2) / 2\n",
    "        action = np.random.choice(np.arange(num_actions), p=action_dist)\n",
    "        # Take the action and observe reward and next state\n",
    "        next_state, reward, terminated, truncated, info = env.step(action)\n",
    "        # Randomly update action value function Q1 or Q2\n",
    "        rand_value = random.uniform(0, 1)\n",
    "        if rand_value > 0.5:\n",
    "            # Update the expected return for the action-value function Q1\n",
    "            Q1[state, action] += alpha * (reward + gamma * Q2[next_state, np.argmax(Q1[next_state, :])] - Q1[state, action]) \n",
    "        else:\n",
    "            # Update the expected return for the action-value function Q2\n",
    "            Q2[state, action] += alpha * (reward + gamma * Q1[next_state, np.argmax(Q2[next_state, :])] - Q2[state, action]) \n",
    "        G += reward\n",
    "        state = next_state\n",
    "\n",
    "    returns.append(G)\n",
    "\n",
    "    if episode % 10 == 0:\n",
    "        print(f'Episode: {episode} Return: {G}')"
   ]
  },
  {
   "cell_type": "markdown",
   "metadata": {},
   "source": [
    "## Plot The Results"
   ]
  },
  {
   "cell_type": "code",
   "execution_count": 25,
   "metadata": {},
   "outputs": [
    {
     "data": {
      "image/png": "[encoded data removed]",
      "text/plain": [
       "<Figure size 640x480 with 1 Axes>"
      ]
     },
     "metadata": {},
     "output_type": "display_data"
    }
   ],
   "source": [
    "import matplotlib.pyplot as plt\n",
    "\n",
    "plt.plot(np.arange(episodes), returns)\n",
    "plt.title(\"Returns Over Episodes\")\n",
    "plt.xlabel(\"Episodes\")\n",
    "plt.ylabel(\"Returns\")\n",
    "plt.show()"
   ]
  },
  {
   "cell_type": "markdown",
   "metadata": {},
   "source": [
    "## Run $q*$ On An Example"
   ]
  },
  {
   "cell_type": "code",
   "execution_count": 26,
   "metadata": {},
   "outputs": [
    {
     "name": "stdout",
     "output_type": "stream",
     "text": [
      "Total Reward: 5, Steps Taken: 16\n"
     ]
    }
   ],
   "source": [
    "# Run the algorithm in inferencing mode and \n",
    "# observe its performance\n",
    "env = gym.make(env_type, render_mode=\"human\")\n",
    "state, info = env.reset(seed=48)\n",
    "G = 0\n",
    "num_steps = 0\n",
    "terminated = False\n",
    "\n",
    "while not terminated:\n",
    "    action = np.argmax(Q[state, :]) \n",
    "    state, reward, terminated, truncated, info = env.step(action)\n",
    "    G += reward\n",
    "    num_steps += 1\n",
    "\n",
    "print(f'Total Reward: {G}, Steps Taken: {num_steps}')\n",
    "\n",
    "env.close()"
   ]
  }
 ],
 "metadata": {
  "kernelspec": {
   "display_name": "Python 3.10.4 ('jax0.3')",
   "language": "python",
   "name": "python3"
  },
  "language_info": {
   "codemirror_mode": {
    "name": "ipython",
    "version": 3
   },
   "file_extension": ".py",
   "mimetype": "text/x-python",
   "name": "python",
   "nbconvert_exporter": "python",
   "pygments_lexer": "ipython3",
   "version": "3.10.4"
  },
  "orig_nbformat": 4,
  "vscode": {
   "interpreter": {
    "hash": "9cc3e2285d016734416124682a618282b04f438db98398baa547b8d92dfbc772"
   }
  }
 },
 "nbformat": 4,
 "nbformat_minor": 2
}
