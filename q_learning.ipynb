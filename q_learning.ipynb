{
 "cells": [
  {
   "cell_type": "code",
   "execution_count": 1,
   "metadata": {},
   "outputs": [],
   "source": [
    "import gym\n",
    "import numpy as np"
   ]
  },
  {
   "cell_type": "code",
   "execution_count": 2,
   "metadata": {},
   "outputs": [],
   "source": [
    "# Type of environment, options include:\n",
    "# Taxi-v3, CliffWalking-v0\n",
    "env_type = \"Taxi-v3\"\n",
    "# Create the environment\n",
    "env = gym.make(env_type, render_mode=None)\n",
    "\n",
    "# Number of possible states and actions\n",
    "num_states = env.observation_space.n \n",
    "num_actions = env.action_space.n\n",
    "\n",
    "# Action-value function, \n",
    "# initialized to 0 for all states and actions\n",
    "Q = np.zeros([num_states, num_actions])"
   ]
  },
  {
   "cell_type": "markdown",
   "metadata": {},
   "source": [
    "## Training"
   ]
  },
  {
   "cell_type": "code",
   "execution_count": 3,
   "metadata": {},
   "outputs": [
    {
     "name": "stdout",
     "output_type": "stream",
     "text": [
      "Episode: 10 Total Reward: -172\n",
      "Episode: 20 Total Reward: -232\n",
      "Episode: 30 Total Reward: -276\n",
      "Episode: 40 Total Reward: -54\n",
      "Episode: 50 Total Reward: 1\n",
      "Episode: 60 Total Reward: -283\n",
      "Episode: 70 Total Reward: -157\n",
      "Episode: 80 Total Reward: 1\n",
      "Episode: 90 Total Reward: -19\n",
      "Episode: 100 Total Reward: -35\n",
      "Episode: 110 Total Reward: -100\n",
      "Episode: 120 Total Reward: -2\n",
      "Episode: 130 Total Reward: 13\n",
      "Episode: 140 Total Reward: 12\n",
      "Episode: 150 Total Reward: -66\n",
      "Episode: 160 Total Reward: 12\n",
      "Episode: 170 Total Reward: 11\n",
      "Episode: 180 Total Reward: -157\n",
      "Episode: 190 Total Reward: -68\n",
      "Episode: 200 Total Reward: 8\n",
      "Episode: 210 Total Reward: 10\n",
      "Episode: 220 Total Reward: 12\n",
      "Episode: 230 Total Reward: 5\n",
      "Episode: 240 Total Reward: 1\n",
      "Episode: 250 Total Reward: -5\n",
      "Episode: 260 Total Reward: 10\n",
      "Episode: 270 Total Reward: 15\n",
      "Episode: 280 Total Reward: -4\n",
      "Episode: 290 Total Reward: 6\n",
      "Episode: 300 Total Reward: 6\n",
      "Episode: 310 Total Reward: 6\n",
      "Episode: 320 Total Reward: 8\n",
      "Episode: 330 Total Reward: -10\n",
      "Episode: 340 Total Reward: 11\n",
      "Episode: 350 Total Reward: 7\n",
      "Episode: 360 Total Reward: 11\n",
      "Episode: 370 Total Reward: -2\n",
      "Episode: 380 Total Reward: 7\n",
      "Episode: 390 Total Reward: 7\n",
      "Episode: 400 Total Reward: 5\n",
      "Episode: 410 Total Reward: 8\n",
      "Episode: 420 Total Reward: 7\n",
      "Episode: 430 Total Reward: 11\n",
      "Episode: 440 Total Reward: 10\n",
      "Episode: 450 Total Reward: 11\n",
      "Episode: 460 Total Reward: 6\n",
      "Episode: 470 Total Reward: 5\n",
      "Episode: 480 Total Reward: 8\n",
      "Episode: 490 Total Reward: 10\n",
      "Episode: 500 Total Reward: 10\n"
     ]
    }
   ],
   "source": [
    "# Number of episodes to train on\n",
    "episodes = 500\n",
    "# Return (accumulation of all rewards over an episode)\n",
    "G = 0\n",
    "# Step size\n",
    "alpha = 0.618\n",
    "\n",
    "for episode in range(1, episodes+1):\n",
    "    terminated, truncated = False, False\n",
    "    G, reward = 0, 0\n",
    "    state, info = env.reset()\n",
    "    firstState = state\n",
    "    while not (terminated):\n",
    "        action = np.argmax(Q[state, :]) \n",
    "        state2, reward, terminated, truncated, info = env.step(action)\n",
    "        Q[state, action] += alpha * (reward + np.max(Q[state2, :]) - Q[state, action]) \n",
    "        G += reward\n",
    "        state = state2\n",
    "\n",
    "    if episode % 10 == 0:\n",
    "        print(f'Episode: {episode} Total Reward: {G}')"
   ]
  },
  {
   "cell_type": "markdown",
   "metadata": {},
   "source": [
    "## Inferencing"
   ]
  },
  {
   "cell_type": "code",
   "execution_count": 4,
   "metadata": {},
   "outputs": [
    {
     "name": "stdout",
     "output_type": "stream",
     "text": [
      "Total Reward: 8, Steps Taken: 13\n"
     ]
    }
   ],
   "source": [
    "# Run the algorithm in inferencing mode and \n",
    "# observe its performance\n",
    "env = gym.make(env_type, render_mode=\"human\")\n",
    "state, info = env.reset(seed=42)\n",
    "G = 0\n",
    "num_steps = 0\n",
    "terminated = False\n",
    "\n",
    "while not terminated:\n",
    "    action = np.argmax(Q[state, :]) \n",
    "    state, reward, terminated, truncated, info = env.step(action)\n",
    "    G += reward\n",
    "    num_steps += 1\n",
    "\n",
    "print(f'Total Reward: {G}, Steps Taken: {num_steps}')\n",
    "\n",
    "env.close()"
   ]
  }
 ],
 "metadata": {
  "kernelspec": {
   "display_name": "Python 3.10.4 ('jax0.3')",
   "language": "python",
   "name": "python3"
  },
  "language_info": {
   "codemirror_mode": {
    "name": "ipython",
    "version": 3
   },
   "file_extension": ".py",
   "mimetype": "text/x-python",
   "name": "python",
   "nbconvert_exporter": "python",
   "pygments_lexer": "ipython3",
   "version": "3.10.4"
  },
  "orig_nbformat": 4,
  "vscode": {
   "interpreter": {
    "hash": "9cc3e2285d016734416124682a618282b04f438db98398baa547b8d92dfbc772"
   }
  }
 },
 "nbformat": 4,
 "nbformat_minor": 2
}
