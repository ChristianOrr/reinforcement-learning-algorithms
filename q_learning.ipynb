{
 "cells": [
  {
   "cell_type": "markdown",
   "metadata": {},
   "source": [
    "# Q-Learning\n",
    "\n",
    "Q-Learning is an off-policy Temporal Difference control algorithm. The algorithm is defined by: \n",
    "$$Q(S_t, A_t) \\leftarrow Q(S_t, A_t) + \\alpha [R_{t + 1} + \\gamma \\max_{a}Q(S_{t + 1}, a) - Q(S_t, A_t)]$$\n",
    ", where $Q$ is the learned action-value function, $R$ is the reward, $A$ is the action, $\\alpha$ is the step size, $\\gamma$ is the discount rate and $t$ is the time step.\n",
    "\n",
    "The learned action-value function $Q$ directly approximates the optimal action-value function $q_*$ independent of the policy being followed. For more information on the Q-Learning algorithm see section 6.5 of [Reinforcement Learning: An Introduction](http://incompleteideas.net/book/RLbook2018.pdf)."
   ]
  },
  {
   "cell_type": "code",
   "execution_count": 8,
   "metadata": {},
   "outputs": [],
   "source": [
    "import gym\n",
    "import numpy as np"
   ]
  },
  {
   "cell_type": "code",
   "execution_count": 9,
   "metadata": {},
   "outputs": [],
   "source": [
    "# Type of environment, options include:\n",
    "# Taxi-v3, CliffWalking-v0, FrozenLake-v1\n",
    "env_type = \"Taxi-v3\"\n",
    "# Create the environment\n",
    "env = gym.make(env_type, render_mode=None)\n",
    "\n",
    "# Number of possible states and actions\n",
    "num_states = env.observation_space.n \n",
    "num_actions = env.action_space.n\n",
    "\n",
    "# Action-value function, \n",
    "# initialized to 0 for all states and actions\n",
    "Q = np.zeros([num_states, num_actions])"
   ]
  },
  {
   "cell_type": "markdown",
   "metadata": {},
   "source": [
    "## Create An $\\epsilon$-Greedy Policy "
   ]
  },
  {
   "cell_type": "code",
   "execution_count": 10,
   "metadata": {},
   "outputs": [],
   "source": [
    "def policy_fn(state, Q, epsilon, num_actions):\n",
    "    # Create a distribution of actions and divide the epsilon probability between all actions\n",
    "    action_dist = np.ones(num_actions, dtype=float) * epsilon / num_actions\n",
    "    # Find the best action\n",
    "    best_action = np.argmax(Q[state, :])\n",
    "    # Set probability for the best action to (1 - epsilon)\n",
    "    action_dist[best_action] += (1.0 - epsilon)\n",
    "    return action_dist"
   ]
  },
  {
   "cell_type": "markdown",
   "metadata": {},
   "source": [
    "## Learn The Optimal Action-Value Function"
   ]
  },
  {
   "cell_type": "code",
   "execution_count": 11,
   "metadata": {},
   "outputs": [
    {
     "name": "stdout",
     "output_type": "stream",
     "text": [
      "Episode: 10 Total Reward: -2405\n",
      "Episode: 20 Total Reward: -270\n",
      "Episode: 30 Total Reward: -72\n",
      "Episode: 40 Total Reward: -6\n",
      "Episode: 50 Total Reward: -151\n",
      "Episode: 60 Total Reward: -160\n",
      "Episode: 70 Total Reward: -132\n",
      "Episode: 80 Total Reward: -449\n",
      "Episode: 90 Total Reward: -108\n",
      "Episode: 100 Total Reward: -67\n",
      "Episode: 110 Total Reward: -7\n",
      "Episode: 120 Total Reward: -20\n",
      "Episode: 130 Total Reward: 3\n",
      "Episode: 140 Total Reward: 5\n",
      "Episode: 150 Total Reward: -253\n",
      "Episode: 160 Total Reward: -1\n",
      "Episode: 170 Total Reward: -134\n",
      "Episode: 180 Total Reward: -19\n",
      "Episode: 190 Total Reward: -10\n",
      "Episode: 200 Total Reward: -13\n",
      "Episode: 210 Total Reward: 0\n",
      "Episode: 220 Total Reward: -63\n",
      "Episode: 230 Total Reward: 3\n",
      "Episode: 240 Total Reward: 4\n",
      "Episode: 250 Total Reward: -17\n",
      "Episode: 260 Total Reward: 1\n",
      "Episode: 270 Total Reward: -25\n",
      "Episode: 280 Total Reward: -4\n",
      "Episode: 290 Total Reward: -6\n",
      "Episode: 300 Total Reward: 7\n",
      "Episode: 310 Total Reward: 6\n",
      "Episode: 320 Total Reward: 0\n",
      "Episode: 330 Total Reward: 0\n",
      "Episode: 340 Total Reward: 5\n",
      "Episode: 350 Total Reward: 12\n",
      "Episode: 360 Total Reward: 0\n",
      "Episode: 370 Total Reward: 2\n",
      "Episode: 380 Total Reward: 1\n",
      "Episode: 390 Total Reward: 7\n",
      "Episode: 400 Total Reward: 7\n",
      "Episode: 410 Total Reward: -2\n",
      "Episode: 420 Total Reward: 9\n",
      "Episode: 430 Total Reward: -6\n",
      "Episode: 440 Total Reward: 9\n",
      "Episode: 450 Total Reward: 5\n",
      "Episode: 460 Total Reward: 8\n",
      "Episode: 470 Total Reward: 6\n",
      "Episode: 480 Total Reward: 13\n",
      "Episode: 490 Total Reward: 1\n",
      "Episode: 500 Total Reward: 5\n",
      "Episode: 510 Total Reward: 0\n",
      "Episode: 520 Total Reward: -3\n",
      "Episode: 530 Total Reward: 9\n",
      "Episode: 540 Total Reward: -16\n",
      "Episode: 550 Total Reward: 1\n",
      "Episode: 560 Total Reward: -4\n",
      "Episode: 570 Total Reward: -20\n",
      "Episode: 580 Total Reward: 8\n",
      "Episode: 590 Total Reward: 8\n",
      "Episode: 600 Total Reward: 9\n",
      "Episode: 610 Total Reward: 4\n",
      "Episode: 620 Total Reward: -7\n",
      "Episode: 630 Total Reward: -4\n",
      "Episode: 640 Total Reward: 2\n",
      "Episode: 650 Total Reward: -2\n",
      "Episode: 660 Total Reward: -8\n",
      "Episode: 670 Total Reward: 4\n",
      "Episode: 680 Total Reward: 4\n",
      "Episode: 690 Total Reward: -3\n",
      "Episode: 700 Total Reward: -27\n",
      "Episode: 710 Total Reward: 6\n",
      "Episode: 720 Total Reward: 0\n",
      "Episode: 730 Total Reward: 14\n",
      "Episode: 740 Total Reward: -5\n",
      "Episode: 750 Total Reward: 7\n",
      "Episode: 760 Total Reward: 0\n",
      "Episode: 770 Total Reward: -27\n",
      "Episode: 780 Total Reward: 2\n",
      "Episode: 790 Total Reward: 6\n",
      "Episode: 800 Total Reward: 10\n",
      "Episode: 810 Total Reward: 4\n",
      "Episode: 820 Total Reward: -9\n",
      "Episode: 830 Total Reward: -2\n",
      "Episode: 840 Total Reward: 4\n",
      "Episode: 850 Total Reward: 11\n",
      "Episode: 860 Total Reward: 7\n",
      "Episode: 870 Total Reward: -3\n",
      "Episode: 880 Total Reward: -4\n",
      "Episode: 890 Total Reward: 10\n",
      "Episode: 900 Total Reward: 7\n",
      "Episode: 910 Total Reward: 4\n",
      "Episode: 920 Total Reward: -6\n",
      "Episode: 930 Total Reward: 10\n",
      "Episode: 940 Total Reward: -1\n",
      "Episode: 950 Total Reward: 6\n",
      "Episode: 960 Total Reward: -3\n",
      "Episode: 970 Total Reward: 11\n",
      "Episode: 980 Total Reward: 4\n",
      "Episode: 990 Total Reward: 3\n",
      "Episode: 1000 Total Reward: 11\n"
     ]
    }
   ],
   "source": [
    "# Number of episodes to train on\n",
    "episodes = 1000\n",
    "# Return (accumulation of all rewards over an episode)\n",
    "G = 0\n",
    "# Step size\n",
    "alpha = 0.618\n",
    "# Probability of taking a non-greedy action\n",
    "epsilon = 0.1\n",
    "\n",
    "for episode in range(1, episodes+1):\n",
    "    terminated, truncated = False, False\n",
    "    G, reward = 0, 0\n",
    "    state, info = env.reset()\n",
    "    firstState = state\n",
    "    while not (terminated):\n",
    "        # Select the next action following the epsilon-greedy policy\n",
    "        action_dist = policy_fn(state, Q, epsilon, num_actions)\n",
    "        action = np.random.choice(np.arange(num_actions), p=action_dist)\n",
    "        # Take the action and observe reward and next state\n",
    "        state2, reward, terminated, truncated, info = env.step(action)\n",
    "        # Update the expected return for the action-value function\n",
    "        Q[state, action] += alpha * (reward + np.max(Q[state2, :]) - Q[state, action]) \n",
    "        G += reward\n",
    "        state = state2\n",
    "\n",
    "    if episode % 10 == 0:\n",
    "        print(f'Episode: {episode} Total Reward: {G}')"
   ]
  },
  {
   "cell_type": "markdown",
   "metadata": {},
   "source": [
    "## Run $q*$ On An Example"
   ]
  },
  {
   "cell_type": "code",
   "execution_count": 12,
   "metadata": {},
   "outputs": [
    {
     "name": "stdout",
     "output_type": "stream",
     "text": [
      "Total Reward: 4, Steps Taken: 17\n"
     ]
    }
   ],
   "source": [
    "# Run the algorithm in inferencing mode and \n",
    "# observe its performance\n",
    "env = gym.make(env_type, render_mode=\"human\")\n",
    "state, info = env.reset(seed=64)\n",
    "G = 0\n",
    "num_steps = 0\n",
    "terminated = False\n",
    "\n",
    "while not terminated:\n",
    "    action = np.argmax(Q[state, :]) \n",
    "    state, reward, terminated, truncated, info = env.step(action)\n",
    "    G += reward\n",
    "    num_steps += 1\n",
    "\n",
    "print(f'Total Reward: {G}, Steps Taken: {num_steps}')\n",
    "\n",
    "env.close()"
   ]
  }
 ],
 "metadata": {
  "kernelspec": {
   "display_name": "Python 3.10.4 ('jax0.3')",
   "language": "python",
   "name": "python3"
  },
  "language_info": {
   "codemirror_mode": {
    "name": "ipython",
    "version": 3
   },
   "file_extension": ".py",
   "mimetype": "text/x-python",
   "name": "python",
   "nbconvert_exporter": "python",
   "pygments_lexer": "ipython3",
   "version": "3.10.4"
  },
  "orig_nbformat": 4,
  "vscode": {
   "interpreter": {
    "hash": "9cc3e2285d016734416124682a618282b04f438db98398baa547b8d92dfbc772"
   }
  }
 },
 "nbformat": 4,
 "nbformat_minor": 2
}
