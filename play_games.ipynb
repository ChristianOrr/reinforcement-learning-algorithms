{
 "cells": [
  {
   "cell_type": "code",
   "execution_count": 5,
   "metadata": {},
   "outputs": [],
   "source": [
    "import gym\n",
    "import pygame\n",
    "from gym.utils.play import play\n"
   ]
  },
  {
   "cell_type": "markdown",
   "metadata": {},
   "source": [
    "### Cartpole"
   ]
  },
  {
   "cell_type": "code",
   "execution_count": 2,
   "metadata": {},
   "outputs": [],
   "source": [
    "mapping = {\n",
    "    (pygame.K_LEFT,): 0, \n",
    "    (pygame.K_RIGHT,): 1\n",
    "    }\n",
    "\n",
    "\n",
    "play(gym.make(\"CartPole-v1\", render_mode=\"rgb_array\"), keys_to_action=mapping)"
   ]
  },
  {
   "cell_type": "markdown",
   "metadata": {},
   "source": [
    "### Cliff Walking"
   ]
  },
  {
   "cell_type": "code",
   "execution_count": 13,
   "metadata": {},
   "outputs": [],
   "source": [
    "mapping = {\n",
    "    (pygame.K_UP,): 0, \n",
    "    (pygame.K_RIGHT,): 1,\n",
    "    (pygame.K_DOWN,): 2,\n",
    "    (pygame.K_LEFT,): 3\n",
    "    }\n",
    "\n",
    "play(gym.make(\"CliffWalking-v0\", render_mode=\"rgb_array\"), keys_to_action=mapping)"
   ]
  },
  {
   "cell_type": "markdown",
   "metadata": {},
   "source": [
    "### Taxi"
   ]
  },
  {
   "cell_type": "code",
   "execution_count": 11,
   "metadata": {},
   "outputs": [],
   "source": [
    "mapping = {\n",
    "    (pygame.K_DOWN,): 0, \n",
    "    (pygame.K_UP,): 1,\n",
    "    (pygame.K_RIGHT,): 2,\n",
    "    (pygame.K_LEFT,): 3,\n",
    "    (pygame.K_SPACE,): 4, # Space to pick up passenger\n",
    "    (pygame.K_LSHIFT,): 5 # Left shift to drop off passanger\n",
    "    }\n",
    "\n",
    "play(gym.make(\"Taxi-v3\", render_mode=\"rgb_array\"), keys_to_action=mapping)"
   ]
  },
  {
   "cell_type": "markdown",
   "metadata": {},
   "source": [
    "### Frozen Lake\n"
   ]
  },
  {
   "cell_type": "code",
   "execution_count": 3,
   "metadata": {},
   "outputs": [],
   "source": [
    "mapping = {\n",
    "    (pygame.K_LEFT,): 0, \n",
    "    (pygame.K_DOWN,): 1,\n",
    "    (pygame.K_RIGHT,): 2,\n",
    "    (pygame.K_UP,): 3\n",
    "    }\n",
    "\n",
    "play(gym.make(\"FrozenLake-v1\", render_mode=\"rgb_array\"), keys_to_action=mapping)"
   ]
  },
  {
   "cell_type": "markdown",
   "metadata": {},
   "source": [
    "## Breakout"
   ]
  },
  {
   "cell_type": "code",
   "execution_count": 7,
   "metadata": {},
   "outputs": [
    {
     "name": "stderr",
     "output_type": "stream",
     "text": [
      "\u001b[31mERROR: PlayableGame wrapper works only with rgb_array and rgb_array_list render modes, but your environment render_mode = None.\u001b[0m\n",
      "/home/ubuntu20/anaconda3/envs/jax0.3/lib/python3.10/site-packages/gym/utils/passive_env_checker.py:289: UserWarning: \u001b[33mWARN: No render fps was declared in the environment (env.metadata['render_fps'] is None or not defined), rendering may occur at inconsistent fps.\u001b[0m\n",
      "  logger.warn(\n"
     ]
    }
   ],
   "source": [
    "mapping = {\n",
    "    (pygame.K_LSHIFT,): 0, \n",
    "    (pygame.K_SPACE,): 1,\n",
    "    (pygame.K_RIGHT,): 2,\n",
    "    (pygame.K_LEFT,): 3\n",
    "    }\n",
    "\n",
    "play(gym.make(\"ALE/Breakout-v5\", render_mode=\"rgb_array\", full_action_space=False), keys_to_action=mapping)"
   ]
  },
  {
   "cell_type": "markdown",
   "metadata": {},
   "source": [
    "## Pong"
   ]
  },
  {
   "cell_type": "code",
   "execution_count": 9,
   "metadata": {},
   "outputs": [
    {
     "name": "stderr",
     "output_type": "stream",
     "text": [
      "\u001b[31mERROR: PlayableGame wrapper works only with rgb_array and rgb_array_list render modes, but your environment render_mode = None.\u001b[0m\n",
      "/home/ubuntu20/anaconda3/envs/jax0.3/lib/python3.10/site-packages/gym/utils/passive_env_checker.py:289: UserWarning: \u001b[33mWARN: No render fps was declared in the environment (env.metadata['render_fps'] is None or not defined), rendering may occur at inconsistent fps.\u001b[0m\n",
      "  logger.warn(\n"
     ]
    }
   ],
   "source": [
    "mapping = {\n",
    "    (pygame.K_LSHIFT,): 0, \n",
    "    (pygame.K_SPACE,): 1,\n",
    "    (pygame.K_RIGHT,): 2,\n",
    "    (pygame.K_LEFT,): 3,\n",
    "    (pygame.K_d,): 4,\n",
    "    (pygame.K_a,): 5\n",
    "    }\n",
    "\n",
    "play(gym.make(\"ALE/Pong-v5\", render_mode=\"rgb_array\", full_action_space=False, difficulty=0), keys_to_action=mapping)"
   ]
  }
 ],
 "metadata": {
  "kernelspec": {
   "display_name": "Python 3.10.4 ('jax0.3')",
   "language": "python",
   "name": "python3"
  },
  "language_info": {
   "codemirror_mode": {
    "name": "ipython",
    "version": 3
   },
   "file_extension": ".py",
   "mimetype": "text/x-python",
   "name": "python",
   "nbconvert_exporter": "python",
   "pygments_lexer": "ipython3",
   "version": "3.10.4"
  },
  "orig_nbformat": 4,
  "vscode": {
   "interpreter": {
    "hash": "9cc3e2285d016734416124682a618282b04f438db98398baa547b8d92dfbc772"
   }
  }
 },
 "nbformat": 4,
 "nbformat_minor": 2
}
