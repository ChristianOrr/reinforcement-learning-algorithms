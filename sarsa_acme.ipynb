{
 "cells": [
  {
   "cell_type": "markdown",
   "metadata": {},
   "source": [
    "# 1-Step SARSA Using Acme\n",
    "\n",
    "This notebook shows the tabular reinforcement learning algorithm, 1-step SARSA applied to the Taxi problem (it also works on CliffWalking and FrozenLake) from Open AI's gym. 1-step SARSA is an on-policy Temporal Difference control algorithm. The algorithm is defined by: \n",
    "$$Q(S_t, A_t) \\leftarrow Q(S_t, A_t) + \\alpha [R_{t + 1} + \\gamma Q(S_{t + 1}, A_{t + 1}) - Q(S_t, A_t)]$$\n",
    ", where $Q$ is the learned action-value function, $R$ is the reward, $A$ is the action, $\\alpha$ is the step size, $\\gamma$ is the discount rate and $t$ is the time step.\n",
    "\n",
    "For more information on the SARSA algorithm see section 6.4 of [Reinforcement Learning: An Introduction](http://incompleteideas.net/book/RLbook2018.pdf). For alternative implementations of 1-step SARSA see: [SARSA Example by Denny Britz](https://github.com/dennybritz/reinforcement-learning/blob/master/TD/SARSA%20Solution.ipynb), [Intro to DeepMind’s Reinforcement Learning Framework “Acme”](https://towardsdatascience.com/deepminds-reinforcement-learning-framework-acme-87934fa223bf)."
   ]
  },
  {
   "cell_type": "code",
   "execution_count": 1,
   "metadata": {},
   "outputs": [],
   "source": [
    "import acme\n",
    "from acme import types\n",
    "from acme.wrappers import GymWrapper\n",
    "from acme.environment_loop import EnvironmentLoop\n",
    "from acme.utils.loggers import TerminalLogger, InMemoryLogger\n",
    "import pandas as pd\n",
    "import gym\n",
    "import dm_env\n",
    "import numpy as np\n",
    "import tree"
   ]
  },
  {
   "cell_type": "markdown",
   "metadata": {},
   "source": [
    "## Patch The Acme GymWrapper Class"
   ]
  },
  {
   "cell_type": "code",
   "execution_count": 2,
   "metadata": {},
   "outputs": [],
   "source": [
    "def patched_step(self, action: types.NestedArray) -> dm_env.TimeStep:\n",
    "    \"\"\"Steps the environment.\"\"\"\n",
    "    if self._reset_next_step:\n",
    "        return self.reset()\n",
    "\n",
    "    # Added change to include truncated paramater\n",
    "    observation, reward, done, truncated, info = self._environment.step(action)\n",
    "    self._reset_next_step = done\n",
    "    self._last_info = info\n",
    "\n",
    "    # Convert the type of the reward based on the spec, respecting the scalar or\n",
    "    # array property.\n",
    "    reward = tree.map_structure(\n",
    "        lambda x, t: (  # pylint: disable=g-long-lambda\n",
    "            t.dtype.type(x)\n",
    "            if np.isscalar(x) else np.asarray(x, dtype=t.dtype)),\n",
    "        reward,\n",
    "        self.reward_spec())\n",
    "\n",
    "    if done:\n",
    "        if truncated:\n",
    "            return dm_env.truncation(reward, observation)\n",
    "        return dm_env.termination(reward, observation)\n",
    "    return dm_env.transition(reward, observation)\n",
    "\n",
    "def patched_reset(self) -> dm_env.TimeStep:\n",
    "    \"\"\"Resets the episode.\"\"\"\n",
    "    self._reset_next_step = False\n",
    "    observation, info = self._environment.reset()\n",
    "    # Reset the diagnostic information.\n",
    "    self._last_info = None\n",
    "    return dm_env.restart(observation)\n",
    "\n",
    "\n",
    "GymWrapper.step = patched_step\n",
    "GymWrapper.reset = patched_reset"
   ]
  },
  {
   "cell_type": "markdown",
   "metadata": {},
   "source": [
    "## Select Environment"
   ]
  },
  {
   "cell_type": "code",
   "execution_count": 3,
   "metadata": {},
   "outputs": [],
   "source": [
    "# Type of environment, options include:\n",
    "# Taxi-v3, CliffWalking-v0, FrozenLake-v1\n",
    "env_type = \"Taxi-v3\"\n",
    "# Create the environment\n",
    "env = GymWrapper(gym.make(env_type, render_mode=None))\n",
    "\n",
    "# Number of possible states and actions\n",
    "num_states = env.observation_space.n \n",
    "num_actions = env.action_space.n\n",
    "\n",
    "# Action-value function, \n",
    "# initialized to 0 for all states and actions\n",
    "Q = np.zeros([num_states, num_actions])"
   ]
  },
  {
   "cell_type": "code",
   "execution_count": 4,
   "metadata": {},
   "outputs": [
    {
     "name": "stdout",
     "output_type": "stream",
     "text": [
      "Observation Spec: Discrete(500)\n",
      "Action Spec: Discrete(6)\n",
      "Reward Spec: (-inf, inf)\n"
     ]
    }
   ],
   "source": [
    "# print env specs\n",
    "env_specs = env.observation_space, env.action_space, env.reward_range # env.observation_spec()\n",
    "print('Observation Spec:', env.observation_space)\n",
    "print('Action Spec:', env.action_space)\n",
    "print('Reward Spec:', env.reward_range)"
   ]
  },
  {
   "cell_type": "markdown",
   "metadata": {},
   "source": [
    "## Create SARSA Agent"
   ]
  },
  {
   "cell_type": "code",
   "execution_count": 6,
   "metadata": {},
   "outputs": [],
   "source": [
    "class SARSAAgent(acme.Actor):\n",
    "\n",
    "    def __init__(self, Q, num_states, num_actions, gamma=0.99, epsilon=0.01, alpha=0.618):\n",
    "\n",
    "        self.Q = Q\n",
    "\n",
    "        self.num_states = num_states\n",
    "        self.num_actions = num_actions \n",
    "        self.gamma = gamma\n",
    "        self.epsilon = epsilon\n",
    "        self.alpha = alpha\n",
    "\n",
    "\n",
    "    def policy_fn(self, state):\n",
    "        # Create a distribution of actions and divide the epsilon probability between all actions\n",
    "        action_dist = np.ones(self.num_actions, dtype=float) * self.epsilon / self.num_actions\n",
    "        # Find the best action\n",
    "        best_action = np.argmax(self.Q[state, :])\n",
    "        # Set probability for the best action to (1 - epsilon)\n",
    "        action_dist[best_action] += (1.0 - self.epsilon)\n",
    "        return action_dist\n",
    "\n",
    "\n",
    "    def select_action(self, observation: types.NestedArray):\n",
    "        state = observation\n",
    "        action_dist = self.policy_fn(state)\n",
    "        action = np.random.choice(np.arange(num_actions), p=action_dist)\n",
    "        return action\n",
    "\n",
    "    def observe_first(self, timestep: dm_env.TimeStep):\n",
    "        self.timestep = timestep\n",
    "\n",
    "    def observe(self, action: types.NestedArray, next_timestep: dm_env.TimeStep):\n",
    "        self.action = action\n",
    "        self.next_timestep = next_timestep\n",
    "\n",
    "    def update(self, wait: bool = False):\n",
    "        # get variables for convenience\n",
    "        state = self.timestep.observation\n",
    "        _, reward, discount, next_state = self.next_timestep\n",
    "        action = self.action\n",
    "        \n",
    "        # sample a next action\n",
    "        next_action_dist = self.policy_fn(next_state)\n",
    "        next_action = np.random.choice(np.arange(self.num_actions), p=next_action_dist)\n",
    "\n",
    "        # compute and apply the TD error\n",
    "        self.Q[state][action] += self.alpha * (reward + self.gamma * self.Q[next_state, next_action] - self.Q[state, action]) \n",
    "        \n",
    "        # finally, set timestep to next_timestep\n",
    "        self.timestep = self.next_timestep        \n",
    "\n",
    "        "
   ]
  },
  {
   "cell_type": "code",
   "execution_count": 7,
   "metadata": {},
   "outputs": [],
   "source": [
    "sarsa = SARSAAgent(Q, num_states, num_actions)"
   ]
  },
  {
   "cell_type": "markdown",
   "metadata": {},
   "source": [
    "## Learn The Optimal Action-Value Function"
   ]
  },
  {
   "cell_type": "code",
   "execution_count": 8,
   "metadata": {},
   "outputs": [],
   "source": [
    "loop = EnvironmentLoop(env, sarsa, logger=InMemoryLogger())\n",
    "loop.run(500)"
   ]
  },
  {
   "cell_type": "markdown",
   "metadata": {},
   "source": [
    "## Plot The Results"
   ]
  },
  {
   "cell_type": "code",
   "execution_count": 9,
   "metadata": {},
   "outputs": [
    {
     "data": {
      "text/html": [
       "<div>\n",
       "<style scoped>\n",
       "    .dataframe tbody tr th:only-of-type {\n",
       "        vertical-align: middle;\n",
       "    }\n",
       "\n",
       "    .dataframe tbody tr th {\n",
       "        vertical-align: top;\n",
       "    }\n",
       "\n",
       "    .dataframe thead th {\n",
       "        text-align: right;\n",
       "    }\n",
       "</style>\n",
       "<table border=\"1\" class=\"dataframe\">\n",
       "  <thead>\n",
       "    <tr style=\"text-align: right;\">\n",
       "      <th></th>\n",
       "      <th>episode_length</th>\n",
       "      <th>episode_return</th>\n",
       "      <th>steps_per_second</th>\n",
       "      <th>episodes</th>\n",
       "      <th>steps</th>\n",
       "    </tr>\n",
       "  </thead>\n",
       "  <tbody>\n",
       "    <tr>\n",
       "      <th>0</th>\n",
       "      <td>260</td>\n",
       "      <td>-662.0</td>\n",
       "      <td>7964.702050</td>\n",
       "      <td>1</td>\n",
       "      <td>260</td>\n",
       "    </tr>\n",
       "    <tr>\n",
       "      <th>1</th>\n",
       "      <td>1157</td>\n",
       "      <td>-2504.0</td>\n",
       "      <td>11947.789407</td>\n",
       "      <td>2</td>\n",
       "      <td>1417</td>\n",
       "    </tr>\n",
       "    <tr>\n",
       "      <th>2</th>\n",
       "      <td>672</td>\n",
       "      <td>-1461.0</td>\n",
       "      <td>10343.650252</td>\n",
       "      <td>3</td>\n",
       "      <td>2089</td>\n",
       "    </tr>\n",
       "    <tr>\n",
       "      <th>3</th>\n",
       "      <td>570</td>\n",
       "      <td>-1386.0</td>\n",
       "      <td>12141.781893</td>\n",
       "      <td>4</td>\n",
       "      <td>2659</td>\n",
       "    </tr>\n",
       "    <tr>\n",
       "      <th>4</th>\n",
       "      <td>251</td>\n",
       "      <td>-230.0</td>\n",
       "      <td>11389.550312</td>\n",
       "      <td>5</td>\n",
       "      <td>2910</td>\n",
       "    </tr>\n",
       "  </tbody>\n",
       "</table>\n",
       "</div>"
      ],
      "text/plain": [
       "   episode_length episode_return  steps_per_second  episodes  steps\n",
       "0             260         -662.0       7964.702050         1    260\n",
       "1            1157        -2504.0      11947.789407         2   1417\n",
       "2             672        -1461.0      10343.650252         3   2089\n",
       "3             570        -1386.0      12141.781893         4   2659\n",
       "4             251         -230.0      11389.550312         5   2910"
      ]
     },
     "execution_count": 9,
     "metadata": {},
     "output_type": "execute_result"
    }
   ],
   "source": [
    "logger_df = pd.DataFrame(loop._logger.data)\n",
    "logger_df.head()"
   ]
  },
  {
   "cell_type": "code",
   "execution_count": 10,
   "metadata": {},
   "outputs": [
    {
     "data": {
      "image/png": "[encoded data removed]",
      "text/plain": [
       "<Figure size 640x480 with 1 Axes>"
      ]
     },
     "metadata": {},
     "output_type": "display_data"
    }
   ],
   "source": [
    "import matplotlib.pyplot as plt\n",
    "\n",
    "plt.plot(logger_df[\"episodes\"], logger_df[\"episode_return\"])\n",
    "plt.title(\"Returns Over Episodes\")\n",
    "plt.xlabel(\"Episodes\")\n",
    "plt.ylabel(\"Returns\")\n",
    "plt.show()"
   ]
  },
  {
   "cell_type": "markdown",
   "metadata": {},
   "source": [
    "## Run $q_{\\pi}$ On An Example"
   ]
  },
  {
   "cell_type": "code",
   "execution_count": 11,
   "metadata": {},
   "outputs": [
    {
     "name": "stdout",
     "output_type": "stream",
     "text": [
      "Total Reward: 4, Steps Taken: 17\n"
     ]
    }
   ],
   "source": [
    "# Run the algorithm in inferencing mode and \n",
    "# observe its performance\n",
    "env = gym.make(env_type, render_mode=\"human\")\n",
    "state, info = env.reset(seed=64)\n",
    "G = 0\n",
    "num_steps = 0\n",
    "terminated = False\n",
    "\n",
    "while not terminated:\n",
    "    action = np.argmax(Q[state, :]) \n",
    "    state, reward, terminated, truncated, info = env.step(action)\n",
    "    G += reward\n",
    "    num_steps += 1\n",
    "\n",
    "print(f'Total Reward: {G}, Steps Taken: {num_steps}')\n",
    "\n",
    "env.close()"
   ]
  }
 ],
 "metadata": {
  "kernelspec": {
   "display_name": "Python 3.10.4 ('jax0.3')",
   "language": "python",
   "name": "python3"
  },
  "language_info": {
   "codemirror_mode": {
    "name": "ipython",
    "version": 3
   },
   "file_extension": ".py",
   "mimetype": "text/x-python",
   "name": "python",
   "nbconvert_exporter": "python",
   "pygments_lexer": "ipython3",
   "version": "3.10.4"
  },
  "orig_nbformat": 4,
  "vscode": {
   "interpreter": {
    "hash": "9cc3e2285d016734416124682a618282b04f438db98398baa547b8d92dfbc772"
   }
  }
 },
 "nbformat": 4,
 "nbformat_minor": 2
}
